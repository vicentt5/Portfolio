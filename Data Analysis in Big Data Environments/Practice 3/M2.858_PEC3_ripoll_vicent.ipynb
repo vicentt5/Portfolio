{
 "cells": [
  {
   "cell_type": "markdown",
   "metadata": {},
   "source": [
    "Before you turn this problem in, make sure everything runs as expected. First, **restart the kernel** (in the menubar, select Kernel$\\rightarrow$Restart) and then **run all cells** (in the menubar, select Cell$\\rightarrow$Run All).\n",
    "\n",
    "Make sure you fill in any place that says `YOUR CODE HERE` or \"YOUR ANSWER HERE\", as well as your name and collaborators below:"
   ]
  },
  {
   "cell_type": "code",
   "execution_count": 153,
   "metadata": {},
   "outputs": [],
   "source": [
    "NAME = \"Vicent Ripoll Ramírez\"\n",
    "COLLABORATORS = \"\""
   ]
  },
  {
   "cell_type": "markdown",
   "metadata": {},
   "source": [
    "---"
   ]
  },
  {
   "cell_type": "markdown",
   "metadata": {
    "deletable": false,
    "editable": false,
    "nbgrader": {
     "cell_type": "markdown",
     "checksum": "8644d62deca81600ce8f1e0a9e5e9d65",
     "grade": false,
     "grade_id": "intro",
     "locked": true,
     "schema_version": 3,
     "solution": false,
     "task": false
    }
   },
   "source": [
    "![Spark Logo](http://spark-mooc.github.io/web-assets/images/ta_Spark-logo-small.png)  ![Python Logo](http://spark-mooc.github.io/web-assets/images/python-logo-master-v3-TM-flattened_small.png)\n",
    "# PEC 3: Noviembre 2022\n",
    "\n",
    "## Extracción de conocimiento de fuentes de datos heterogéneas mediante Spark SQL, RDDs y GraphFrames\n",
    "\n",
    "En está práctica vamos a introducir los elementos que ofrece Spark para trabajar con estructuras de datos. Veremos desde estructuras muy simples hasta estructuras complejas, donde los campos pueden a su vez tener campos anidados. En concreto utilizaremos datos de twitter capturados en el contexto de las elecciones generales en España del 28 de Abril de 2019. La práctica está estructurada de la siguiente manera:\n",
    "- **Parte 0:** Configuración del entorno\n",
    "- **Parte 1:** Introducción a data frames estructurados y cómo operar extraer información *(2 puntos)*\n",
    "    - **Parte 1.1:** Importar los datos *(0.25 puntos)*\n",
    "    - **Parte 1.2:** *Queries* sobre sobre data frames complejos *(1.75 puntos)*\n",
    "        - **Parte 1.2.1:** Queries SQL *(0.75 puntos)*\n",
    "        - **Parte 1.2.2:** Queries sobre el pipeline *(1 punto)*\n",
    "- **Parte 2:** Bases de datos HIVE y operaciones complejas *(3 puntos)*\n",
    "    - **Parte 2.1:** Bases de datos Hive *(0.25 puntos)*\n",
    "    - **Parte 2.2:** Más allá de las transformaciones SQL *(2.75 puntos)*\n",
    "        - **Parte 2.2.1:** Tweets por población  *(1.25 puntos)*\n",
    "            - **Parte 2.2.1.1:** Utilizando SQL *(0.25 puntos)*\n",
    "            - **Parte 2.2.1.2:** Utilizando RDD *(1 punto)*\n",
    "        - **Parte 2.2.2:** Contar hashtags *(1.5 puntos)*\n",
    "- **Parte 3:** Sampling *(2 Puntos)*\n",
    "    - **Parte 3.1:** Homogéneo *(1 punto)*\n",
    "    - **Parte 3.2:** Estratificado *(1 puntos)*\n",
    "- **Parte 4**: Introducción a los datos relacionales *(2 puntos)*\n",
    "    - **Parte 4.1:** Generar la red de retweets *(1.5 punto)*\n",
    "        - **Parte 4.1.1**: Construcción de la edgelist *(0.75 puntos)*\n",
    "        - **Parte 4.1.2**: Centralidad de grado *(0.75 puntos)*\n",
    "    - **Parte 4.2:** Análisis de redes utilitzando GraphFrames *(0.5 punto)*\n",
    "- **Parte 5**: Preguntas teóricas *(1 puntos)*"
   ]
  },
  {
   "cell_type": "markdown",
   "metadata": {
    "deletable": false,
    "editable": false,
    "nbgrader": {
     "cell_type": "markdown",
     "checksum": "d845d2e6b513fb518a5a6f2165d32d61",
     "grade": false,
     "grade_id": "Parte0_header",
     "locked": true,
     "schema_version": 3,
     "solution": false,
     "task": false
    }
   },
   "source": [
    "## **Parte 0:** Configuración del entorno"
   ]
  },
  {
   "cell_type": "code",
   "execution_count": 3,
   "metadata": {
    "deletable": false,
    "editable": false,
    "nbgrader": {
     "cell_type": "code",
     "checksum": "1019c3cf9d0efe96cc1d9afdf24f0548",
     "grade": false,
     "grade_id": "importspark",
     "locked": true,
     "schema_version": 3,
     "solution": false,
     "task": false
    }
   },
   "outputs": [],
   "source": [
    "import findspark\n",
    "findspark.init()"
   ]
  },
  {
   "cell_type": "code",
   "execution_count": 4,
   "metadata": {
    "deletable": false,
    "editable": false,
    "nbgrader": {
     "cell_type": "code",
     "checksum": "4ac204ea47d4c0ba2422851f2491df1f",
     "grade": false,
     "grade_id": "importlibraries",
     "locked": true,
     "schema_version": 3,
     "solution": false,
     "task": false
    }
   },
   "outputs": [],
   "source": [
    "import re\n",
    "import os\n",
    "import pandas as pd\n",
    "from matplotlib import pyplot as plt\n",
    "from math import floor\n",
    "from pyspark import SparkConf, SparkContext, SQLContext, HiveContext\n",
    "from pyspark.sql import Row"
   ]
  },
  {
   "cell_type": "code",
   "execution_count": 5,
   "metadata": {},
   "outputs": [],
   "source": [
    "SUBMIT_ARGS = \"--jars /opt/cloudera/parcels/CDH-6.2.0-1.cdh6.2.0.p0.967373/jars/graphframes_graphframes-0.7.0-spark2.4-s_2.11.jar pyspark-shell\"\n",
    "\n",
    "os.environ[\"PYSPARK_SUBMIT_ARGS\"] = SUBMIT_ARGS\n",
    "\n",
    "conf = SparkConf()\n",
    "conf.setMaster(\"local[1]\")\n",
    "# Introducid el nombre de la app PEC3_ seguido de vuestro nombre de usuario\n",
    "conf.setAppName(\"PEC3_vripollr\")\n",
    "sc = SparkContext(conf=conf)"
   ]
  },
  {
   "cell_type": "markdown",
   "metadata": {
    "deletable": false,
    "editable": false,
    "nbgrader": {
     "cell_type": "markdown",
     "checksum": "b4c2dfb28a368dad0bddaf7eadbc1025",
     "grade": false,
     "grade_id": "parte1_1_intro",
     "locked": true,
     "schema_version": 3,
     "solution": false,
     "task": false
    },
    "toc-hr-collapsed": false
   },
   "source": [
    "## **Parte 1:** Introducción a data frames estructurados i operaciones sobre ellos.\n",
    "\n",
    "Como ya se ha mencionado, en esta práctica vamos ha utilizar datos de Twitter que recolectamos durante las elecciones generales en España del 28 de abril de 2019. Como veremos, los tweets tienen una estructura interna bastante compleja que hemos simplificado un poco en esta práctica.\n",
    "\n",
    "### **Parte 1.1:** Importar los datos\n",
    "\n",
    "Lo primero que vamos ha aprender es cómo importar este tipo de datos a nuestro entorno. Uno de los tipos de archivos más comunes para guardar este formato de información es [la estructura JSON](https://en.wikipedia.org/wiki/JSON). Esta estructura permite guardar información en un texto plano de diferentes objetos siguiendo una estructura de diccionario donde cada campo tiene asignado una clave y un valor. La estructura puede ser anidada, o sea que una clave puede tener como valor otra estructura de tipo diccionario.\n",
    "\n",
    "Spark SQL permite leer datos de muchos formatos diferentes. Se os pide que [leáis un fichero JSON](https://spark.apache.org/docs/2.4.0/sql-data-sources-json.html) de la ruta ```/aula_M2.858/data/tweets28a_sample.json```. Este archivo contiene un pequeño *sample*, un 0.1% de la base de datos completa (en un siguiente apartado veremos cómo realizar este *sampleado*). En esta ocasión no se os pide especificar la estructura del dataframe ya que la función de lectura la inferirá automáticamente.\n",
    "\n",
    "**Esquema**\n",
    "\n",
    "```Python\n",
    "sqlContext = SQLContext(sc)\n",
    "tweets_sample = sqlContext.read.<FILL IN>\n",
    "\n",
    "print(\"Loaded dataset contains %d tweets\" % tweets_sample.count())\n",
    "```"
   ]
  },
  {
   "cell_type": "code",
   "execution_count": 6,
   "metadata": {
    "deletable": false,
    "nbgrader": {
     "cell_type": "code",
     "checksum": "7f04ecc8fe795af3dcfd4e51643a90e5",
     "grade": false,
     "grade_id": "load_tweets",
     "locked": false,
     "schema_version": 3,
     "solution": true,
     "task": false
    }
   },
   "outputs": [
    {
     "name": "stdout",
     "output_type": "stream",
     "text": [
      "Loaded dataset contains 27268 tweets\n"
     ]
    }
   ],
   "source": [
    "sqlContext = SQLContext(sc)\n",
    "tweets_sample = sqlContext.read.json(\"/aula_M2.858/data/tweets28a_sample.json\")\n",
    "\n",
    "print(\"Loaded dataset contains %d tweets\" % tweets_sample.count())"
   ]
  },
  {
   "cell_type": "code",
   "execution_count": 7,
   "metadata": {
    "deletable": false,
    "editable": false,
    "nbgrader": {
     "cell_type": "code",
     "checksum": "5b32e31dcac7cd3cb12f5ff8c4ec967f",
     "grade": true,
     "grade_id": "cell-ac6d02ab7a3980d0",
     "locked": true,
     "points": 0.125,
     "schema_version": 3,
     "solution": false,
     "task": false
    }
   },
   "outputs": [],
   "source": [
    "assert tweets_sample.count() == 27268, \"Incorrect answer\""
   ]
  },
  {
   "cell_type": "markdown",
   "metadata": {
    "deletable": false,
    "editable": false,
    "nbgrader": {
     "cell_type": "markdown",
     "checksum": "d59f2e2ec53cd32f43dc347686a866aa",
     "grade": false,
     "grade_id": "cell-0b021e1dd0a4438c",
     "locked": true,
     "schema_version": 3,
     "solution": false,
     "task": false
    }
   },
   "source": [
    "El siguiente paso es mostrar la estructura del dataset que acabamos de cargar. Podéis obtener la información acerca de cómo está estructurado el DataTable utilizando el método ```printSchema()``` de la variable `tweets_sample`."
   ]
  },
  {
   "cell_type": "code",
   "execution_count": 8,
   "metadata": {
    "deletable": false,
    "nbgrader": {
     "cell_type": "code",
     "checksum": "df146a278f35e2a4678400c4d6aa15b1",
     "grade": true,
     "grade_id": "print_shema",
     "locked": false,
     "points": 0.125,
     "schema_version": 3,
     "solution": true,
     "task": false
    }
   },
   "outputs": [
    {
     "name": "stdout",
     "output_type": "stream",
     "text": [
      "root\n",
      " |-- _id: string (nullable = true)\n",
      " |-- created_at: long (nullable = true)\n",
      " |-- lang: string (nullable = true)\n",
      " |-- place: struct (nullable = true)\n",
      " |    |-- bounding_box: struct (nullable = true)\n",
      " |    |    |-- coordinates: array (nullable = true)\n",
      " |    |    |    |-- element: array (containsNull = true)\n",
      " |    |    |    |    |-- element: array (containsNull = true)\n",
      " |    |    |    |    |    |-- element: double (containsNull = true)\n",
      " |    |    |-- type: string (nullable = true)\n",
      " |    |-- country_code: string (nullable = true)\n",
      " |    |-- id: string (nullable = true)\n",
      " |    |-- name: string (nullable = true)\n",
      " |    |-- place_type: string (nullable = true)\n",
      " |-- retweeted_status: struct (nullable = true)\n",
      " |    |-- _id: string (nullable = true)\n",
      " |    |-- user: struct (nullable = true)\n",
      " |    |    |-- followers_count: long (nullable = true)\n",
      " |    |    |-- friends_count: long (nullable = true)\n",
      " |    |    |-- id_str: string (nullable = true)\n",
      " |    |    |-- lang: string (nullable = true)\n",
      " |    |    |-- screen_name: string (nullable = true)\n",
      " |    |    |-- statuses_count: long (nullable = true)\n",
      " |-- text: string (nullable = true)\n",
      " |-- user: struct (nullable = true)\n",
      " |    |-- followers_count: long (nullable = true)\n",
      " |    |-- friends_count: long (nullable = true)\n",
      " |    |-- id_str: string (nullable = true)\n",
      " |    |-- lang: string (nullable = true)\n",
      " |    |-- screen_name: string (nullable = true)\n",
      " |    |-- statuses_count: long (nullable = true)\n",
      "\n"
     ]
    }
   ],
   "source": [
    "tweets_sample.printSchema()"
   ]
  },
  {
   "cell_type": "markdown",
   "metadata": {
    "deletable": false,
    "editable": false,
    "nbgrader": {
     "cell_type": "markdown",
     "checksum": "07bdb0562026f7999d2b728b9d414ba1",
     "grade": false,
     "grade_id": "expl_schema",
     "locked": true,
     "schema_version": 3,
     "solution": false,
     "task": false
    }
   },
   "source": [
    "Podéis observar que la estructura del tweet contiene múltiples campos anidados. Teneis que familiarizaros con esta estructura ya que será la que utilizaremos durante toda la práctica. Recordad también que no todos los tweets tienen todos los campos, como por ejemplo la ubicación (campo ```place```). Cuando esto pasa el campo pasa a ser ```NULL```. Podéis ver mas información sobre este tipo de datos en [este enlace](https://developer.twitter.com/en/docs/tweets/data-dictionary/overview/tweet-object)."
   ]
  },
  {
   "cell_type": "markdown",
   "metadata": {
    "deletable": false,
    "editable": false,
    "nbgrader": {
     "cell_type": "markdown",
     "checksum": "24393a6da55e865e106d621b218acbb5",
     "grade": false,
     "grade_id": "Parte1_2",
     "locked": true,
     "schema_version": 3,
     "solution": false,
     "task": false
    },
    "toc-hr-collapsed": false
   },
   "source": [
    "### **Parte 1.2:** *Queries* sobre sobre data frames complejos\n",
    "\n",
    "En está parte de la práctica veremos cómo hacer consultas sobre el dataset que acabamos de cargar. En la primera parte vamos ha utilizar [sentencias *SQL*](https://www.w3schools.com/sql/default.asp) (como las utilizadas en la mayoria de bases de datos relacionales). Para finalizar veremos un sistema alternativo para hacer consultas utilizando una aproximación más parecida a la que vistéis en la primera PEC. "
   ]
  },
  {
   "cell_type": "markdown",
   "metadata": {
    "deletable": false,
    "editable": false,
    "nbgrader": {
     "cell_type": "markdown",
     "checksum": "46a1f54479914768c21a5995cf4f4f3d",
     "grade": false,
     "grade_id": "parte1_2_1",
     "locked": true,
     "schema_version": 3,
     "solution": false,
     "task": false
    }
   },
   "source": [
    "#### **Parte 1.2.1:** Queries SQL\n",
    "\n",
    "En primer lugar vamos a registrar nuestro DataFrame como una tabla de SQL llamado ```tweets_sample```. Debido a que es posible que repitas esta práctica varias veces, vamos a tomar la precaución de eliminar cualquier tabla existente en primer lugar.\n",
    "\n",
    "Podemos eliminar cualquier tabla SQL existente `tweets_sample` usando la sentencia SQL: `DROP TABLE IF EXISTS tweets_sample`. Para ejecutar un comando sql solo tenéis que utilizar el metodo SQL del objecto contexto, en este caso `sqlContext`.\n",
    "\n",
    "Una vez ejecutado el paso anterior, podemos registrar nuestro DataFrame como una tabla de SQL usando [sqlContext.registerDataFrameAsTable()](https://spark.apache.org/docs/2.4.0/api/python/pyspark.sql.html#pyspark.sql.SQLContext.registerDataFrameAsTable).\n",
    "\n",
    "**Esquema**\n",
    "```Python\n",
    "sqlContext.sql(<FILL IN>)\n",
    "sqlContext.registerDataFrameAsTable(<FILL IN>)\n",
    "```"
   ]
  },
  {
   "cell_type": "code",
   "execution_count": 9,
   "metadata": {
    "deletable": false,
    "nbgrader": {
     "cell_type": "code",
     "checksum": "769f90cf052a4fb5996ca535210f5822",
     "grade": false,
     "grade_id": "registrotabla",
     "locked": false,
     "schema_version": 3,
     "solution": true,
     "task": false
    }
   },
   "outputs": [],
   "source": [
    "sqlContext.sql(\"DROP TABLE IF EXISTS tweets_sample\")\n",
    "sqlContext.registerDataFrameAsTable(tweets_sample, \"tweets_sample\")"
   ]
  },
  {
   "cell_type": "code",
   "execution_count": 10,
   "metadata": {
    "deletable": false,
    "editable": false,
    "nbgrader": {
     "cell_type": "code",
     "checksum": "26ea8b0e7c521e14b87a71e828446a6b",
     "grade": true,
     "grade_id": "cell-8e1ad46863b3e86b",
     "locked": true,
     "points": 0.05,
     "schema_version": 3,
     "solution": false,
     "task": false
    }
   },
   "outputs": [],
   "source": [
    "assert sqlContext.sql(\"SELECT * FROM tweets_sample\").count() == 27268, \"Incorrecct answer\""
   ]
  },
  {
   "cell_type": "markdown",
   "metadata": {
    "deletable": false,
    "editable": false,
    "nbgrader": {
     "cell_type": "markdown",
     "checksum": "23b84fdb1f5b55f48e57423a87bbddd3",
     "grade": false,
     "grade_id": "agregar1_2_1",
     "locked": true,
     "schema_version": 3,
     "solution": false,
     "task": false
    }
   },
   "source": [
    "Ahora se os pide que creeis una tabla ```users_agg``` con [la información agregada](https://www.w3schools.com/sql/sql_groupby.asp) de los usuarios que tengan definido su idioma (```user.lang```) como español (```es```). En concreto se os pide que la tabla contenga las siguientes columnas:\n",
    "- **screen_name:** nombre del usuario\n",
    "- **friends_count:** número máximo (ver nota) de personas a las que sigue\n",
    "- **tweets:** número de tweets realizados\n",
    "- **followers_count:** número máximo (ver nota) personas que siguen al usuario.\n",
    "\n",
    "El orden en el cual se deben mostrar los registros es orden descendente acorde al número de tweets.\n",
    "\n",
    "***Nota:*** es importante que os fijéis que el nombre de *friends* i *followers* puede diferir a lo largo de la adquisición de datos. En este caso vamos ha utilizar la función de agregación ```MAX``` sobre cada uno de estos campos para evitar segmentar el usuario en diversas instancias.\n",
    "\n",
    "**Esquema**\n",
    "```Python\n",
    "users_agg = sqlContext.sql(<FILL IN>)\n",
    "users_agg.limit(10).show()\n",
    "```"
   ]
  },
  {
   "cell_type": "code",
   "execution_count": 11,
   "metadata": {
    "deletable": false,
    "nbgrader": {
     "cell_type": "code",
     "checksum": "ca3f2c4b070474037ee65868288ed54b",
     "grade": false,
     "grade_id": "aggregar1_2_1_ans",
     "locked": false,
     "schema_version": 3,
     "solution": true,
     "task": false
    }
   },
   "outputs": [
    {
     "name": "stdout",
     "output_type": "stream",
     "text": [
      "+---------------+-------------+------+---------------+\n",
      "|    screen_name|friends_count|tweets|followers_count|\n",
      "+---------------+-------------+------+---------------+\n",
      "|       anaoromi|         6258|    16|           6774|\n",
      "|    RosaMar6254|         6208|    14|           6245|\n",
      "|        lyuva26|         3088|    13|           3732|\n",
      "|PisandoFuerte10|         2795|    12|           1752|\n",
      "|     carrasquem|          147|    12|            215|\n",
      "|       jasalo54|         1889|    11|            689|\n",
      "|  PabloChabolas|         4925|     9|           4042|\n",
      "|      lolalailo|         4922|     9|           3738|\n",
      "|     Lordcrow11|         5002|     9|           3069|\n",
      "|    DuroBelinda|         5242|     9|           5778|\n",
      "+---------------+-------------+------+---------------+\n",
      "\n"
     ]
    }
   ],
   "source": [
    "#users_agg = sqlContext.sql(\"\"\"SELECT user.screen_name, COUNT(*) AS tweets FROM tweets_sample WHERE user.lang == 'es' GROUP BY user.screen_name ORDER BY tweets DESC\"\"\")\n",
    "#users_agg.limit(10).show()\n",
    "users_agg = sqlContext.sql(\"\"\"SELECT user.screen_name, MAX(user.friends_count) AS friends_count,\n",
    "                           COUNT(user.screen_name) AS tweets, MAX(user.followers_count) AS followers_count\n",
    "                           FROM tweets_sample WHERE user.lang == 'es'\n",
    "                           GROUP BY user.screen_name ORDER BY tweets DESC\"\"\")\n",
    "users_agg.limit(10).show()"
   ]
  },
  {
   "cell_type": "code",
   "execution_count": 12,
   "metadata": {
    "deletable": false,
    "editable": false,
    "nbgrader": {
     "cell_type": "code",
     "checksum": "1c6d5fadcac19d51cdb929106de1b6b9",
     "grade": true,
     "grade_id": "aggregar1_2_1_test",
     "locked": true,
     "points": 0.3,
     "schema_version": 3,
     "solution": false,
     "task": false
    }
   },
   "outputs": [],
   "source": [
    "output = users_agg.first()\n",
    "assert output.screen_name == 'anaoromi' and output.friends_count == 6258 and output.tweets == 16 and output.followers_count == 6774, \"Incorrect output\""
   ]
  },
  {
   "cell_type": "markdown",
   "metadata": {},
   "source": [
    "Imaginad ahora que queremos combinar la información que acabamos de generar con información acerca del número de veces que un usuario ha sido retuiteado. Para hacer este tipo de combinaciones necesitamos recurrir al [```JOIN``` de tablas](https://www.w3schools.com/sql/sql_join.asp). Primero debemos registrar la tabla que acabamos de generar en el contexto SQL. Recordad que primero debéis comprobar si la tabla existe y en caso afirmativo eliminarla. La tabla tenéis que registrarla bajo el nombre de ```user_agg```."
   ]
  },
  {
   "cell_type": "code",
   "execution_count": 13,
   "metadata": {
    "deletable": false,
    "nbgrader": {
     "cell_type": "code",
     "checksum": "e47591ce898a91d8dc4ac3fe2f664e1f",
     "grade": false,
     "grade_id": "cell-0cd12ff61db691ff",
     "locked": false,
     "schema_version": 3,
     "solution": true,
     "task": false
    }
   },
   "outputs": [],
   "source": [
    "sqlContext.sql(\"DROP TABLE IF EXISTS user_agg\")\n",
    "sqlContext.registerDataFrameAsTable(users_agg, \"user_agg\")"
   ]
  },
  {
   "cell_type": "code",
   "execution_count": 14,
   "metadata": {
    "deletable": false,
    "editable": false,
    "nbgrader": {
     "cell_type": "code",
     "checksum": "811c730709b21f04eaed440760be8db7",
     "grade": true,
     "grade_id": "cell-1aec360ef1068567",
     "locked": true,
     "points": 0.1,
     "schema_version": 3,
     "solution": false,
     "task": false
    }
   },
   "outputs": [],
   "source": [
    "assert sqlContext.sql(\"SELECT * FROM user_agg\").count() == 17925, \"Incorrect answer\""
   ]
  },
  {
   "cell_type": "markdown",
   "metadata": {
    "deletable": false,
    "editable": false,
    "nbgrader": {
     "cell_type": "markdown",
     "checksum": "d059bec9c29fe0b40d18bf31cca22ace",
     "grade": false,
     "grade_id": "join1_2_1",
     "locked": true,
     "schema_version": 3,
     "solution": false,
     "task": false
    }
   },
   "source": [
    "Una vez registrada se pide que combinéis esta tabla y la tabla ```tweets_sample``` utilizando un ```INNER JOIN``` para obtener una nueva tabla con la siguiente información:\n",
    "- ***screen_name:*** nombre de usuario\n",
    "- ***friends_count:*** número máximo de personas a las que sigue\n",
    "- ***followers_count:*** número máximo de personas que siguen al usuario.\n",
    "- ***tweets:*** número de tweets realizados por el usuario.\n",
    "- ***retweeted:*** número de retweets obtenidos por el usuario.\n",
    "- ***ratio_tweet_retweeted:*** ratio de retweets por número de tweets publicados $\\frac{retweets}{tweets}$\n",
    "\n",
    "La tabla resultate tiene que estar ordenada de manera descendente según el valor de la columna ```ratio_tweet_retweeted```\n",
    "\n",
    "**Esquema**\n",
    "```Python\n",
    "retweeted = sqlContext.sql(<FILL IN>)\n",
    "\n",
    "retweeted.limit(10).show()\n",
    "```"
   ]
  },
  {
   "cell_type": "code",
   "execution_count": 15,
   "metadata": {
    "deletable": false,
    "nbgrader": {
     "cell_type": "code",
     "checksum": "213059d3e37115a13c0953f6b27b172c",
     "grade": false,
     "grade_id": "join1_2_1_ans",
     "locked": false,
     "schema_version": 3,
     "solution": true,
     "task": false
    }
   },
   "outputs": [
    {
     "name": "stdout",
     "output_type": "stream",
     "text": [
      "+--------------+-------------+---------------+------+---------+---------------------+\n",
      "|   screen_name|friends_count|followers_count|tweets|retweeted|ratio_tweet_retweeted|\n",
      "+--------------+-------------+---------------+------+---------+---------------------+\n",
      "|          PSOE|        13635|         671073|     1|      155|                155.0|\n",
      "|  CiudadanosCs|        92910|         511896|     1|      117|                117.0|\n",
      "|     JuntsXCat|          202|          88515|     1|       73|                 73.0|\n",
      "|  PartidoPACMA|         1498|         232932|     1|       63|                 63.0|\n",
      "|  pablocasado_|         4567|         238926|     1|       50|                 50.0|\n",
      "|voxnoticias_es|         2146|          29582|     1|       44|                 44.0|\n",
      "|RaiLopezCalvet|         7579|          13574|     1|       43|                 43.0|\n",
      "|        iunida|        10225|         558318|     1|       39|                 39.0|\n",
      "|        Xuxipc|          311|         184967|     1|       37|                 37.0|\n",
      "|       Panik81|         1587|          15374|     1|       29|                 29.0|\n",
      "+--------------+-------------+---------------+------+---------+---------------------+\n",
      "\n"
     ]
    }
   ],
   "source": [
    "retweeted = sqlContext.sql(\"\"\"SELECT user_agg.screen_name, MAX(user_agg.friends_count) AS friends_count,\n",
    "                            MAX(user_agg.followers_count) AS followers_count,\n",
    "                            MAX(user_agg.tweets) AS tweets,\n",
    "                            COUNT(tweets_sample.retweeted_status) AS retweeted,\n",
    "                            COUNT(tweets_sample.retweeted_status)/MAX(user_agg.tweets) AS ratio_tweet_retweeted\n",
    "                            FROM tweets_sample\n",
    "                            INNER JOIN user_agg\n",
    "                            ON tweets_sample.retweeted_status.user.screen_name = user_agg.screen_name\n",
    "                            GROUP BY user_agg.screen_name ORDER BY ratio_tweet_retweeted DESC\"\"\")\n",
    "retweeted.limit(10).show()\n",
    "#retweeted.limit(10).show()\n",
    "#sqlContext.sql(\"SELECT user_agg.screen_name FROM user_agg\").show(5)\n",
    "#retweeted = sqlContext.sql(\"\"\"SELECT user_agg.tweets, tweets_sample.retweeted_status.id\n",
    " #                          FROM tweets_sample\n",
    "  #                          INNER JOIN user_agg\n",
    "   #                         ON user_agg.screen_name = tweets_sample.screen_name\"\"\")\n",
    "#sqlContext.sql(\"SELECT tweets_sample.retweeted_status FROM tweets_sample ORDER BY tweets_sample.user.followers_count DESC\").show(1000,False)\n",
    "#sqlContext.sql(\"SELECT tweets_sample.retweeted_status FROM tweets_sample ORDER BY tweets_sample.user.followers_count DESC\").show(2,False)"
   ]
  },
  {
   "cell_type": "code",
   "execution_count": 16,
   "metadata": {
    "deletable": false,
    "editable": false,
    "nbgrader": {
     "cell_type": "code",
     "checksum": "fe283a4539a7b90e66b7d4994026387a",
     "grade": true,
     "grade_id": "join1_2_1_test",
     "locked": true,
     "points": 0.3,
     "schema_version": 3,
     "solution": false,
     "task": false
    }
   },
   "outputs": [],
   "source": [
    "output = retweeted.first()\n",
    "assert output.screen_name == 'PSOE' and output.friends_count == 13635 and output.tweets == 1 and output.followers_count == 671073 and output.ratio_tweet_retweeted == 155.0 and output.retweeted == 155, \"Incorrect output\""
   ]
  },
  {
   "cell_type": "markdown",
   "metadata": {
    "deletable": false,
    "editable": false,
    "nbgrader": {
     "cell_type": "markdown",
     "checksum": "2a7c19a14b714e4a487580a3c59749f7",
     "grade": false,
     "grade_id": "part1_2_2",
     "locked": true,
     "schema_version": 3,
     "solution": false,
     "task": false
    }
   },
   "source": [
    "#### **Parte 1.2.2:** Queries a través del pipeline\n",
    "\n",
    "Las tablas de Spark SQL ofrecen otro mecanismo para aplicar las transformaciones y obtener resultados similares a los que se obtendría aplicando una consulta SQL. Por ejemplo utilizando el siguiente pipeline obtendremos el texto de todos los tweets en español:\n",
    "\n",
    "```\n",
    "tweets_sample.where(\"lang == 'es'\").select(\"text\")\n",
    "```\n",
    "\n",
    "Que es equivalente a la siguiente sentencia SQL:\n",
    "\n",
    "```\n",
    "SELECT text\n",
    "FROM tweets_sample\n",
    "WHERE lang == 'es'\n",
    "```\n",
    "\n",
    "Podéis consultar el [API de spark SQL](https://spark.apache.org/docs/2.4.0/api/python/pyspark.sql.html) para encontrar más información sobre como utilitzar las diferentes transformaciones en tablas.\n",
    "\n",
    "En este ejercicio se os pide que repliquéis la query obtenida en el apartado anterior empezando por generar la tabla ```users_agg```. Podéis utilizar las transformaciones ```where```, ```select``` (o ```selectExpr```), ```groupBy```, ```count```, ```agg``` y ```orderBy```\n",
    "\n",
    "**Esquema**\n",
    "```Python\n",
    "users = tweets_sample.where(<FILL IN>).select(<FILL IN>)\n",
    "\n",
    "users_agg = users.groupBy(<FILL IN>)\\\n",
    "                 .agg(<FILL IN>)\\\n",
    "                 .orderBy(<FILL IN>)\n",
    "\n",
    "users_agg.limit(10).show()\n",
    "```"
   ]
  },
  {
   "cell_type": "code",
   "execution_count": 17,
   "metadata": {
    "deletable": false,
    "nbgrader": {
     "cell_type": "code",
     "checksum": "67437fad6a5bf300c6c606d935873056",
     "grade": false,
     "grade_id": "cell-31f4988652579ba9",
     "locked": false,
     "schema_version": 3,
     "solution": true,
     "task": false
    }
   },
   "outputs": [
    {
     "name": "stdout",
     "output_type": "stream",
     "text": [
      "+---------------+------------------+------------------+--------------------+\n",
      "|    screen_name|max(friends_count)|count(screen_name)|max(followers_count)|\n",
      "+---------------+------------------+------------------+--------------------+\n",
      "|       anaoromi|              6258|                16|                6774|\n",
      "|    RosaMar6254|              6208|                14|                6245|\n",
      "|        lyuva26|              3088|                13|                3732|\n",
      "|PisandoFuerte10|              2795|                12|                1752|\n",
      "|     carrasquem|               147|                12|                 215|\n",
      "|       jasalo54|              1889|                11|                 689|\n",
      "|  PabloChabolas|              4925|                 9|                4042|\n",
      "|      lolalailo|              4922|                 9|                3738|\n",
      "|     Lordcrow11|              5002|                 9|                3069|\n",
      "|    DuroBelinda|              5242|                 9|                5778|\n",
      "+---------------+------------------+------------------+--------------------+\n",
      "\n"
     ]
    }
   ],
   "source": [
    "users = tweets_sample.where(\"user.lang == 'es'\").select(\"user.screen_name\",\"user.friends_count\",\"user.followers_count\")\n",
    "\n",
    "users_agg = users.groupBy(\"screen_name\")\\\n",
    "                 .agg({\"screen_name\":\"count\",\"friends_count\":\"max\",\"followers_count\":\"max\"})\\\n",
    "                 .orderBy(\"count(screen_name)\",ascending=False)\n",
    "\n",
    "users_agg.limit(10).show()"
   ]
  },
  {
   "cell_type": "code",
   "execution_count": 18,
   "metadata": {
    "deletable": false,
    "editable": false,
    "nbgrader": {
     "cell_type": "code",
     "checksum": "d3b5dee302ffc0075fc2650be934555e",
     "grade": true,
     "grade_id": "cell-1314e0736f9f4584",
     "locked": true,
     "points": 0.125,
     "schema_version": 3,
     "solution": false,
     "task": false
    }
   },
   "outputs": [],
   "source": [
    "output = users_agg.first()\n",
    "assert output.screen_name == 'anaoromi'"
   ]
  },
  {
   "cell_type": "markdown",
   "metadata": {
    "deletable": false,
    "editable": false,
    "nbgrader": {
     "cell_type": "markdown",
     "checksum": "b3e2129892e8b74df0e6e33b42159d80",
     "grade": false,
     "grade_id": "cell-d9521e35c564cc7b",
     "locked": true,
     "schema_version": 3,
     "solution": false,
     "task": false
    }
   },
   "source": [
    "Si os fijáis veréis que el nombre de las columnas no corresponde con el obtenido anteriormente, podéis cambiar el nombre de una columna determinada utilizando la transformación ```withColumnRenamed```. Cambiad el nombre de las columnas para que coincidan con el apartado anterior y guardadlas en una variable ```user_agg_new```.\n",
    "\n",
    "**Esquema**\n",
    "```Python\n",
    "users_agg_new = users_agg.withColumnRenamed(<FILL IN>)\\\n",
    "                         .withColumnRenamed(<FILL IN>)\\\n",
    "                         .withColumnRenamed(<FILL IN>)\n",
    "\n",
    "users_agg_new.limit(10).show()\n",
    "```"
   ]
  },
  {
   "cell_type": "code",
   "execution_count": 19,
   "metadata": {
    "deletable": false,
    "nbgrader": {
     "cell_type": "code",
     "checksum": "e0fcbf7beb9dd084688badbb00b0f079",
     "grade": false,
     "grade_id": "cell-6ac270f9e0f90d1e",
     "locked": false,
     "schema_version": 3,
     "solution": true,
     "task": false
    }
   },
   "outputs": [
    {
     "name": "stdout",
     "output_type": "stream",
     "text": [
      "+---------------+-------------+------+---------------+\n",
      "|    screen_name|friends_count|tweets|followers_count|\n",
      "+---------------+-------------+------+---------------+\n",
      "|       anaoromi|         6258|    16|           6774|\n",
      "|    RosaMar6254|         6208|    14|           6245|\n",
      "|        lyuva26|         3088|    13|           3732|\n",
      "|PisandoFuerte10|         2795|    12|           1752|\n",
      "|     carrasquem|          147|    12|            215|\n",
      "|       jasalo54|         1889|    11|            689|\n",
      "|  PabloChabolas|         4925|     9|           4042|\n",
      "|      lolalailo|         4922|     9|           3738|\n",
      "|     Lordcrow11|         5002|     9|           3069|\n",
      "|    DuroBelinda|         5242|     9|           5778|\n",
      "+---------------+-------------+------+---------------+\n",
      "\n"
     ]
    }
   ],
   "source": [
    "users_agg_new = users_agg.withColumnRenamed(\"max(friends_count)\",\"friends_count\")\\\n",
    "                         .withColumnRenamed(\"count(screen_name)\",\"tweets\")\\\n",
    "                         .withColumnRenamed(\"max(followers_count)\",\"followers_count\")\n",
    "\n",
    "users_agg_new.limit(10).show()"
   ]
  },
  {
   "cell_type": "code",
   "execution_count": 23,
   "metadata": {
    "deletable": false,
    "editable": false,
    "nbgrader": {
     "cell_type": "code",
     "checksum": "81250f3c4440dbca15f96db6fbd3d18f",
     "grade": true,
     "grade_id": "cell-a44780017b5b62c9",
     "locked": true,
     "points": 0.15,
     "schema_version": 3,
     "solution": false,
     "task": false
    }
   },
   "outputs": [],
   "source": [
    "output = users_agg_new.first()\n",
    "assert output.screen_name == 'anaoromi' and output.friends_count == 6258 and output.tweets == 16 and output.followers_count == 6774, \"Incorrect output\""
   ]
  },
  {
   "cell_type": "markdown",
   "metadata": {
    "deletable": false,
    "editable": false,
    "nbgrader": {
     "cell_type": "markdown",
     "checksum": "9606848b30360df3d20cc8b930d18ef6",
     "grade": false,
     "grade_id": "cell-29eff3e98104dff3",
     "locked": true,
     "schema_version": 3,
     "solution": false,
     "task": false
    }
   },
   "source": [
    "Cread ahora una tabla ```user_retweets``` utilizando transformaciones que contenga dos columnas:\n",
    "- ***screen_name:*** nombre de usuario\n",
    "- ***retweeted:*** número de retweets\n",
    "\n",
    "Podéis utilizar las mismas transformaciones que en el ejercicio anterior. Ordenad la tabla en orden descendente utilizando el valor de la columna ```retweeted```.\n",
    "\n",
    "**Esquema**\n",
    "```Python\n",
    "user_retweets = tweets_sample.<FILL IN>\n",
    "\n",
    "user_retweets.limit(10).show()\n",
    "```"
   ]
  },
  {
   "cell_type": "code",
   "execution_count": 24,
   "metadata": {
    "deletable": false,
    "nbgrader": {
     "cell_type": "code",
     "checksum": "8c1a0966187fe8e923b31201eaddedc2",
     "grade": false,
     "grade_id": "cell-7e10fbd5ae8b6f53",
     "locked": false,
     "schema_version": 3,
     "solution": true,
     "task": false
    }
   },
   "outputs": [
    {
     "name": "stdout",
     "output_type": "stream",
     "text": [
      "+--------------+---------+\n",
      "|   screen_name|retweeted|\n",
      "+--------------+---------+\n",
      "|        vox_es|      299|\n",
      "|  ahorapodemos|      238|\n",
      "| Santi_ABASCAL|      238|\n",
      "|      iescolar|      166|\n",
      "| AlbanoDante76|      161|\n",
      "|          PSOE|      155|\n",
      "|AntonioMaestre|      154|\n",
      "|          KRLS|      149|\n",
      "|        boye_g|      142|\n",
      "|  CiudadanosCs|      117|\n",
      "+--------------+---------+\n",
      "\n"
     ]
    }
   ],
   "source": [
    "#user_retweets = tweets_sample.where(\"user.lang == 'es'\").select(\"user.screen_name\")\n",
    "\n",
    "#users_agg = users.groupBy(\"screen_name\")\\\n",
    " #                .agg({\"screen_name\":\"count\"})\\\n",
    "  #               .orderBy(\"count(screen_name)\",ascending=False).show()\n",
    "#user_retweets = tweets_sample.where(\"user.lang == 'es'\").select(\"retweeted_status.user.screen_name\")\\\n",
    " #               .groupBy(\"screen_name\")\\\n",
    "  #               .agg({\"screen_name\":\"count\"})\\\n",
    "   #              .orderBy(\"count(screen_name)\",ascending=False).show()\n",
    "user_retweets = tweets_sample.select(\"retweeted_status.user.screen_name\")\\\n",
    "                .groupBy(\"screen_name\")\\\n",
    "                 .agg({\"screen_name\":\"count\"})\\\n",
    "                 .orderBy(\"count(screen_name)\",ascending=False)\\\n",
    "                .withColumnRenamed(\"count(screen_name)\",\"retweeted\")\n",
    "\n",
    "user_retweets.limit(10).show()\n",
    "#sqlContext.sql(\"SELECT tweets_sample.retweeted_status FROM tweets_sample ORDER BY tweets_sample.user.followers_count DESC\").show(10000,False)\n",
    "#quan sàpia com buscar els retweets es facil\n",
    "#sqlContext.sql(\"SELECT * from tweets_sample\").show(35,True)\n",
    "#sqlContext.sql(\"SELECT tweets_sample.retweeted_status FROM tweets_sample ORDER BY tweets_sample.user.followers_count DESC\").show(10000,False)"
   ]
  },
  {
   "cell_type": "code",
   "execution_count": 25,
   "metadata": {
    "deletable": false,
    "editable": false,
    "nbgrader": {
     "cell_type": "code",
     "checksum": "31688376512e22f1abe18ee737d14394",
     "grade": true,
     "grade_id": "cell-fc4c41133d08ec25",
     "locked": true,
     "points": 0.45,
     "schema_version": 3,
     "solution": false,
     "task": false
    }
   },
   "outputs": [],
   "source": [
    "output = user_retweets.first()\n",
    "assert output.screen_name == 'vox_es' and output.retweeted == 299, \"Incorrect output\""
   ]
  },
  {
   "cell_type": "markdown",
   "metadata": {
    "deletable": false,
    "editable": false,
    "nbgrader": {
     "cell_type": "markdown",
     "checksum": "01a58b103dfcf5829a07c7619927eeef",
     "grade": false,
     "grade_id": "cell-eddb113c8541c8c2",
     "locked": true,
     "schema_version": 3,
     "solution": false,
     "task": false
    }
   },
   "source": [
    "Otra manera de combinar dos tablas es utilizando el [metodo de tabla ```join```](https://spark.apache.org/docs/2.4.0/api/python/pyspark.sql.html). Combinad la información de la tabla ```users_agg_new``` y ```user_retweets``` en una nueva tabla ```retweeted``` utilizando la columna ```screen_name```. Ordenad la nueva tabla en orden descendente con el nombre de retweets.\n",
    "\n",
    "**Esquema**\n",
    "\n",
    "```Python\n",
    "retweeted = users_agg_new.join(<FILL IN>)\\\n",
    "                         .orderBy(<FILL IN>)\n",
    "\n",
    "retweeted.limit(10).show()\n",
    "```"
   ]
  },
  {
   "cell_type": "code",
   "execution_count": 26,
   "metadata": {
    "deletable": false,
    "nbgrader": {
     "cell_type": "code",
     "checksum": "bd7e752647a3281d956431f38b6a6d4d",
     "grade": false,
     "grade_id": "cell-e0fb48703c8222c2",
     "locked": false,
     "schema_version": 3,
     "solution": true,
     "task": false
    }
   },
   "outputs": [
    {
     "name": "stdout",
     "output_type": "stream",
     "text": [
      "+--------------+-------------+---------------+------+---------+\n",
      "|   screen_name|friends_count|followers_count|tweets|retweeted|\n",
      "+--------------+-------------+---------------+------+---------+\n",
      "|          PSOE|        13635|         671073|     1|      155|\n",
      "|  CiudadanosCs|        92910|         511896|     1|      117|\n",
      "|     JuntsXCat|          202|          88515|     1|       73|\n",
      "|  PartidoPACMA|         1498|         232932|     1|       63|\n",
      "|  pablocasado_|         4567|         238926|     1|       50|\n",
      "|voxnoticias_es|         2146|          29582|     1|       44|\n",
      "|RaiLopezCalvet|         7579|          13574|     1|       43|\n",
      "|        iunida|        10225|         558318|     1|       39|\n",
      "|        Xuxipc|          311|         184967|     1|       37|\n",
      "|       Panik81|         1587|          15374|     1|       29|\n",
      "+--------------+-------------+---------------+------+---------+\n",
      "\n"
     ]
    }
   ],
   "source": [
    "#users_agg_new.limit(10).show()\n",
    "#user_retweets.limit(10).show()\n",
    "#df1.join(df2, df1.screen_name==df2.screen_name)\n",
    "retweeted=users_agg_new.join(user_retweets, users_agg_new.screen_name==user_retweets.screen_name)\\\n",
    "            .select(users_agg_new.screen_name, users_agg_new.friends_count, users_agg_new.followers_count, users_agg_new.tweets, user_retweets.retweeted)\\\n",
    "            .orderBy(\"retweeted\",ascending=False)\n",
    "retweeted.limit(10).show()"
   ]
  },
  {
   "cell_type": "code",
   "execution_count": 27,
   "metadata": {
    "deletable": false,
    "editable": false,
    "nbgrader": {
     "cell_type": "code",
     "checksum": "9cb6d5638c55323d7bdbc623c6ac91bb",
     "grade": true,
     "grade_id": "cell-b98ce38ed786a428",
     "locked": true,
     "points": 0.15,
     "schema_version": 3,
     "solution": false,
     "task": false
    }
   },
   "outputs": [],
   "source": [
    "output = retweeted.first()\n",
    "assert output.screen_name == 'PSOE' and output.friends_count == 13635 and output.tweets == 1 and output.followers_count == 671073 and output.retweeted == 155, \"Incorrect output\""
   ]
  },
  {
   "cell_type": "markdown",
   "metadata": {
    "deletable": false,
    "editable": false,
    "nbgrader": {
     "cell_type": "markdown",
     "checksum": "0b34b8bd27d0d50bb7bf6e4e9dba94ef",
     "grade": false,
     "grade_id": "cell-840198884f74f93e",
     "locked": true,
     "schema_version": 3,
     "solution": false,
     "task": false
    }
   },
   "source": [
    "Notaréis que algunos de los registros que aparecen en la tabla ```users_retweeted``` no están presentes en la tabla retweeted. Esto es debido a que, por defecto, el método aplica un inner join y por tanto solo combina los registros presentes en ambas tablas. Podéis cambiar este comportamiento a través de los parámetros de la función.\n",
    "\n",
    "Para terminar esta parte y reconstruir el resultado del apartado 1.2.1 vamos a añadir una columna ```ratio_tweet_retweeted``` con información del ratio entre retweets y tweets. Para ello debéis utilizar la transformación ```withColumn```. El resultado debe estar ordenado considerando esta nueva columna en orden descendente.\n",
    "\n",
    "**Esquema**\n",
    "```Python\n",
    "retweeted = retweeted.withColumn(<FILL IN>)\n",
    "retweeted.limit(10).show()\n",
    "```"
   ]
  },
  {
   "cell_type": "code",
   "execution_count": 31,
   "metadata": {
    "deletable": false,
    "nbgrader": {
     "cell_type": "code",
     "checksum": "32511e269bdb031e456d50ac9381f6cb",
     "grade": false,
     "grade_id": "cell-d5842b06bc796b93",
     "locked": false,
     "schema_version": 3,
     "solution": true,
     "task": false
    }
   },
   "outputs": [],
   "source": [
    "#users_agg_new.limit(10).show()\n",
    "#user_retweets.limit(10).show()\n",
    "retweeted=retweeted.withColumn(\"ratio_tweet_retweeted\",retweeted.retweeted/retweeted.tweets)"
   ]
  },
  {
   "cell_type": "code",
   "execution_count": 32,
   "metadata": {
    "deletable": false,
    "editable": false,
    "nbgrader": {
     "cell_type": "code",
     "checksum": "b2a8255d890716b9f9e81c51f06f0f62",
     "grade": true,
     "grade_id": "cell-e2dd111524c30b55",
     "locked": true,
     "points": 0.125,
     "schema_version": 3,
     "solution": false,
     "task": false
    }
   },
   "outputs": [],
   "source": [
    "output = retweeted.first()\n",
    "assert output.screen_name == 'PSOE' and output.friends_count == 13635 and output.tweets == 1 and output.followers_count == 671073 and output.ratio_tweet_retweeted == 155.0 and output.retweeted == 155, \"Incorrect output\""
   ]
  },
  {
   "cell_type": "markdown",
   "metadata": {
    "deletable": false,
    "editable": false,
    "nbgrader": {
     "cell_type": "markdown",
     "checksum": "06ba4b982376405df66e72ed76bf99a8",
     "grade": false,
     "grade_id": "cell-232f10e55e87ad12",
     "locked": true,
     "schema_version": 3,
     "solution": false,
     "task": false
    },
    "toc-hr-collapsed": false
   },
   "source": [
    "## **Parte 2:** Bases de datos HIVE y operaciones complejas\n",
    "\n",
    "Hasta ahora hemos estado trabajando con un pequeño sample de los tweets generados (el 0.1%). En esta parte de la PEC vamos a ver como trabajar y tratar con el dataset completo. Para ello vamos ha utilizar tanto transformaciones sobre tablas como operaciones sobre RDD cuando sea necesario."
   ]
  },
  {
   "cell_type": "markdown",
   "metadata": {
    "deletable": false,
    "editable": false,
    "nbgrader": {
     "cell_type": "markdown",
     "checksum": "916575bead18d5e98c2e6376f9926a20",
     "grade": false,
     "grade_id": "cell-0b416ba9bc3ed03d",
     "locked": true,
     "schema_version": 3,
     "solution": false,
     "task": false
    }
   },
   "source": [
    "### **Parte 2.1:** Bases de datos Hive\n",
    "\n",
    "Muchas veces los datos con los que vamos ha trabajar se van a utilizar en diversos proyectos. Una manera de organizar los datos es, en lugar de utilizar directamente los ficheros, recurrir a una base de datos para gestionar la información. En el entorno Hadoop una de las bases de datos más utilizadas es [Apache Hive](https://hive.apache.org/), una base de datos que permite trabajar con contenido distribuido.\n",
    "\n",
    "La manera de acceder a esta base de datos es creando un contexto Hive de manera muy similar a como declaramos un contexto SQL. Primero vamos a declarar un variable ```hiveContext``` instanciándola como un objeto de la classe ```HiveContext```. Acto seguido vamos a comprobar cuantas tablas están registradas en este contexto.\n",
    "\n",
    "**Esquema**\n",
    "```Python\n",
    "hiveContext = <FILL IN>\n",
    "hiveContext.tables().show()\n",
    "```"
   ]
  },
  {
   "cell_type": "code",
   "execution_count": 33,
   "metadata": {
    "deletable": false,
    "nbgrader": {
     "cell_type": "code",
     "checksum": "a212d9c1805f8c0305a8b5742528c597",
     "grade": true,
     "grade_id": "cell-c1fea886f6bfbcbf",
     "locked": false,
     "points": 0.125,
     "schema_version": 3,
     "solution": true,
     "task": false
    }
   },
   "outputs": [
    {
     "name": "stdout",
     "output_type": "stream",
     "text": [
      "+--------+------------------+-----------+\n",
      "|database|         tableName|isTemporary|\n",
      "+--------+------------------+-----------+\n",
      "| default|            d_pais|      false|\n",
      "| default| d_tipo_habitacion|      false|\n",
      "| default|      province_28a|      false|\n",
      "| default|         tweets28a|      false|\n",
      "| default|     tweets28afull|      false|\n",
      "| default|tweets28a_sample25|      false|\n",
      "| default|         user_info|      false|\n",
      "| default|     user_info_old|      false|\n",
      "|        |     tweets_sample|       true|\n",
      "|        |          user_agg|       true|\n",
      "+--------+------------------+-----------+\n",
      "\n"
     ]
    }
   ],
   "source": [
    "hiveContext = HiveContext(sc)\n",
    "hiveContext.tables().show()"
   ]
  },
  {
   "cell_type": "markdown",
   "metadata": {},
   "source": [
    "Observad que ahora mismo tenemos siete tablas registradas en este contexto. Cinco de ellas no temporales y dos temporales, las que hemos registrado previamente. Por tanto sqlContext y hiveContext están concetados (es la misma sessión)\n",
    "\n",
    "Vamos ha crear una variable ```tweets``` que utilizaremos para acceder a la tabla ```tweets28a_sample25``` guardada en ```hiveContext``` utilizando para ello el método ```table()``` de este objeto.\n",
    "\n",
    "**Esquema**\n",
    "```Python\n",
    "tweets = <FILL IN>\n",
    "print(\"Loaded dataset contains {} tweets\".format(tweets.count()))\n",
    "```"
   ]
  },
  {
   "cell_type": "code",
   "execution_count": 34,
   "metadata": {
    "deletable": false,
    "nbgrader": {
     "cell_type": "code",
     "checksum": "dee44c06e36300fcfd220842fc04d255",
     "grade": false,
     "grade_id": "cell-597891dd2d613c09",
     "locked": false,
     "schema_version": 3,
     "solution": true,
     "task": false
    }
   },
   "outputs": [
    {
     "name": "stdout",
     "output_type": "stream",
     "text": [
      "Loaded dataset contains 6354961 tweets\n"
     ]
    }
   ],
   "source": [
    "tweets = hiveContext.table(\"default.tweets28a_sample25\")\n",
    "print(\"Loaded dataset contains {} tweets\".format(tweets.count()))"
   ]
  },
  {
   "cell_type": "code",
   "execution_count": 35,
   "metadata": {
    "deletable": false,
    "editable": false,
    "nbgrader": {
     "cell_type": "code",
     "checksum": "d05bd885de8e0b2d5068da8efce897c8",
     "grade": true,
     "grade_id": "cell-2da5fa7df4970547",
     "locked": true,
     "points": 0.0625,
     "schema_version": 3,
     "solution": false,
     "task": false
    }
   },
   "outputs": [],
   "source": [
    "assert tweets.count() == 6354961, \"Incorrect Answer\""
   ]
  },
  {
   "cell_type": "markdown",
   "metadata": {
    "deletable": false,
    "editable": false,
    "nbgrader": {
     "cell_type": "markdown",
     "checksum": "300b1d7d914b99cc2bbea836601c7a19",
     "grade": false,
     "grade_id": "cell-38bf6de2954151dd",
     "locked": true,
     "schema_version": 3,
     "solution": false,
     "task": false
    }
   },
   "source": [
    "Utilizando el mismo método que en el apartado 1.1, comprobad la estructura de la tabla que acabamos de cargar."
   ]
  },
  {
   "cell_type": "code",
   "execution_count": 36,
   "metadata": {
    "deletable": false,
    "nbgrader": {
     "cell_type": "code",
     "checksum": "45a95c132bae9c32a2aff7b3d0a7669b",
     "grade": true,
     "grade_id": "cell-ef350e58ac316978",
     "locked": false,
     "points": 0.0625,
     "schema_version": 3,
     "solution": true,
     "task": false
    }
   },
   "outputs": [
    {
     "name": "stdout",
     "output_type": "stream",
     "text": [
      "root\n",
      " |-- _id: string (nullable = true)\n",
      " |-- created_at: timestamp (nullable = true)\n",
      " |-- lang: string (nullable = true)\n",
      " |-- place: struct (nullable = true)\n",
      " |    |-- bounding_box: struct (nullable = true)\n",
      " |    |    |-- coordinates: array (nullable = true)\n",
      " |    |    |    |-- element: array (containsNull = true)\n",
      " |    |    |    |    |-- element: array (containsNull = true)\n",
      " |    |    |    |    |    |-- element: double (containsNull = true)\n",
      " |    |    |-- type: string (nullable = true)\n",
      " |    |-- country_code: string (nullable = true)\n",
      " |    |-- id: string (nullable = true)\n",
      " |    |-- name: string (nullable = true)\n",
      " |    |-- place_type: string (nullable = true)\n",
      " |-- retweeted_status: struct (nullable = true)\n",
      " |    |-- _id: string (nullable = true)\n",
      " |    |-- user: struct (nullable = true)\n",
      " |    |    |-- followers_count: long (nullable = true)\n",
      " |    |    |-- friends_count: long (nullable = true)\n",
      " |    |    |-- id_str: string (nullable = true)\n",
      " |    |    |-- lang: string (nullable = true)\n",
      " |    |    |-- screen_name: string (nullable = true)\n",
      " |    |    |-- statuses_count: long (nullable = true)\n",
      " |-- text: string (nullable = true)\n",
      " |-- user: struct (nullable = true)\n",
      " |    |-- followers_count: long (nullable = true)\n",
      " |    |-- friends_count: long (nullable = true)\n",
      " |    |-- id_str: string (nullable = true)\n",
      " |    |-- lang: string (nullable = true)\n",
      " |    |-- screen_name: string (nullable = true)\n",
      " |    |-- statuses_count: long (nullable = true)\n",
      "\n"
     ]
    }
   ],
   "source": [
    "tweets.printSchema()"
   ]
  },
  {
   "cell_type": "markdown",
   "metadata": {
    "deletable": false,
    "editable": false,
    "nbgrader": {
     "cell_type": "markdown",
     "checksum": "0702b9bdb5f63e55c7712e1413e3f676",
     "grade": false,
     "grade_id": "cell-594eb699f3c4f56f",
     "locked": true,
     "schema_version": 3,
     "solution": false,
     "task": false
    },
    "toc-hr-collapsed": false
   },
   "source": [
    "### **Parte 2.2:** Más allá de las transformaciones SQL\n",
    "\n",
    "Algunas veces vamos a necesitar obtener resultados que precisan operaciones que van más allá de lo que podemos conseguir utilizando el lenguaje SQL. En esta parte de la práctica vamos practicar cómo pasar de una tabla a un RDD, para hacer operaciones complejas, y luego volver a pasar a una tabla."
   ]
  },
  {
   "cell_type": "markdown",
   "metadata": {
    "deletable": false,
    "editable": false,
    "nbgrader": {
     "cell_type": "markdown",
     "checksum": "7483c3b97e3f5a7a4f446d85d06ab7ed",
     "grade": false,
     "grade_id": "cell-8d0734c219f082d0",
     "locked": true,
     "schema_version": 3,
     "solution": false,
     "task": false
    },
    "toc-hr-collapsed": false
   },
   "source": [
    "#### **Parte 2.2.1:** Tweets por población\n",
    "##### **Parte 2.2.1.1:** Utilizando SQL\n",
    "Un pequeño porcentaje, alrededor del 1%, de los tweets realizados está geolocalizado. Eso quiere decir que para estos tweets tenemos información acerca del lugar donde han sido realizados guardado en el campo ```place```. En este ejercicio se pide que utilizando una sentencia SQL mostréis en orden descendente cuántos tweets se han realizado en cada lugar. La tabla resultante ```tweets_place``` debe tener las siguientes columnas:\n",
    "- ***name:*** nombre del lugar\n",
    "- ***tweets:*** número de tweets\n",
    "\n",
    "Recordad que no todos los tweets en la base de datos tienen que tener información geolocalizada, tenéis que filtrarlos teniendo en cuenta todos los que tienen un valor no nulo. La tabla tiene que estar en order descendente por numero de tweets.\n",
    "\n",
    "**Esquema**\n",
    "```Python\n",
    "tweets_place = hiveContext.sql(<FILL IN>)\n",
    "tweets_place.limit(10).show()\n",
    "```"
   ]
  },
  {
   "cell_type": "code",
   "execution_count": 37,
   "metadata": {
    "deletable": false,
    "nbgrader": {
     "cell_type": "code",
     "checksum": "0c70f032337b535ace2ee7938f3de91f",
     "grade": false,
     "grade_id": "cell-894db3dca0f080ea",
     "locked": false,
     "schema_version": 3,
     "solution": true,
     "task": false
    }
   },
   "outputs": [
    {
     "name": "stdout",
     "output_type": "stream",
     "text": [
      "+-----------+------+\n",
      "|       name|tweets|\n",
      "+-----------+------+\n",
      "|     Madrid|  4911|\n",
      "|  Barcelona|  3481|\n",
      "|    Sevilla|   959|\n",
      "|   Valencia|   689|\n",
      "|   Zaragoza|   597|\n",
      "|Villamartín|   570|\n",
      "|     Málaga|   546|\n",
      "|     Murcia|   461|\n",
      "|      Palma|   416|\n",
      "|   Alicante|   407|\n",
      "+-----------+------+\n",
      "\n"
     ]
    },
    {
     "data": {
      "text/plain": [
       "DataFrame[name: string]"
      ]
     },
     "execution_count": 37,
     "metadata": {},
     "output_type": "execute_result"
    }
   ],
   "source": [
    "#users_agg = sqlContext.sql(\"\"\"SELECT user.screen_name, MAX(user.friends_count) AS friends_count,\n",
    "#                           COUNT(user.screen_name) AS tweets, MAX(user.followers_count) AS followers_count\n",
    " #                          FROM tweets_sample WHERE user.lang == 'es'\n",
    "  #                         GROUP BY user.screen_name ORDER BY tweets DESC\"\"\")\n",
    "#users_agg.limit(10).show()\n",
    "#sqlContext.sql(\"SELECT * from tweets_sample\").show(35,True)\n",
    "#sqlContext.sql(\"SELECT tweets_sample.retweeted_status FROM tweets_sample ORDER BY tweets_sample.user.followers_count DESC\").show(10000,False)\n",
    "#tweets_place = hiveContext.sql(\"\"\"SELECT user.screen_name, MAX(user.friends_count) AS friends_count,\n",
    " #                          COUNT(user.screen_name) AS tweets, MAX(user.followers_count) AS followers_count\n",
    "  #                         FROM tweets_sample WHERE user.lang == 'es'\n",
    "   #                        GROUP BY user.screen_name ORDER BY tweets DESC\"\"\")\n",
    "#users_agg.limit(10).show()\n",
    "#hiveContext.sql(\"SELECT place FROM tweets28a_sample25\").show(35,True)\n",
    "\n",
    "tweets_place = hiveContext.sql(\"\"\"SELECT place.name AS name, COUNT(place.name) AS tweets\n",
    "                           FROM tweets28a_sample25 WHERE place.name!='null'\n",
    "                           GROUP BY place.name ORDER BY tweets DESC\"\"\")\n",
    "tweets_place.limit(10).show()\n",
    "hiveContext.sql(\"SELECT place.name FROM tweets28a_sample25 WHERE place.name!='null'\")"
   ]
  },
  {
   "cell_type": "code",
   "execution_count": 38,
   "metadata": {
    "deletable": false,
    "editable": false,
    "nbgrader": {
     "cell_type": "code",
     "checksum": "35be4259da0f97caef67aeb240405799",
     "grade": true,
     "grade_id": "cell-c4cf795341edf5b3",
     "locked": true,
     "points": 0.25,
     "schema_version": 3,
     "solution": false,
     "task": false
    }
   },
   "outputs": [],
   "source": [
    "output = tweets_place.first()\n",
    "assert output.name == \"Madrid\" and output.tweets == 4911, \"Incorrect output\""
   ]
  },
  {
   "cell_type": "markdown",
   "metadata": {
    "deletable": false,
    "editable": false,
    "nbgrader": {
     "cell_type": "markdown",
     "checksum": "7e9cfede2ad8a788bd0736c9606969c0",
     "grade": false,
     "grade_id": "cell-eb9c24d0b500613c",
     "locked": true,
     "schema_version": 3,
     "solution": false,
     "task": false
    }
   },
   "source": [
    "##### **Parte 2.2.1.2:** Utilizando RDD\n",
    "\n",
    "Ahora se os pide que hagáis lo mismo pero esta vez utilizando RDD para realizar la agregación (recordad los ejercicios de contar palabras que hicisteis en la PEC 1).\n",
    "\n",
    "El primer paso consiste en generar un tabla ```tweets_geo``` que solo contenga información de tweets geolocalizados con una sola columna:\n",
    "- ***name:*** nombre del lugar desde donde se ha generado el tweet\n",
    "\n",
    "**Esquema**\n",
    "```Python\n",
    "tweets_geo = <FILL IN>\n",
    "```"
   ]
  },
  {
   "cell_type": "code",
   "execution_count": 39,
   "metadata": {
    "deletable": false,
    "nbgrader": {
     "cell_type": "code",
     "checksum": "bbe1888f913198cc3cb6353e6be88bba",
     "grade": false,
     "grade_id": "cell-d3f8a6734cec62e5",
     "locked": false,
     "schema_version": 3,
     "solution": true,
     "task": false
    }
   },
   "outputs": [
    {
     "name": "stdout",
     "output_type": "stream",
     "text": [
      "+--------------------+\n",
      "|                name|\n",
      "+--------------------+\n",
      "|           Barcelona|\n",
      "|            Palencia|\n",
      "|              Murcia|\n",
      "|            Marbella|\n",
      "|           Barcelona|\n",
      "|             Camargo|\n",
      "|             Calella|\n",
      "|Sant Quirze del V...|\n",
      "|San Cristóbal de ...|\n",
      "|             Sevilla|\n",
      "|           Wald (ZH)|\n",
      "|           Wald (ZH)|\n",
      "|              Madrid|\n",
      "|              Seseña|\n",
      "|                Vigo|\n",
      "|Auditorio De La A...|\n",
      "|              Madrid|\n",
      "|              Madrid|\n",
      "|              España|\n",
      "|             Sevilla|\n",
      "+--------------------+\n",
      "only showing top 20 rows\n",
      "\n"
     ]
    },
    {
     "data": {
      "text/plain": [
       "44477"
      ]
     },
     "execution_count": 39,
     "metadata": {},
     "output_type": "execute_result"
    }
   ],
   "source": [
    "tweets_geo=hiveContext.sql(\"SELECT place.name FROM tweets28a_sample25 WHERE place.name!='null'\")\n",
    "tweets_geo.show()\n",
    "tweets_geo.count()"
   ]
  },
  {
   "cell_type": "code",
   "execution_count": 40,
   "metadata": {
    "deletable": false,
    "editable": false,
    "nbgrader": {
     "cell_type": "code",
     "checksum": "d70fa2bb8e7f709d28e37a1fa2b115f1",
     "grade": true,
     "grade_id": "cell-a80661a525cbf003",
     "locked": true,
     "points": 0.125,
     "schema_version": 3,
     "solution": false,
     "task": false
    }
   },
   "outputs": [],
   "source": [
    "assert tweets_geo.count() == 44477, \"Incorrect answer\""
   ]
  },
  {
   "cell_type": "markdown",
   "metadata": {
    "deletable": false,
    "editable": false,
    "nbgrader": {
     "cell_type": "markdown",
     "checksum": "0cb4304488195bbefcb50892d4257637",
     "grade": false,
     "grade_id": "cell-1cb95ba661c79484",
     "locked": true,
     "schema_version": 3,
     "solution": false,
     "task": false
    }
   },
   "source": [
    "Ahora viene la parte interesante. Una tabla puede convertirse en un RDD a través del atributo ```.rdd```. Este atributo guarda la información de la tabla en una lista donde cada elemento es un [objeto del tipo ```Row```](https://spark.apache.org/docs/2.4.0/api/python/pyspark.sql.html#pyspark.sql.Row). Los objetos pertenecientes a esta clase pueden verse como diccionarios donde la información de las diferentes columnas queda reflejada en forma de atributo. Por ejemplo, imaginad que tenemos una tabla con dos columnas, nombre y apellido, si utilizamos el atributo ```.rdd``` de dicha tabla obtendremos una lista con objetos del tipo row donde cada objeto tiene dos atributos: nombre y apellido. Para acceder a los atributos solo tenéis que utilizar la sintaxis *punto* de Python, e.g., ```row.nombre``` o ```row.apellido```.\n",
    "\n",
    "En esta parte del ejercicio se os pide que creeis un objeto ```tweets_lang_rdd``` que contenga una lista de tuplas con la información ```(name, tweets)``` sobre el nombre del lugar y el número de tweets generados desde allí. Recordad el ejercicio de contar palabras de la PEC 1.\n",
    "\n",
    "**Esquema**\n",
    "```Python\n",
    "tweets_place_rdd = tweets_geo.<FILL IN>\n",
    "```"
   ]
  },
  {
   "cell_type": "code",
   "execution_count": 41,
   "metadata": {
    "deletable": false,
    "nbgrader": {
     "cell_type": "code",
     "checksum": "4705a8a52eed12c1b0d7a8c1116a0e75",
     "grade": false,
     "grade_id": "cell-4509d0316eec4998",
     "locked": false,
     "schema_version": 3,
     "solution": true,
     "task": false
    }
   },
   "outputs": [
    {
     "data": {
      "text/plain": [
       "[(Row(name='Salas'), 3),\n",
       " (Row(name='Castilleja de la Cuesta'), 10),\n",
       " (Row(name='Toledo'), 124),\n",
       " (Row(name='Santa Eulária des Riu'), 9),\n",
       " (Row(name='Trentino-Alto Adige'), 2)]"
      ]
     },
     "execution_count": 41,
     "metadata": {},
     "output_type": "execute_result"
    }
   ],
   "source": [
    "tweets_place_rdd = tweets_geo.rdd.map(lambda x:(x,1)).reduceByKey(lambda a,b:a+b)\n",
    "#tweets_place_rdd.count()\n",
    "tweets_place_rdd.take(5)\n"
   ]
  },
  {
   "cell_type": "code",
   "execution_count": 42,
   "metadata": {
    "deletable": false,
    "editable": false,
    "nbgrader": {
     "cell_type": "code",
     "checksum": "dafe55f461433114789884e094bde7f6",
     "grade": true,
     "grade_id": "cell-01a10584947205a8",
     "locked": true,
     "points": 0.5,
     "schema_version": 3,
     "solution": false,
     "task": false
    }
   },
   "outputs": [],
   "source": [
    "assert tweets_place_rdd.count() == 4038, \"Incorrect output\""
   ]
  },
  {
   "cell_type": "markdown",
   "metadata": {
    "deletable": false,
    "editable": false,
    "nbgrader": {
     "cell_type": "markdown",
     "checksum": "3dd4fdce9bb3791c57d942b2115c06ea",
     "grade": false,
     "grade_id": "cell-278eef05750c3de5",
     "locked": true,
     "schema_version": 3,
     "solution": false,
     "task": false
    }
   },
   "source": [
    "Una vez generado este RDD vamos a crear un tabla. El primer paso es generar por cada tupla un objeto Row que contenga un atributo ```name``` y un atributo ```tweets```. Ahora solo tenéis que aplicar el método ```toDF()``` para generar una tabla. Ordenad las filas de esta tabla por el número de tweets en orden descendente.\n",
    "\n",
    "**Esquema**\n",
    "```Python\n",
    "tweets_place = tweets_place_rdd.<FILL IN>\n",
    "\n",
    "tweets_place.limit(10).show()\n",
    "```"
   ]
  },
  {
   "cell_type": "code",
   "execution_count": 43,
   "metadata": {
    "deletable": false,
    "nbgrader": {
     "cell_type": "code",
     "checksum": "d8ee3c40ac484a28ddcbc75d281bed32",
     "grade": false,
     "grade_id": "cell-40de85c3cb590996",
     "locked": false,
     "schema_version": 3,
     "solution": true,
     "task": false
    }
   },
   "outputs": [
    {
     "name": "stdout",
     "output_type": "stream",
     "text": [
      "+-----------+------+\n",
      "|       name|tweets|\n",
      "+-----------+------+\n",
      "|     Madrid|  4911|\n",
      "|  Barcelona|  3481|\n",
      "|    Sevilla|   959|\n",
      "|   Valencia|   689|\n",
      "|   Zaragoza|   597|\n",
      "|Villamartín|   570|\n",
      "|     Málaga|   546|\n",
      "|     Murcia|   461|\n",
      "|      Palma|   416|\n",
      "|   Alicante|   407|\n",
      "+-----------+------+\n",
      "\n"
     ]
    }
   ],
   "source": [
    "tweets_place = tweets_place_rdd.map(lambda x:(x[0].name,x[1])).sortBy(lambda x:-x[1]).toDF().withColumnRenamed('_1','name').withColumnRenamed('_2','tweets')\n",
    "tweets_place.limit(10).show()\n",
    "#tweets_place = tweets_place_rdd\n",
    "#tweets_place.collect()[1]"
   ]
  },
  {
   "cell_type": "code",
   "execution_count": 44,
   "metadata": {
    "deletable": false,
    "editable": false,
    "nbgrader": {
     "cell_type": "code",
     "checksum": "2aa9a5b6aba02b034f484a39661dc8ab",
     "grade": true,
     "grade_id": "cell-4b202ec17fb72450",
     "locked": true,
     "points": 0.375,
     "schema_version": 3,
     "solution": false,
     "task": false
    }
   },
   "outputs": [],
   "source": [
    "output = tweets_place.first()\n",
    "assert output.name == \"Madrid\" and output.tweets == 4911, \"Incorrect output\""
   ]
  },
  {
   "cell_type": "markdown",
   "metadata": {
    "deletable": false,
    "editable": false,
    "nbgrader": {
     "cell_type": "markdown",
     "checksum": "e0c5a84283a55e39eaa3026c3bd6b3c3",
     "grade": false,
     "grade_id": "cell-beb23e0cb9a56f36",
     "locked": true,
     "schema_version": 3,
     "solution": false,
     "task": false
    }
   },
   "source": [
    "#### **Parte 2.2.2:** Contar hashtags\n",
    "\n",
    "En el ejercicio anterior hemos visto cómo podemos generar la misma información haciendo una agregación mediante SQL o utilizando RDDs. Como seguro que habéis observado la semántica de la sentencia SQL es mucho más limpia para realizar esta tarea. Pero no todas las tareas que os vais a encontrar se pueden hacer mediante sentencias SQL. En este ejercicio vamos a ver un ejemplo.\n",
    "\n",
    "El objetivo de este ejercicio es contar el número de veces que cada hashtag (literalmente: palabras precedidas o serparadas por un #) ha aparecido en el dataset. Para evitar la sobrerrepresentación debida a los retweets vamos a concentrarnos en solo aquellos tweets que no son retweets de ningún otro, o dicho de otra manera, en aquellos en los que el campo ```retweeted_status``` es nulo. Cread una variable ```non_retweets``` que contenga todos estos tweets.\n",
    "\n",
    "**Esquema**\n",
    "```Python\n",
    "non_retweets = <FILL IN>\n",
    "```"
   ]
  },
  {
   "cell_type": "code",
   "execution_count": 45,
   "metadata": {
    "deletable": false,
    "nbgrader": {
     "cell_type": "code",
     "checksum": "937f2396b7f82613a95738ef4bc24ccd",
     "grade": false,
     "grade_id": "cell-54dc6516920b99c6",
     "locked": false,
     "schema_version": 3,
     "solution": true,
     "task": false
    }
   },
   "outputs": [
    {
     "name": "stdout",
     "output_type": "stream",
     "text": [
      "+--------------------+\n",
      "|                text|\n",
      "+--------------------+\n",
      "|@Earco1977 Pues a...|\n",
      "|@CastigadorY @jus...|\n",
      "|Hola @policia, ho...|\n",
      "|@LaRepublicaCat @...|\n",
      "|@Podemos_CPRA @Ir...|\n",
      "|@_GetMata_ @vox_e...|\n",
      "|PSOE: RT SextaNoc...|\n",
      "|@AnyPedrolo_2018 ...|\n",
      "|PSOE: /❤️Millones...|\n",
      "|Hilo imprescindib...|\n",
      "|Y TU, Pedro, ERE ...|\n",
      "|@gabrielrufian Tr...|\n",
      "|https://t.co/Ch8G...|\n",
      "|@SextaNocheTV @PS...|\n",
      "|@JoseNG1997 @popu...|\n",
      "|@PSOE @mjmonteroc...|\n",
      "|@Sericha10 @PSOE ...|\n",
      "|@pujol_masip @Ine...|\n",
      "|@Rafa_Hernando No...|\n",
      "|Pablo Iglesias pr...|\n",
      "+--------------------+\n",
      "only showing top 20 rows\n",
      "\n"
     ]
    },
    {
     "data": {
      "text/plain": [
       "1318664"
      ]
     },
     "execution_count": 45,
     "metadata": {},
     "output_type": "execute_result"
    }
   ],
   "source": [
    "#non_retweets=hiveContext.sql(\"\"\"SELECT * FROM tweets28a_sample25 WHERE retweeted_status._id AND\n",
    " #                            retweeted_status.user.followers ='null' AND retweeted_status.user.friends_count ='null' AND\n",
    "  #                           retweeted_status.user.id_str ='null' AND retweeted_status.user.lang ='null' AND\n",
    "   #                          retweeted_status.user.screen_name ='null' AND retweeted_status.user.statuses_count ='null'\"\"\")\n",
    "non_retweets=hiveContext.sql(\"SELECT text FROM tweets28a_sample25 WHERE retweeted_status IS NULL\")\n",
    "non_retweets.show()\n",
    "non_retweets.count()"
   ]
  },
  {
   "cell_type": "code",
   "execution_count": 46,
   "metadata": {
    "deletable": false,
    "editable": false,
    "nbgrader": {
     "cell_type": "code",
     "checksum": "3f8d0bd6ccd35345cf43f51f635311e5",
     "grade": true,
     "grade_id": "cell-dc8bf26ac512836d",
     "locked": true,
     "points": 0.1,
     "schema_version": 3,
     "solution": false,
     "task": false
    }
   },
   "outputs": [],
   "source": [
    "assert non_retweets.count() == 1318664, \"Incorrect answer\""
   ]
  },
  {
   "cell_type": "markdown",
   "metadata": {
    "deletable": false,
    "editable": false,
    "nbgrader": {
     "cell_type": "markdown",
     "checksum": "1e2f57664789340179a891108b18de9d",
     "grade": false,
     "grade_id": "cell-7dc2107203021a1c",
     "locked": true,
     "schema_version": 3,
     "solution": false,
     "task": false
    }
   },
   "source": [
    "Seguidamente vamos ha crear una variable ```hashtags``` que contenga una lista de tuplas con la información ```(hashtag, count)```. Para ello, cread un RDD que contenga una lista con el texto de todos los tweets. Una vez hecho este paso tenéis que extraer los hashtags (palabras precedidas o separadas por un #) y contarlos.\n",
    "\n",
    "Recordad los conocimientos adquiridos en la PEC 1 y el anterior ejercicio, os serán de gran ayuda."
   ]
  },
  {
   "cell_type": "code",
   "execution_count": 48,
   "metadata": {
    "deletable": false,
    "nbgrader": {
     "cell_type": "code",
     "checksum": "502ec252554b51990b00d78981ae9739",
     "grade": true,
     "grade_id": "cell-472cc1af8d65ca8a",
     "locked": false,
     "points": 0.7,
     "schema_version": 3,
     "solution": true,
     "task": false
    }
   },
   "outputs": [
    {
     "data": {
      "text/plain": [
       "[('#F5', 1),\n",
       " ('#FASCISMONUNCAMAS', 4),\n",
       " ('#?”', 1),\n",
       " ('#SMARTPHONE?🤔', 1),\n",
       " ('#VÉLEZBLANCO', 1),\n",
       " ('#TSHIRTS', 1),\n",
       " ('#EXTRALOUNGE', 3),\n",
       " ('#MESA', 1),\n",
       " ('#BADAJOZ', 31),\n",
       " ('#CS(LIBERALES…', 1),\n",
       " ('#EQUIPARACIONREAL', 4),\n",
       " ('#PUCHERAZO…', 1),\n",
       " ('#RECOMPTE', 1),\n",
       " ('#NACIONALISMOPROVINCIANOCATETO', 1),\n",
       " ('#MELODICESOMELOCUENTAS', 1),\n",
       " ('#HAYOTROCAMINO…', 1),\n",
       " ('#APRA:', 2),\n",
       " ('#NATIONALDEMOCRACY', 1),\n",
       " ('#LAAMERICAS', 1),\n",
       " ('#NAVIDAD', 2),\n",
       " ('#TEMASQUEIMPORTAN', 1),\n",
       " ('#PORTADAS', 36),\n",
       " ('#ABORTO', 23),\n",
       " ('#LIBERTADPARAASSANGE', 1),\n",
       " ('#VAMOSHUESCA', 3),\n",
       " ('#UNIDOSSOMOSMASFUERTES…', 3),\n",
       " ('#CISS', 1),\n",
       " ('#REFLEXIONESDELALMA…', 1),\n",
       " ('#NOCONMISIMPUESTOS…', 1),\n",
       " ('#LEYDHONT…', 1),\n",
       " ('#ALERTADORESDECORRUPCIÓN', 1),\n",
       " ('#AMNESIASELECTIVA', 1),\n",
       " ('#ABRERA', 3),\n",
       " ('#12INCH', 1),\n",
       " ('#MITINPPVIGO', 2),\n",
       " ('#LAESPAÑADELPLADUR', 13),\n",
       " ('#PCPE:', 2),\n",
       " ('#KATIEHOPKINS', 1),\n",
       " ('#TORREDEMBARRA…', 3),\n",
       " ('#CAMERA', 1),\n",
       " ('#DECORARTEHOGAR', 1),\n",
       " ('#1️⃣0️⃣', 2),\n",
       " ('#VITORIA', 16),\n",
       " ('#FEMIFASCISMO', 1),\n",
       " ('#JUNTSXPALAU', 1),\n",
       " ('#DIÁLOGOSCONPATRICIA', 1),\n",
       " ('#CASADO;…', 1),\n",
       " ('#HAZCOMOROSA', 1),\n",
       " ('#COMMITTEES', 1),\n",
       " ('#BNG!', 1)]"
      ]
     },
     "execution_count": 48,
     "metadata": {},
     "output_type": "execute_result"
    }
   ],
   "source": [
    "#https://stackoverflow.com/questions/27826174/how-to-get-nth-row-of-spark-rdd\n",
    "#non_retweets_rdd.collect()[1].text\n",
    "#row=Row(age=11, name='Alice')\n",
    "#row.age, row.name\n",
    "#non_retweets_rdd=non_retweets.rdd.map(lambda x:(x,letter_counter(x.text,'#')))\n",
    "def letter_counter(input,letter): #número de veces que aparece la letra 'letter' en la palabra 'input'\n",
    "    num_letters=0\n",
    "    for char in input:\n",
    "        if char==letter:\n",
    "            num_letters=num_letters+1\n",
    "    return num_letters\n",
    "#non_retweets_rdd=non_retweets.rdd.map(lambda x:x.text).flatMap(lambda x:x.split(' ')).flatMap(lambda x:x.split('\\n')).flatMap(lambda x:x.split(',')).flatMap(lambda x:x.split('.')).filter(lambda x: letter_counter(x,'#')>0).map(lambda x:(x,1)).reduceByKey(lambda a,b:a+b).takeOrdered(1, key = lambda x: -x[1])\n",
    "#non_retweets_rdd=non_retweets.rdd.map(lambda x:x.text).flatMap(lambda x:x.split(' ')).filter(lambda x: letter_counter(x,'#')>0).flatMap(lambda x:x.split('#')).map(lambda x:\"#\" + x).flatMap(lambda x:x.split('\\n')).map(lambda x:(x,1)).reduceByKey(lambda a,b:a+b).takeOrdered(1, key = lambda x: -x[1])\n",
    "#non_retweets_rdd=non_retweets.rdd.map(lambda x:x.text).flatMap(lambda x:x.split(' ')).flatMap(lambda x:x.split('\\n')).flatMap(lambda x:x.split(',')).flatMap(lambda x:x.split('.')).filter(lambda x: letter_counter(x,'#')>0).flatMap(lambda x:x.split('#')).map(lambda x:\"#\" + x).filter(lambda x:x!='#').map(lambda x:x.upper()).map(lambda x:(x,1)).reduceByKey(lambda a,b:a+b).takeOrdered(1, key = lambda x: -x[1])\n",
    "non_retweets_rdd=non_retweets.rdd.map(lambda x:x.text).flatMap(lambda x:x.split(' ')).flatMap(lambda x:x.split('\\n')).flatMap(lambda x:x.split(',')).flatMap(lambda x:x.split('.')).filter(lambda x: letter_counter(x,'#')>0).flatMap(lambda x:x.split('#')).map(lambda x:\"#\" + x).filter(lambda x:x!='#').map(lambda x:x.upper()).map(lambda x:(x,1)).reduceByKey(lambda a,b:a+b)\n",
    "non_retweets_rdd.take(50)"
   ]
  },
  {
   "cell_type": "markdown",
   "metadata": {
    "deletable": false,
    "editable": false,
    "nbgrader": {
     "cell_type": "markdown",
     "checksum": "61ccf655c2293e7052c45319fc474060",
     "grade": false,
     "grade_id": "cell-2f143219bff9e857",
     "locked": true,
     "schema_version": 3,
     "solution": false,
     "task": false
    }
   },
   "source": [
    "Finalmente, se os pide que con el RDD obtenido generéis una tabla ```hashtagsTable``` compuesta de dos columnas:\n",
    "- ***hashtag***\n",
    "- ***num:*** número de veces que aparece cada hashtag.\n",
    "\n",
    "Ordenadla en orden descendente por número de tweets.\n",
    "\n",
    "**Esquema**\n",
    "```Python\n",
    "hashtagsTable = <FILL IN>\n",
    "\n",
    "hashtagsTable.limit(20).show()\n",
    "```"
   ]
  },
  {
   "cell_type": "code",
   "execution_count": 49,
   "metadata": {
    "deletable": false,
    "nbgrader": {
     "cell_type": "code",
     "checksum": "775f43eadc8b59f5198ee3219102db44",
     "grade": false,
     "grade_id": "cell-10435b59256fe1ad",
     "locked": false,
     "schema_version": 3,
     "solution": true,
     "task": false
    }
   },
   "outputs": [
    {
     "data": {
      "text/plain": [
       "[Row(hashtag='#28A', num=39658),\n",
       " Row(hashtag='#ELDEBATEDECISIVO', num=28017),\n",
       " Row(hashtag='#ELDEBATEENRTVE', num=25640),\n",
       " Row(hashtag='#ELECCIONESGENERALES28A', num=8602),\n",
       " Row(hashtag='#EQUIPARACIONYA', num=7653),\n",
       " Row(hashtag='#ELECCIONESL6', num=7607),\n",
       " Row(hashtag='#HAZQUEPASE', num=6476),\n",
       " Row(hashtag='#DEBATEATRESMEDIA', num=5607),\n",
       " Row(hashtag='#VOX', num=5253),\n",
       " Row(hashtag='#DEBATERTVE', num=4622),\n",
       " Row(hashtag='#DEBATTV3', num=4501),\n",
       " Row(hashtag='#LAHISTORIALAESCRIBESTÚ', num=4417),\n",
       " Row(hashtag='#PORESPAÑA', num=3964),\n",
       " Row(hashtag='#VOTAPSOE', num=3855),\n",
       " Row(hashtag='#ELECCIONESGENERALES', num=3558),\n",
       " Row(hashtag='#28ABRIL', num=3474),\n",
       " Row(hashtag='#ILPJUSAPOL', num=3471),\n",
       " Row(hashtag='#ESPAÑAVIVA', num=3074),\n",
       " Row(hashtag='#PSOE', num=2757),\n",
       " Row(hashtag='#VALORSEGURO', num=2742),\n",
       " Row(hashtag='#ESPAÑA', num=2685),\n",
       " Row(hashtag='#LAESPAÑAQUEQUIERES', num=2258),\n",
       " Row(hashtag='#UNIDASPODEMOS', num=1967),\n",
       " Row(hashtag='#VOXSALEAGANAR', num=1807),\n",
       " Row(hashtag='#VAMOSCIUDADANOS', num=1708),\n",
       " Row(hashtag='#28A…', num=1577),\n",
       " Row(hashtag='#VOTAPORFAVOR', num=1484),\n",
       " Row(hashtag='#ELECCIONES2019', num=1291),\n",
       " Row(hashtag='#PP', num=1275),\n",
       " Row(hashtag='#VOXEXTREMANECESIDAD', num=1218),\n",
       " Row(hashtag='#STOPLEYABUSOSPOLICIALES', num=1174),\n",
       " Row(hashtag='#ESTAMOSMUYCERCA', num=1171),\n",
       " Row(hashtag='#SOYMUJERVOTOVOX', num=1057),\n",
       " Row(hashtag='#IDENTIDADVOX', num=1047),\n",
       " Row(hashtag='#CONRIVERANO', num=1029),\n",
       " Row(hashtag='#ELECCIONESGENERALES28ABRIL', num=1025),\n",
       " Row(hashtag='#SOSPRISIONES', num=1007),\n",
       " Row(hashtag='#YOVOTOUNIDASPODEMOS', num=997),\n",
       " Row(hashtag='#ELECCIONES28A', num=985),\n",
       " Row(hashtag='#DEBATEDECISIVOARV', num=984),\n",
       " Row(hashtag='#ELECCIONESGENERALES2019', num=976),\n",
       " Row(hashtag='#VOTA28A', num=900),\n",
       " Row(hashtag='#LAESPAÑAQUESUMA', num=870),\n",
       " Row(hashtag='#UNIDASPODEMOS28A', num=863),\n",
       " Row(hashtag='#VOTA', num=841),\n",
       " Row(hashtag='#YOVOTOVOX', num=840),\n",
       " Row(hashtag='#EQUIPARACIONYA…', num=812),\n",
       " Row(hashtag='#SOMOSUNOSOMOSVOX', num=779),\n",
       " Row(hashtag='#SISEPUEDE', num=768),\n",
       " Row(hashtag='#JORNADADEREFLEXION', num=765)]"
      ]
     },
     "execution_count": 49,
     "metadata": {},
     "output_type": "execute_result"
    }
   ],
   "source": [
    "hashtagsTable=non_retweets_rdd.sortBy(lambda x:-x[1]).toDF().withColumnRenamed('_1','hashtag').withColumnRenamed('_2','num')\n",
    "hashtagsTable.take(50)"
   ]
  },
  {
   "cell_type": "code",
   "execution_count": 50,
   "metadata": {
    "deletable": false,
    "editable": false,
    "nbgrader": {
     "cell_type": "code",
     "checksum": "2ccdc8aa4d07e652239603292bc929f7",
     "grade": true,
     "grade_id": "cell-0554917487d542e2",
     "locked": true,
     "points": 0.7,
     "schema_version": 3,
     "solution": false,
     "task": false
    }
   },
   "outputs": [],
   "source": [
    "output = hashtagsTable.first()\n",
    "assert output.hashtag == \"#28A\" and output.num >= 38000, \"Incorrect output\""
   ]
  },
  {
   "cell_type": "markdown",
   "metadata": {
    "deletable": false,
    "editable": false,
    "nbgrader": {
     "cell_type": "markdown",
     "checksum": "a64cab32173e02d86d746f13fe8a390e",
     "grade": false,
     "grade_id": "cell-eaac2bd3c05aaf8e",
     "locked": true,
     "schema_version": 3,
     "solution": false,
     "task": false
    },
    "toc-hr-collapsed": false
   },
   "source": [
    "## **Parte 3:** Sampling\n",
    "\n",
    "En muchas ocasiones, antes de lanzar costoso procesos, es una práctica habitual tratar con un pequeño conjunto de los datos para investigar algunas propiedades o simplemente para debugar nuestros algoritmos, a esta tarea se la llama sampling. En esta parte de la práctica vamos a ver los dos principales métodos de sampling y cómo utilizarlos."
   ]
  },
  {
   "cell_type": "markdown",
   "metadata": {
    "deletable": false,
    "editable": false,
    "nbgrader": {
     "cell_type": "markdown",
     "checksum": "c08731e0a5ed12a59cb633f26055d985",
     "grade": false,
     "grade_id": "cell-6cc5b79056c13a7d",
     "locked": true,
     "schema_version": 3,
     "solution": false,
     "task": false
    }
   },
   "source": [
    "### **Parte 3.1:** Homogeneo\n",
    "\n",
    "El primer sampling que vamos a ver es [el homogeneo](https://en.wikipedia.org/wiki/Simple_random_sample). Este sampling se basta en simplemente escoger una fracción de la población seleccionando aleatoriamente elementos de la misma.\n",
    "\n",
    "Primero de todo vamos ha realizar un sampling homogéneo del 1% de los tweets generados en periodo electoral sin reemplazo. Guardad en una variable ```tweets_sample``` este sampling utilizando el método ```sample``` descrito en la [API de pyspark SQL](https://spark.apache.org/docs/2.4.0/api/python/pyspark.sql.html). El seed que vais a utilizar para inicializar el generador aleatorio es 42.\n",
    "\n",
    "**Esquema**\n",
    "```Python\n",
    "seed = 42\n",
    "fraction = 0.01\n",
    "\n",
    "tweets_sample = tweets.<FILL IN>\n",
    "\n",
    "print(\"Number of tweets sampled: {0}\".format(tweets_sample.count()))\n",
    "```"
   ]
  },
  {
   "cell_type": "code",
   "execution_count": 51,
   "metadata": {
    "deletable": false,
    "nbgrader": {
     "cell_type": "code",
     "checksum": "7d01c1fc4066fd1e1002e3f3b459fd98",
     "grade": false,
     "grade_id": "cell-b64b6c8d35cf75ee",
     "locked": false,
     "schema_version": 3,
     "solution": true,
     "task": false
    }
   },
   "outputs": [
    {
     "data": {
      "text/plain": [
       "[Row(_id='1117169844984610817', created_at=datetime.datetime(2019, 4, 13, 22, 57, 1), lang='es', place=None, retweeted_status=None, text='@Earco1977 Pues a mí me encantaría poder gobernar sin el PSOE.', user=Row(followers_count=5893, friends_count=4783, id_str='509047038', lang='es', screen_name='Maria_Beatle', statuses_count=15161))]"
      ]
     },
     "execution_count": 51,
     "metadata": {},
     "output_type": "execute_result"
    }
   ],
   "source": [
    "tweets_sample = tweets.sample(withReplacement=None,fraction=0.01,seed=42)\n",
    "tweets_sample.take(1)"
   ]
  },
  {
   "cell_type": "code",
   "execution_count": 52,
   "metadata": {
    "deletable": false,
    "editable": false,
    "nbgrader": {
     "cell_type": "code",
     "checksum": "4a5820bdb545c72712f116f947e9ed21",
     "grade": true,
     "grade_id": "cell-a7cfa251ac394cc2",
     "locked": true,
     "points": 0.125,
     "schema_version": 3,
     "solution": false,
     "task": false
    }
   },
   "outputs": [],
   "source": [
    "assert tweets_sample.count() == 63888, \"Incorrect output\""
   ]
  },
  {
   "cell_type": "markdown",
   "metadata": {
    "deletable": false,
    "editable": false,
    "nbgrader": {
     "cell_type": "markdown",
     "checksum": "9edd3a5b39f03fbf93cc02cf61c8dbf1",
     "grade": false,
     "grade_id": "cell-9fbb3918484a07ce",
     "locked": true,
     "schema_version": 3,
     "solution": false,
     "task": false
    }
   },
   "source": [
    "Una de las cosas que resulta interesante comprobar acerca de los patrones de uso de las redes sociales es el patrón de uso diario. En este caso nos interesa el número promedio de tweets que se genera cada hora del día. Para extraer esta información lo que haremos primero, será generar una tabla ```tweets_timestamp``` con la información:\n",
    "- ***created_at***: timestamp de cuando se publicó el tweet.\n",
    "- ***hour***: a que hora del dia corresponde.\n",
    "- ***day***: Fecha en formato MM-dd-YY\n",
    "\n",
    "La función ```hour``` os servirá para extraer la hora del timestamp y la función ```date_format``` os permitirá generar la fecha. La tabla tiene que estar en orden ascendente según la columna `created_at`"
   ]
  },
  {
   "cell_type": "code",
   "execution_count": 53,
   "metadata": {
    "deletable": false,
    "nbgrader": {
     "cell_type": "code",
     "checksum": "262ec79af805fc2972704923a42e2f1b",
     "grade": false,
     "grade_id": "cell-5d8ae05f924c3591",
     "locked": false,
     "schema_version": 3,
     "solution": true,
     "task": false
    }
   },
   "outputs": [
    {
     "name": "stdout",
     "output_type": "stream",
     "text": [
      "+-------------------+----+--------+\n",
      "|         created_at|hour|     day|\n",
      "+-------------------+----+--------+\n",
      "|2019-04-12 03:06:25|   3|04-12-19|\n",
      "|2019-04-12 05:08:47|   5|04-12-19|\n",
      "|2019-04-12 09:15:02|   9|04-12-19|\n",
      "|2019-04-12 09:38:31|   9|04-12-19|\n",
      "|2019-04-12 10:46:02|  10|04-12-19|\n",
      "|2019-04-12 10:47:17|  10|04-12-19|\n",
      "|2019-04-12 10:49:17|  10|04-12-19|\n",
      "|2019-04-12 10:49:30|  10|04-12-19|\n",
      "|2019-04-12 10:54:29|  10|04-12-19|\n",
      "|2019-04-12 10:55:06|  10|04-12-19|\n",
      "|2019-04-12 10:55:08|  10|04-12-19|\n",
      "|2019-04-12 10:55:16|  10|04-12-19|\n",
      "|2019-04-12 10:55:28|  10|04-12-19|\n",
      "|2019-04-12 10:55:52|  10|04-12-19|\n",
      "|2019-04-12 10:58:11|  10|04-12-19|\n",
      "|2019-04-12 10:59:53|  10|04-12-19|\n",
      "|2019-04-12 11:00:27|  11|04-12-19|\n",
      "|2019-04-12 11:00:34|  11|04-12-19|\n",
      "|2019-04-12 11:00:54|  11|04-12-19|\n",
      "|2019-04-12 11:02:18|  11|04-12-19|\n",
      "+-------------------+----+--------+\n",
      "\n"
     ]
    }
   ],
   "source": [
    "#https://stackoverflow.com/questions/27826174/how-to-get-nth-row-of-spark-rdd\n",
    "#non_retweets_rdd.collect()[1].text\n",
    "#row=Row(age=11, name='Alice')\n",
    "#row.age, row.name\n",
    "#non_retweets_rdd=non_retweets.rdd.map(lambda x:(x,letter_counter(x.text,'#')))\n",
    "\n",
    "#hashtagsTable=non_retweets_rdd.sortBy(lambda x:-x[1]).toDF().withColumnRenamed('_1','hashtag').withColumnRenamed('_2','num')\n",
    "#hashtagsTable.take(50)\n",
    "\n",
    "#date_format(tweets_sample.collect()[1].created_at,\"yyyy MM dd\") #no funciona\n",
    "#tweets_sample.rdd.map(lambda item: (item[1].date(),item[1].hour,item[1].from_utc_timestamp())).toDF().show(5)\n",
    "#map(lambda x:(x[0].datatime.datatime,x[1]))\n",
    "#tweets_sample.collect()[1].lang\n",
    "\n",
    "#retweeted = sqlContext.sql(\"\"\"SELECT user_agg.screen_name, MAX(user_agg.friends_count) AS friends_count,\n",
    " #                           MAX(user_agg.followers_count) AS followers_count,\n",
    "  #                          MAX(user_agg.tweets) AS tweets,\n",
    "   #                         COUNT(tweets_sample.retweeted_status) AS retweeted,\n",
    "    #                        COUNT(tweets_sample.retweeted_status)/MAX(user_agg.tweets) AS ratio_tweet_retweeted\n",
    "     #                       FROM tweets_sample\n",
    "      #                      INNER JOIN user_agg\n",
    "       #                     ON tweets_sample.retweeted_status.user.screen_name = user_agg.screen_name\n",
    "        #                    GROUP BY user_agg.screen_name ORDER BY ratio_tweet_retweeted DESC\"\"\")\n",
    "        \n",
    "#output=sqlContext.sql(\"SELECT created_at, hour(created_at) AS hour, date(created_at), created_at FROM tbl\").first()\n",
    "#output.hour\n",
    "\n",
    "from pyspark.sql.functions import date_format, hour, from_utc_timestamp\n",
    "\n",
    "sqlContext.registerDataFrameAsTable(tweets_sample, \"tbl\")\n",
    "tweets_timestamp=sqlContext.sql(\"\"\"SELECT created_at, hour(created_at) AS hour,\n",
    "                                date_format(date(created_at), \"0M-d-YY\") AS day FROM tbl\n",
    "                                ORDER BY created_at\"\"\")\n",
    "\n",
    "tweets_timestamp.limit(20).show()"
   ]
  },
  {
   "cell_type": "code",
   "execution_count": 54,
   "metadata": {
    "deletable": false,
    "editable": false,
    "nbgrader": {
     "cell_type": "code",
     "checksum": "8fadf877e8fda4e7f62e9346885f398a",
     "grade": true,
     "grade_id": "cell-846e0102e9e77c84",
     "locked": true,
     "points": 0.25,
     "schema_version": 3,
     "solution": false,
     "task": false
    }
   },
   "outputs": [],
   "source": [
    "output = tweets_timestamp.first()\n",
    "assert output.day == \"04-12-19\" and output.hour == 3, \"Incorrect output\""
   ]
  },
  {
   "cell_type": "markdown",
   "metadata": {
    "deletable": false,
    "editable": false,
    "nbgrader": {
     "cell_type": "markdown",
     "checksum": "2f690295bfa94fc5aa1817b69cce6e5a",
     "grade": false,
     "grade_id": "cell-4d55081b8f9d4261",
     "locked": true,
     "schema_version": 3,
     "solution": false,
     "task": false
    }
   },
   "source": [
    "El paso siguiente es agregar estos datos por hora y día en una tabla ```tweets_hour_day```. Tenéis que crear una tabla ```tweets_hour``` con la información:\n",
    "- ***hour:*** hora del dia\n",
    "- ***day:*** fecha\n",
    "- ***count:*** número de tweets generados\n",
    "\n",
    "Ordenad la tabla por orden descendente de tweets."
   ]
  },
  {
   "cell_type": "code",
   "execution_count": 55,
   "metadata": {
    "deletable": false,
    "nbgrader": {
     "cell_type": "code",
     "checksum": "081131a2e734d16c1242bcd86efd4435",
     "grade": false,
     "grade_id": "cell-5ff5adc081f0ed8a",
     "locked": false,
     "schema_version": 3,
     "solution": true,
     "task": false
    }
   },
   "outputs": [
    {
     "name": "stdout",
     "output_type": "stream",
     "text": [
      "+----+--------+-----+\n",
      "|hour|     day|count|\n",
      "+----+--------+-----+\n",
      "|  23|04-23-19| 1222|\n",
      "|  23|04-22-19| 1116|\n",
      "|   0|04-24-19|  999|\n",
      "|  23|04-28-19|  929|\n",
      "|  22|04-23-19|  917|\n",
      "|  22|04-22-19|  913|\n",
      "|  22|04-28-19|  856|\n",
      "|   0|04-29-19|  838|\n",
      "|   0|04-23-19|  713|\n",
      "|  21|04-28-19|  494|\n",
      "|   1|04-24-19|  427|\n",
      "|  16|04-28-19|  417|\n",
      "|  15|04-28-19|  417|\n",
      "|  20|04-28-19|  412|\n",
      "|   1|04-29-19|  408|\n",
      "|  18|04-28-19|  393|\n",
      "|  17|04-28-19|  386|\n",
      "|  19|04-28-19|  366|\n",
      "|  21|04-23-19|  354|\n",
      "|  14|04-28-19|  346|\n",
      "+----+--------+-----+\n",
      "\n"
     ]
    }
   ],
   "source": [
    "#retweeted = sqlContext.sql(\"\"\"SELECT user_agg.screen_name, MAX(user_agg.friends_count) AS friends_count,\n",
    " #                           MAX(user_agg.followers_count) AS followers_count,\n",
    "  #                          MAX(user_agg.tweets) AS tweets,\n",
    "   #                         COUNT(tweets_sample.retweeted_status) AS retweeted,\n",
    "    #                        COUNT(tweets_sample.retweeted_status)/MAX(user_agg.tweets) AS ratio_tweet_retweeted\n",
    "     #                       FROM tweets_sample\n",
    "      #                      INNER JOIN user_agg\n",
    "       #                     ON tweets_sample.retweeted_status.user.screen_name = user_agg.screen_name\n",
    "        #                    GROUP BY user_agg.screen_name ORDER BY ratio_tweet_retweeted DESC\"\"\")\n",
    "\n",
    "tweets_hour_day=sqlContext.sql(\"\"\"SELECT hour(created_at) AS hour,\n",
    "                date_format(date(created_at), \"0M-d-YY\") AS day,\n",
    "                COUNT(_id ) as count  FROM tbl GROUP BY day, hour\n",
    "                ORDER BY count DESC\"\"\")\n",
    "tweets_hour_day.limit(20).show()"
   ]
  },
  {
   "cell_type": "code",
   "execution_count": 56,
   "metadata": {
    "deletable": false,
    "editable": false,
    "nbgrader": {
     "cell_type": "code",
     "checksum": "a76037e90835d321ac1f28598e3135f5",
     "grade": true,
     "grade_id": "cell-4136767d4dba6837",
     "locked": true,
     "points": 0.125,
     "schema_version": 3,
     "solution": false,
     "task": false
    }
   },
   "outputs": [],
   "source": [
    "output = tweets_hour_day.first()\n",
    "assert output.hour == 23 and output['count'] == 1222, \"Incorrect output\""
   ]
  },
  {
   "cell_type": "markdown",
   "metadata": {
    "deletable": false,
    "editable": false,
    "nbgrader": {
     "cell_type": "markdown",
     "checksum": "1d270162b9741e77ba6951125d9edf29",
     "grade": false,
     "grade_id": "cell-9711c5a4b8435d13",
     "locked": true,
     "schema_version": 3,
     "solution": false,
     "task": false
    }
   },
   "source": [
    "Por último solo nos queda hacer una agregación por hora para conseguir el promedio de tweets por hora. Tenéis que generar una tabla ```tweets_hour``` con la información:\n",
    "- ***hour:*** Hora\n",
    "- ***tweets:*** Promedio de tweets realizados\n",
    "\n",
    "Recordad que estamos trabajando con un sample del 1% por tanto tenéis que corregir la columna ```tweets``` para que refleje el promedio que deberíamos esperar en el conjunto completo de tweets. La tabla tiene que estar ordenada en orden ascendente de hora."
   ]
  },
  {
   "cell_type": "code",
   "execution_count": 57,
   "metadata": {
    "deletable": false,
    "nbgrader": {
     "cell_type": "code",
     "checksum": "91db13dfb8cd1a97238b76c8715b6e60",
     "grade": false,
     "grade_id": "cell-e54cd30ac632f4bb",
     "locked": false,
     "schema_version": 3,
     "solution": true,
     "task": false
    }
   },
   "outputs": [],
   "source": [
    "#sqlContext.sql(\"\"\"SELECT hour(created_at) AS hour,\n",
    " #               date_format(date(created_at), \"0M-d-YY\") AS day,\n",
    "  #              COUNT(_id ) as count  FROM tbl GROUP BY hour\n",
    "   #             ORDER BY count DESC\"\"\")\n",
    "    \n",
    "sqlContext.sql(\"DROP TABLE IF EXISTS tweets_hour_day\")\n",
    "sqlContext.registerDataFrameAsTable(tweets_hour_day, \"tweets_hour_day\")\n",
    "    \n",
    "tweets_hour=sqlContext.sql(\"\"\"SELECT hour,\n",
    "                            100*AVG(count) AS tweets\n",
    "                            FROM tweets_hour_day\n",
    "                            GROUP BY hour\n",
    "                            ORDER BY hour\"\"\")\n",
    "#tweets_hour.limit(24).show()"
   ]
  },
  {
   "cell_type": "code",
   "execution_count": 58,
   "metadata": {
    "deletable": false,
    "editable": false,
    "nbgrader": {
     "cell_type": "code",
     "checksum": "9f28c89f8582fc88b850c92540940149",
     "grade": true,
     "grade_id": "cell-d7cdae10a0b3a437",
     "locked": true,
     "points": 0.25,
     "schema_version": 3,
     "solution": false,
     "task": false
    }
   },
   "outputs": [],
   "source": [
    "assert tweets_hour.first().hour == 0 and round(tweets_hour.first().tweets) == 26189"
   ]
  },
  {
   "cell_type": "markdown",
   "metadata": {
    "deletable": false,
    "editable": false,
    "nbgrader": {
     "cell_type": "markdown",
     "checksum": "a37fd5c5adb26be02017c5a17bb239b0",
     "grade": false,
     "grade_id": "cell-57be2455836c59b9",
     "locked": true,
     "schema_version": 3,
     "solution": false,
     "task": false
    }
   },
   "source": [
    "Por último, tenéis que producir un gráfico de barras utilizando [Pandas](https://pandas.pydata.org/) donde se muestre la información que acabáis de generar. Primero transformad la tabla `tweets_hour` a pandas utilizando el método `toPandas()`. Plotead la tabla resultante utilizando [la funcionalidad gráfica de pandas.](https://pandas.pydata.org/docs/reference/api/pandas.DataFrame.plot.bar.html)"
   ]
  },
  {
   "cell_type": "code",
   "execution_count": 59,
   "metadata": {
    "deletable": false,
    "nbgrader": {
     "cell_type": "code",
     "checksum": "5657c1d4713fb923f21e768656c28eaa",
     "grade": true,
     "grade_id": "cell-8b426c5ba583bcc9",
     "locked": false,
     "points": 0.25,
     "schema_version": 3,
     "solution": true,
     "task": false
    }
   },
   "outputs": [
    {
     "data": {
      "text/plain": [
       "<matplotlib.axes._subplots.AxesSubplot at 0x7f3a0fd22dd8>"
      ]
     },
     "execution_count": 59,
     "metadata": {},
     "output_type": "execute_result"
    },
    {
     "data": {
      "image/png": "[encoded data removed]",
      "text/plain": [
       "<Figure size 432x288 with 1 Axes>"
      ]
     },
     "metadata": {
      "needs_background": "light"
     },
     "output_type": "display_data"
    }
   ],
   "source": [
    "tweets_hour.toPandas().plot.bar(x='hour',y='tweets')"
   ]
  },
  {
   "cell_type": "markdown",
   "metadata": {
    "deletable": false,
    "editable": false,
    "nbgrader": {
     "cell_type": "markdown",
     "checksum": "9e0605763ee4de4472d85e1aae3fb341",
     "grade": false,
     "grade_id": "cell-811275200af43ba5",
     "locked": true,
     "schema_version": 3,
     "solution": false,
     "task": false
    }
   },
   "source": [
    "### **Parte 3.2:** Estratificado"
   ]
  },
  {
   "cell_type": "markdown",
   "metadata": {
    "deletable": false,
    "editable": false,
    "nbgrader": {
     "cell_type": "markdown",
     "checksum": "73af3778cfc38cc27d8dd5775f6cabe3",
     "grade": false,
     "grade_id": "cell-fbe68f197f991274",
     "locked": true,
     "schema_version": 3,
     "solution": false,
     "task": false
    }
   },
   "source": [
    "En muchas ocasiones el sampling homogéneo no es adecuado ya que por la propia estructura de los datos determinados segmentos pueden estar sobrerrepresentadas. Este es el caso que observamos en los tweets donde las grandes áreas urbanas están sobrerepresentadas si lo comparamos con el volumen de población. En esta actividad vamos a ver cómo aplicar esta técnica al dataset de tweets, para obtener un sampling que respete la proporción de diputados por provincia.\n",
    "\n",
    "En España, el proceso electoral asigna un volumen de diputados a cada provincia que depende de la población y de un porcentaje mínimo asignado por ley. En el contexto Hive que hemos creado previamente (```hiveContext```) podemos encontrar una tabla (```province_28a```) que contiene información sobre las circunscripciones electorales. Cargad ésta tabla en una variable con nombre ```province```."
   ]
  },
  {
   "cell_type": "code",
   "execution_count": 60,
   "metadata": {
    "deletable": false,
    "nbgrader": {
     "cell_type": "code",
     "checksum": "41494f3eecb070841512f49107b0a96a",
     "grade": false,
     "grade_id": "cell-78c789c01092cbc0",
     "locked": false,
     "schema_version": 3,
     "solution": true,
     "task": false
    }
   },
   "outputs": [
    {
     "name": "stdout",
     "output_type": "stream",
     "text": [
      "+-----------+-----------+------------------+----------+---------+\n",
      "|    capital|   province|              ccaa|population|diputados|\n",
      "+-----------+-----------+------------------+----------+---------+\n",
      "|     Teruel|     Teruel|            Aragón|     35691|        3|\n",
      "|      Soria|      Soria|   Castilla y León|     39112|        2|\n",
      "|    Segovia|    Segovia|   Castilla y León|     51683|        3|\n",
      "|     Huesca|     Huesca|            Aragón|     52463|        3|\n",
      "|     Cuenca|     Cuenca|Castilla-La Mancha|     54898|        3|\n",
      "|      Ávila|      Ávila|   Castilla y León|     57697|        3|\n",
      "|     Zamora|     Zamora|   Castilla y León|     61827|        3|\n",
      "|Ciudad Real|Ciudad Real|Castilla-La Mancha|     74743|        5|\n",
      "|   Palencia|   Palencia|   Castilla y León|     78629|        3|\n",
      "| Pontevedra| Pontevedra|           Galicia|     82802|        7|\n",
      "|     Toledo|     Toledo|Castilla-La Mancha|     84282|        6|\n",
      "|Guadalajara|Guadalajara|Castilla-La Mancha|     84910|        3|\n",
      "|      Ceuta|      Ceuta|             Ceuta|     85144|        1|\n",
      "|    Melilla|    Melilla|           Melilla|     86384|        1|\n",
      "|    Cáceres|    Cáceres|       Extremadura|     96098|        4|\n",
      "|       Lugo|       Lugo|           Galicia|     98025|        4|\n",
      "|     Girona|     Girona|          Cataluña|    100266|        6|\n",
      "|     Orense|     Orense|           Galicia|    105505|        4|\n",
      "|       Jaén|       Jaén|         Andalucía|    113457|        5|\n",
      "|      Cádiz|      Cádiz|         Andalucía|    116979|        9|\n",
      "+-----------+-----------+------------------+----------+---------+\n",
      "\n"
     ]
    }
   ],
   "source": [
    "#hiveContext.tables().show()\n",
    "#tweets = hiveContext.table(\"default.tweets28a_sample25\")\n",
    "#tweets_place = hiveContext.sql(\"\"\"SELECT user.screen_name, MAX(user.friends_count) AS friends_count,\n",
    " #                          COUNT(user.screen_name) AS tweets, MAX(user.followers_count) AS followers_count\n",
    "  #                         FROM tweets_sample WHERE user.lang == 'es'\n",
    "   #                        GROUP BY user.screen_name ORDER BY tweets DESC\"\"\")\n",
    "province=hiveContext.table(\"default.province_28a\")\n",
    "province.limit(20).show()"
   ]
  },
  {
   "cell_type": "code",
   "execution_count": 61,
   "metadata": {
    "deletable": false,
    "editable": false,
    "nbgrader": {
     "cell_type": "code",
     "checksum": "7dce4debf8a3bff33b4fba4c8fc160bd",
     "grade": true,
     "grade_id": "cell-df66365e7782a5a2",
     "locked": true,
     "points": 0.0625,
     "schema_version": 3,
     "solution": false,
     "task": false
    }
   },
   "outputs": [],
   "source": [
    "assert province.count() == 52, \"Incorrect answer\""
   ]
  },
  {
   "cell_type": "markdown",
   "metadata": {
    "deletable": false,
    "editable": false,
    "nbgrader": {
     "cell_type": "markdown",
     "checksum": "b6e3aa6ae63d2c2652f2f2267af8378c",
     "grade": false,
     "grade_id": "cell-559a5cf0365b93cf",
     "locked": true,
     "schema_version": 3,
     "solution": false,
     "task": false
    }
   },
   "source": [
    "Para hacer un sampling estratificado lo primero que tenemos que hacer es determinar la fracción que queremos asignar a cada categoría. En este caso queremos una fracción que haga que el ratio tweets diputado sea igual para todas las capitales de provincia. Tenemos que tener en cuenta que la precisión de la geolocalización en Twitter és normalmente a nivel de ciudad. Por eso, para evitar incrementar la complejidad del ejercicio, vamos a utilizar los tweets en capitales de provincia como proxy de los tweets en toda la provincia.\n",
    "\n",
    "Lo primero que tenéis que hacer es crear un tabla ```info_tweets_province``` que debe contener:\n",
    "- ***capital:*** nombre de la capital de provincia.\n",
    "- ***tweets:*** número de tweets geolocalizados en cada capital\n",
    "- ***diputados:*** diputados que asignados a la provincia.\n",
    "- ***ratio_tweets_diputado:*** número de tweets por diputado.\n",
    "\n",
    "Debéis ordenar la lista por ```ratio_tweets_diputado``` en orden ascendente.\n",
    "\n",
    "***Nota:*** Podéis realizar este ejercicio de muchas maneras, probablemente la más fácil es utilizar la tabla ```tweets_place``` que habéis generado en el apartado 2.2.1. Recordad cómo utilizar el ```join()```"
   ]
  },
  {
   "cell_type": "code",
   "execution_count": 62,
   "metadata": {
    "deletable": false,
    "nbgrader": {
     "cell_type": "code",
     "checksum": "1b477bf4113286c6afc2749a5b5ba0e7",
     "grade": false,
     "grade_id": "cell-686a378ab0c82538",
     "locked": false,
     "schema_version": 3,
     "solution": true,
     "task": false
    }
   },
   "outputs": [
    {
     "name": "stdout",
     "output_type": "stream",
     "text": [
      "+--------------------+------+---------+---------------------+\n",
      "|             capital|tweets|diputados|ratio_tweets_diputado|\n",
      "+--------------------+------+---------+---------------------+\n",
      "|              Teruel|     8|        3|   2.6666666666666665|\n",
      "|          Pontevedra|    29|        7|    4.142857142857143|\n",
      "|              Zamora|    23|        3|    7.666666666666667|\n",
      "|              Huesca|    26|        3|    8.666666666666666|\n",
      "|             Segovia|    28|        3|    9.333333333333334|\n",
      "|               Cádiz|   108|        9|                 12.0|\n",
      "|               Soria|    25|        2|                 12.5|\n",
      "|              Cuenca|    39|        3|                 13.0|\n",
      "|         Ciudad Real|    67|        5|                 13.4|\n",
      "|                Lugo|    56|        4|                 14.0|\n",
      "|            Pamplona|    77|        5|                 15.4|\n",
      "|                Jaén|    86|        5|                 17.2|\n",
      "|         Guadalajara|    56|        3|   18.666666666666668|\n",
      "|             Cáceres|    75|        4|                18.75|\n",
      "|Santa Cruz de Ten...|   140|        7|                 20.0|\n",
      "|              Toledo|   124|        6|   20.666666666666668|\n",
      "|            Albacete|    83|        4|                20.75|\n",
      "|       San Sebastián|   127|        6|   21.166666666666668|\n",
      "|            Palencia|    67|        3|   22.333333333333332|\n",
      "|           Tarragona|   135|        6|                 22.5|\n",
      "+--------------------+------+---------+---------------------+\n",
      "\n"
     ]
    }
   ],
   "source": [
    "#tweets_place = hiveContext.sql(\"\"\"SELECT place.name AS name, COUNT(place.name) AS tweets\n",
    " #                          FROM tweets28a_sample25 WHERE place.name!='null'\n",
    "  #                         GROUP BY place.name ORDER BY tweets DESC\"\"\")\n",
    "#tweets_place.limit(40).show()\n",
    "#hiveContext.sql(\"SELECT place.name FROM tweets28a_sample25 WHERE place.name!='null'\")\n",
    "\n",
    "#retweeted = sqlContext.sql(\"\"\"SELECT user_agg.screen_name, MAX(user_agg.friends_count) AS friends_count,\n",
    " #                           MAX(user_agg.followers_count) AS followers_count,\n",
    "  #                          MAX(user_agg.tweets) AS tweets,\n",
    "   #                         COUNT(tweets_sample.retweeted_status) AS retweeted,\n",
    "    #                        COUNT(tweets_sample.retweeted_status)/MAX(user_agg.tweets) AS ratio_tweet_retweeted\n",
    "     #                       FROM tweets_sample\n",
    "      #                      INNER JOIN user_agg\n",
    "       #                     ON tweets_sample.retweeted_status.user.screen_name = user_agg.screen_name\n",
    "        #                    GROUP BY user_agg.screen_name ORDER BY ratio_tweet_retweeted DESC\"\"\")\n",
    "        \n",
    "sqlContext.sql(\"DROP TABLE IF EXISTS tweets_place\")\n",
    "sqlContext.registerDataFrameAsTable(tweets_place, \"tweets_place\")\n",
    "\n",
    "sqlContext.sql(\"DROP TABLE IF EXISTS province\")\n",
    "sqlContext.registerDataFrameAsTable(province, \"province\")\n",
    "        \n",
    "info_tweets_province=sqlContext.sql(\"\"\"SELECT province.capital,\n",
    "                MAX(tweets_place.tweets) AS tweets,\n",
    "                MAX(province.diputados) AS diputados,\n",
    "                MAX(tweets_place.tweets)/MAX(province.diputados) AS ratio_tweets_diputado\n",
    "                FROM tweets_place\n",
    "                INNER JOIN province\n",
    "                ON tweets_place.name=province.capital\n",
    "                GROUP BY province.capital\n",
    "                ORDER BY ratio_tweets_diputado\"\"\")\n",
    "info_tweets_province.limit(20).show()"
   ]
  },
  {
   "cell_type": "code",
   "execution_count": 63,
   "metadata": {
    "deletable": false,
    "editable": false,
    "nbgrader": {
     "cell_type": "code",
     "checksum": "d4dab434319671c833c372adee1f00eb",
     "grade": true,
     "grade_id": "cell-0786655528352342",
     "locked": true,
     "points": 0.25,
     "schema_version": 3,
     "solution": false,
     "task": false
    }
   },
   "outputs": [],
   "source": [
    "output = info_tweets_province.first()\n",
    "maximum_ratio = floor(output.ratio_tweets_diputado * 100) / 100\n",
    "assert output.capital == \"Teruel\" and output.tweets == 8 and output.diputados == 3, \"Incorrect output\""
   ]
  },
  {
   "cell_type": "markdown",
   "metadata": {
    "deletable": false,
    "editable": false,
    "nbgrader": {
     "cell_type": "markdown",
     "checksum": "01b2322ead6f74802cb774ed08221f30",
     "grade": false,
     "grade_id": "cell-c174ca1e2c152b10",
     "locked": true,
     "schema_version": 3,
     "solution": false,
     "task": false
    }
   },
   "source": [
    "Lo primero que vamos a necesitar es un diccionario con nombre ```ratios``` donde cada capital de provincia es una llave y su valor asociado es la fracción de tweets que vamos a samplear. En este caso lo que queremos es que el ratio de tweets por cada diputado sea similar para cada capital de provincia.\n",
    "\n",
    "Como queremos que el sampling sea lo más grande posible y no queremos que ninguna capital este infrarepresentada el ratio de tweets por diputado será el valor más pequeño podéis observar en la tabla ```info_tweets_province```, que corresponde a 11.66 tweets por diputado en Teruel. Tenéis este valor guardado en la variable ```maximum_ratio```.\n",
    "\n",
    "*Nota:* El método ```collectAsMap()``` transforma un PairRDD en un diccionario."
   ]
  },
  {
   "cell_type": "code",
   "execution_count": 64,
   "metadata": {
    "deletable": false,
    "nbgrader": {
     "cell_type": "code",
     "checksum": "65bda9dc2291316da04c6459c06c416b",
     "grade": false,
     "grade_id": "cell-65ab3f04afcee421",
     "locked": false,
     "schema_version": 3,
     "solution": true,
     "task": false
    }
   },
   "outputs": [
    {
     "data": {
      "text/plain": [
       "2.66"
      ]
     },
     "execution_count": 64,
     "metadata": {},
     "output_type": "execute_result"
    }
   ],
   "source": [
    "ratios=info_tweets_province.rdd.map(lambda x:(x[0],x[2])).collectAsMap()\n",
    "ratios['Albacete']\n",
    "#info_tweets_province.rdd.map(lambda x:(x[0],100*x[2]/338)).take(50)\n",
    "#sum(info_tweets_province.rdd.map(lambda x:x.tweets).take(60))\n",
    "#info_tweets_province.rdd.map(lambda x:(x[0],x[2])).take(40)\n",
    "#info_tweets_province.rdd.map(lambda x:x.tweets).take(50)\n",
    "#maximum_ratio\n",
    "maximum_ratio"
   ]
  },
  {
   "cell_type": "code",
   "execution_count": null,
   "metadata": {
    "deletable": false,
    "editable": false,
    "nbgrader": {
     "cell_type": "code",
     "checksum": "f792b2b8057d22a43d326a2c3084ac74",
     "grade": true,
     "grade_id": "cell-aabf4f25dda3fd80",
     "locked": true,
     "points": 0.125,
     "schema_version": 3,
     "solution": false,
     "task": false
    }
   },
   "outputs": [],
   "source": [
    "assert ratios['Albacete'] == 0.12819277108433735, \"Incorrect output\""
   ]
  },
  {
   "cell_type": "markdown",
   "metadata": {
    "deletable": false,
    "editable": false,
    "nbgrader": {
     "cell_type": "markdown",
     "checksum": "3cfe3be8b979e70b73c43429b2f91d92",
     "grade": false,
     "grade_id": "cell-d2d9aafd35905891",
     "locked": true,
     "schema_version": 3,
     "solution": false,
     "task": false
    }
   },
   "source": [
    "Generad una tabla ```geo_tweets``` con todos los tweets geolocalizados."
   ]
  },
  {
   "cell_type": "code",
   "execution_count": null,
   "metadata": {
    "deletable": false,
    "nbgrader": {
     "cell_type": "code",
     "checksum": "5749f705be432359aef81c9f1964229a",
     "grade": true,
     "grade_id": "cell-ba31ae52e39701e5",
     "locked": false,
     "points": 0.0625,
     "schema_version": 3,
     "solution": true,
     "task": false
    }
   },
   "outputs": [],
   "source": [
    "# YOUR CODE HERE\n",
    "raise NotImplementedError()"
   ]
  },
  {
   "cell_type": "markdown",
   "metadata": {
    "deletable": false,
    "editable": false,
    "nbgrader": {
     "cell_type": "markdown",
     "checksum": "ac7087eb7a7bb265316d5e31e0192771",
     "grade": false,
     "grade_id": "cell-b279373d74116807",
     "locked": true,
     "schema_version": 3,
     "solution": false,
     "task": false
    }
   },
   "source": [
    "Ahora ya estamos en disposición de hacer el sampling estratificado por población. Para ello podéis utilizar el método ```sampleBy()```. Utilizad 42 como seed del generador pseudoaleatorio.\n",
    "\n",
    "**Esquema**\n",
    "```Python\n",
    "seed = 42\n",
    "sample = <FILL IN>\n",
    "```"
   ]
  },
  {
   "cell_type": "code",
   "execution_count": null,
   "metadata": {
    "deletable": false,
    "nbgrader": {
     "cell_type": "code",
     "checksum": "03689b51b5402081bceb365466af129a",
     "grade": true,
     "grade_id": "cell-a59cf6ff77d3933c",
     "locked": false,
     "points": 0.0625,
     "schema_version": 3,
     "solution": true,
     "task": false
    }
   },
   "outputs": [],
   "source": [
    "# YOUR CODE HERE\n",
    "raise NotImplementedError()"
   ]
  },
  {
   "cell_type": "markdown",
   "metadata": {
    "deletable": false,
    "editable": false,
    "nbgrader": {
     "cell_type": "markdown",
     "checksum": "e5971ecd82bbfe65999351ae949cf08a",
     "grade": false,
     "grade_id": "cell-efeaef422602bb30",
     "locked": true,
     "schema_version": 3,
     "solution": false,
     "task": false
    }
   },
   "source": [
    "Para visualizar el resultado del sampling vais a crear una tabla ```info_sample``` que contenga la siguiente información:\n",
    "- ***capital:*** nombre de la capital de provincia.\n",
    "- ***tweets:*** número de tweets sampleados en cada capital\n",
    "- ***diputados:*** diputados que asignados a la provincia.\n",
    "- ***ratio_tweets_diputado:*** número de tweets por diputado.\n",
    "\n",
    "Ordenad la tabla resultante por orden de ```ratio_tweets_diputado``` ascendente."
   ]
  },
  {
   "cell_type": "code",
   "execution_count": null,
   "metadata": {
    "deletable": false,
    "nbgrader": {
     "cell_type": "code",
     "checksum": "4d6865ec8f111b85138591cf72e5c3d3",
     "grade": false,
     "grade_id": "cell-b30012b203c207eb",
     "locked": false,
     "schema_version": 3,
     "solution": true,
     "task": false
    }
   },
   "outputs": [],
   "source": [
    "# YOUR CODE HERE\n",
    "raise NotImplementedError()\n",
    "\n",
    "info_sample.limit(20).show()\n"
   ]
  },
  {
   "cell_type": "code",
   "execution_count": null,
   "metadata": {
    "deletable": false,
    "editable": false,
    "nbgrader": {
     "cell_type": "code",
     "checksum": "592e349358f72953e164e23d7b2d586e",
     "grade": true,
     "grade_id": "cell-77898278f3ee3b69",
     "locked": true,
     "points": 0.25,
     "schema_version": 3,
     "solution": false,
     "task": false
    }
   },
   "outputs": [],
   "source": [
    "output = info_sample.first()\n",
    "assert output.capital == \"Melilla\" and output.tweets == 1  and output.diputados == 1 and output.ratio_tweets_diputado == 1.0, \"Incorrect output\""
   ]
  },
  {
   "cell_type": "markdown",
   "metadata": {
    "deletable": false,
    "editable": false,
    "nbgrader": {
     "cell_type": "markdown",
     "checksum": "1eb62a0c3c5842561e9d702c743f1db6",
     "grade": false,
     "grade_id": "cell-bf8ae16a0f12d52d",
     "locked": true,
     "schema_version": 3,
     "solution": false,
     "task": false
    }
   },
   "source": [
    "Como veis el sampling no es exacto, es una aproximación. Pero como podéis imaginar acercar el sampling a la representatividad electoral de las regiones son necesarios en muchos análisis.\n",
    "\n",
    "Para comprobarlo contad primero todos los hashtags presentes en la tabla ```geo_tweets``` tal como hemos hecho en el apartado 2.2.2 y ordenad el resultado por número de tweets en orden descendente. Guardad la tabla en la variable `hashtagsTable`."
   ]
  },
  {
   "cell_type": "code",
   "execution_count": null,
   "metadata": {
    "deletable": false,
    "nbgrader": {
     "cell_type": "code",
     "checksum": "c3046076e9308d54f166b79aabd5e103",
     "grade": false,
     "grade_id": "cell-e1a2c1d512ab249e",
     "locked": false,
     "schema_version": 3,
     "solution": true,
     "task": false
    }
   },
   "outputs": [],
   "source": [
    "# YOUR CODE HERE\n",
    "raise NotImplementedError()\n",
    "\n",
    "hashtagsTable.limit(20).show()"
   ]
  },
  {
   "cell_type": "code",
   "execution_count": null,
   "metadata": {
    "deletable": false,
    "editable": false,
    "nbgrader": {
     "cell_type": "code",
     "checksum": "2714d3cc5cd6d8ad099c894d07795981",
     "grade": true,
     "grade_id": "cell-523a33c0ce6749f0",
     "locked": true,
     "points": 0.125,
     "schema_version": 3,
     "solution": false,
     "task": false
    }
   },
   "outputs": [],
   "source": [
    "output = hashtagsTable.first()\n",
    "assert output.hashtag == \"#28A\" and output.num >= 1700, \"Incorrect answer\""
   ]
  },
  {
   "cell_type": "markdown",
   "metadata": {
    "deletable": false,
    "editable": false,
    "nbgrader": {
     "cell_type": "markdown",
     "checksum": "de6afa4a0af366815ab042dc60a4cd12",
     "grade": false,
     "grade_id": "cell-b41cdc82c0313230",
     "locked": true,
     "schema_version": 3,
     "solution": false,
     "task": false
    }
   },
   "source": [
    "Comparad este resultado con el que obtenemos cuando creamos una tabla ```hashtagsTable_sample``` donde contamos los hashtags en el sample estratificada. Ordenad la tabla por número de tweets en orden descendente."
   ]
  },
  {
   "cell_type": "code",
   "execution_count": null,
   "metadata": {
    "deletable": false,
    "nbgrader": {
     "cell_type": "code",
     "checksum": "6267b0ce4b2029ef4e45a4d4996f05fa",
     "grade": false,
     "grade_id": "cell-2a1d0b60920e07ea",
     "locked": false,
     "schema_version": 3,
     "solution": true,
     "task": false
    }
   },
   "outputs": [],
   "source": [
    "# YOUR CODE HERE\n",
    "raise NotImplementedError()\n",
    "\n",
    "hashtagsTable_sample.limit(20).show()"
   ]
  },
  {
   "cell_type": "code",
   "execution_count": null,
   "metadata": {
    "deletable": false,
    "editable": false,
    "nbgrader": {
     "cell_type": "code",
     "checksum": "b5ac4e4116ce604f00a0903e21d9ca52",
     "grade": true,
     "grade_id": "cell-64cea6f5c2bf3d84",
     "locked": true,
     "points": 0.0625,
     "schema_version": 3,
     "solution": false,
     "task": false
    }
   },
   "outputs": [],
   "source": [
    "output = hashtagsTable_sample.first()\n",
    "assert output.hashtag == \"#28A\" and output.num >= 35, \"Incorrect answer\""
   ]
  },
  {
   "cell_type": "markdown",
   "metadata": {
    "deletable": false,
    "editable": false,
    "nbgrader": {
     "cell_type": "markdown",
     "checksum": "68f28853bbc4b74984c9ebc26a86bade",
     "grade": false,
     "grade_id": "cell-282efc48db14dc51",
     "locked": true,
     "schema_version": 3,
     "solution": false,
     "task": false
    },
    "toc-hr-collapsed": false
   },
   "source": [
    "## **Parte 4:** Introducción a los datos relacionales"
   ]
  },
  {
   "cell_type": "markdown",
   "metadata": {
    "deletable": false,
    "editable": false,
    "nbgrader": {
     "cell_type": "markdown",
     "checksum": "3ae4dd0a19e36473b0e28dcdeb44db3a",
     "grade": false,
     "grade_id": "cell-37c26fe65603f838",
     "locked": true,
     "schema_version": 3,
     "solution": false,
     "task": false
    }
   },
   "source": [
    "El hecho de trabajar con una base de datos que contiene información generada en una red social nos permite introducir el concepto de datos relacionales. Podemos definir datos relacionales como aquellos en los que existen relaciones entre las entidades que constituyen la base de datos. Si estas relaciones son binarias, relaciones 1 a 1, podemos representar las relaciones como un grafo compuesto por un conjunto de vértices $\\mathcal{V}$ y un conjunto de aristas $\\mathcal{E}$ que los relacionan.\n",
    "\n",
    "En el caso de grafos que emergen de manera orgánica, este tipo de estructura va más allá de los grafos regulares que seguramente conocéis. Este tipo de estructuras se conocen como [redes complejas](https://es.wikipedia.org/wiki/Red_compleja). El estudio de la estructura y dinámicas de este tipo de redes ha contribuido a importantes resultados en campos tan dispares como la física, la sociología, la ecología o la medicina.\n",
    "\n",
    "![complex_network](https://images.squarespace-cdn.com/content/5150aec6e4b0e340ec52710a/1364574727391-XVOFAB9P6GHKTDAH6QTA/lastfm_800_graph_white.png?content-type=image%2Fpng)\n",
    "\n",
    "En esta última parte de la práctica vamos ha trabajar con este tipo de datos. En concreto vamos a modelar uno de los posibles relaciones presentes en el dataset, la red de retweets."
   ]
  },
  {
   "cell_type": "markdown",
   "metadata": {
    "deletable": false,
    "editable": false,
    "nbgrader": {
     "cell_type": "markdown",
     "checksum": "a324425221a6a1089261f47f2893dc67",
     "grade": false,
     "grade_id": "cell-6a6e29d54a0ab104",
     "locked": true,
     "schema_version": 3,
     "solution": false,
     "task": false
    }
   },
   "source": [
    "### **Parte 4.1:** Generar la red de retweets"
   ]
  },
  {
   "cell_type": "markdown",
   "metadata": {
    "deletable": false,
    "editable": false,
    "nbgrader": {
     "cell_type": "markdown",
     "checksum": "f3e6e97323de6cbe675b4ecf88be1376",
     "grade": false,
     "grade_id": "cell-897b2eeeea0dafad",
     "locked": true,
     "schema_version": 3,
     "solution": false,
     "task": false
    }
   },
   "source": [
    "#### **Parte 4.1.1**: Construcción de la edgelist"
   ]
  },
  {
   "cell_type": "markdown",
   "metadata": {
    "deletable": false,
    "editable": false,
    "nbgrader": {
     "cell_type": "markdown",
     "checksum": "1fc428dc8a5ba8a6f8d72d4c200dfc40",
     "grade": false,
     "grade_id": "cell-9a5492c3a2cca893",
     "locked": true,
     "schema_version": 3,
     "solution": false,
     "task": false
    }
   },
   "source": [
    "Lo primero se os pide es que generéis la red. Hay diversas maneras de representar una red compleja, por ejemplo, si estuvierais interesados en trabajar en ellas desde el punto de vista teórico, la manera más habitual de representarlas es utilizando una [matriz de adyacencia](https://es.wikipedia.org/wiki/Matriz_de_adyacencia). En esta práctica vamos a centrarnos en el aspecto computacional, una de las maneras de mas eficientes (computacionalmente hablando) de representar una red es mediante su [*edge list*](https://en.wikipedia.org/wiki/Edge_list), una tabla que especifica la relación a parejas entre las entidades.\n",
    "\n",
    "Las relaciones pueden ser bidireccionales o direccionales y tener algún peso asignado o no (weighted or unweighted). En el caso que nos ocupa, estamos hablando de una red dirigida, un usuario retuitea a otro, y podemos pensarla teniendo en cuenta cuántas veces esto ha pasado.\n",
    "\n",
    "Lo primero que haréis para simplificar el cómputo,  es crear un sample homogéneo sin reemplazo del 1% de los tweets. Utilizando los conocimientos que habéis aprendido en el apartado 3.1. Utilizaremos 42 como valor para la seed.\n",
    "\n",
    "**Esquema**\n",
    "```Python\n",
    "seed = 42\n",
    "sample = tweets.<FILL IN>\n",
    "```"
   ]
  },
  {
   "cell_type": "code",
   "execution_count": 65,
   "metadata": {
    "scrolled": true
   },
   "outputs": [
    {
     "data": {
      "text/plain": [
       "[Row(_id='1117169844984610817', created_at=datetime.datetime(2019, 4, 13, 22, 57, 1), lang='es', place=None, retweeted_status=None, text='@Earco1977 Pues a mí me encantaría poder gobernar sin el PSOE.', user=Row(followers_count=5893, friends_count=4783, id_str='509047038', lang='es', screen_name='Maria_Beatle', statuses_count=15161)),\n",
       " Row(_id='1117169933849247744', created_at=datetime.datetime(2019, 4, 13, 22, 57, 22), lang='en', place=None, retweeted_status=Row(_id='1117165317254467584', user=Row(followers_count=3916195, friends_count=1464, id_str='138203134', lang='en', screen_name='AOC', statuses_count=7699)), text='RT @AOC: “They’re a billion-dollar company because of us.\\n\\nWorking-class Americans haven’t been this fed up with their employers since the…', user=Row(followers_count=105, friends_count=51, id_str='18158360', lang='en', screen_name='cspengler', statuses_count=20694))]"
      ]
     },
     "execution_count": 65,
     "metadata": {},
     "output_type": "execute_result"
    }
   ],
   "source": [
    "sample = tweets.sample(withReplacement=None,fraction=0.01,seed=42)\n",
    "sample.take(2)"
   ]
  },
  {
   "cell_type": "markdown",
   "metadata": {
    "deletable": false,
    "nbgrader": {
     "cell_type": "code",
     "checksum": "f7c834bfe32aaf48ce9880dc243af438",
     "grade": true,
     "grade_id": "cell-c070f596e66ebeb2",
     "locked": false,
     "points": 0.1,
     "schema_version": 3,
     "solution": true,
     "task": false
    }
   },
   "source": []
  },
  {
   "cell_type": "markdown",
   "metadata": {
    "deletable": false,
    "editable": false,
    "nbgrader": {
     "cell_type": "markdown",
     "checksum": "832c2a95f06f60f7f8c2b20b1151715d",
     "grade": false,
     "grade_id": "cell-820555a5351b6bd3",
     "locked": true,
     "schema_version": 3,
     "solution": false,
     "task": false
    }
   },
   "source": [
    "Ahora vais a crear una tabla ```edgelist``` con la siguiente información:\n",
    "- ***src:*** usuario que retuitea\n",
    "- ***dst:*** usuario que es retuiteado\n",
    "- ***weight:*** número de veces que un usuario retuitea a otro.\n",
    "\n",
    "Filtrar el resultado para que contenga sólo las relaciones con un weight igual o mayor a dos."
   ]
  },
  {
   "cell_type": "code",
   "execution_count": 66,
   "metadata": {
    "deletable": false,
    "nbgrader": {
     "cell_type": "code",
     "checksum": "96de40fc61c7ce1c90d7c37bc369f823",
     "grade": false,
     "grade_id": "cell-068c4e6981f4bd17",
     "locked": false,
     "schema_version": 3,
     "solution": true,
     "task": false
    }
   },
   "outputs": [
    {
     "name": "stdout",
     "output_type": "stream",
     "text": [
      "There are 517 edges on the network.\n",
      "+---------------+---------------+------+\n",
      "|            src|            dst|weight|\n",
      "+---------------+---------------+------+\n",
      "|     nievesfouz|      populares|     2|\n",
      "|cassandrasince1|  Santi_ABASCAL|     2|\n",
      "|        kena264|     yoanferrer|     2|\n",
      "|    Manudocalin| voxnoticias_es|     2|\n",
      "|      el_partal|         mrenau|     2|\n",
      "|      Sekandose|    CastigadorY|     2|\n",
      "|Enedina37049621|           PSOE|     4|\n",
      "|     kafkanario|   ahorapodemos|     3|\n",
      "|         xurxox|       En_Marea|     2|\n",
      "|  manuperez2002|   Mariagtriana|     2|\n",
      "|     mirovira75|           KRLS|     2|\n",
      "| CsSantaEularia|   CiudadanosCs|     4|\n",
      "|       lmpg_twi|   ahorapodemos|     2|\n",
      "|JuanAnt82323602|         vox_es|     2|\n",
      "|       ssergi30|ldpsincomplejos|     2|\n",
      "|PedroMiretBetan|   CiudadanosCs|     3|\n",
      "|feliperedondom2|         psoeex|     2|\n",
      "| complementosCH|      albasenve|     2|\n",
      "|        jfpinto|   Juan31815426|     2|\n",
      "|      CsPerello|  CsCValenciana|     2|\n",
      "|      CsAcoruna|   CiudadanosCs|     2|\n",
      "|    RosaMar6254|        vmm7773|     2|\n",
      "|    PacoEsquide|  ismaelquesada|     2|\n",
      "|    DuroBelinda| BlaancaNiieves|     8|\n",
      "|        TRONCA7|  Santi_ABASCAL|     2|\n",
      "|      RQuijorna|           KRLS|     2|\n",
      "|     lmandaeggs|       voxemita|     2|\n",
      "|      ArmGonGal|     FdTabarnia|     2|\n",
      "|adolforamonabad|     aragonpsoe|     2|\n",
      "|   velopramirez|   ahorapodemos|     2|\n",
      "|         Cs_CLM|    Cs_Albacete|     3|\n",
      "|  Pedro48049839|    tu_abandono|     2|\n",
      "|      franmacos|     _ElAguijon|     2|\n",
      "|    hdn_antonio|       okdiario|     2|\n",
      "|AnaMari32869400|  pasandoeldia1|     2|\n",
      "|    mariaje1956| CarlaAntonelli|     2|\n",
      "|        NolaP56|  Manololorente|     2|\n",
      "| tsdelaestrella| Irene_Montero_|     2|\n",
      "|        quela68| hermanntertsch|     2|\n",
      "|       fgcarney|    elentirvigo|     2|\n",
      "|         jlseto|           PSOE|     3|\n",
      "|    mariamargue|Front_Republica|     2|\n",
      "|CarlosMachoSaiz|  Pablo_Zuloaga|     2|\n",
      "|    Manudocalin|         vox_es|     2|\n",
      "|        lyuva26|      XoanXoann|     2|\n",
      "|      Bizcotelo|    Yo_Soy_Asin|     2|\n",
      "|      Raulalvme|        agarzon|     2|\n",
      "|  ElHombreTrans|       AtaMujer|     2|\n",
      "|        Fermirv|socialistes_cat|     2|\n",
      "|         gplvro|  Santi_ABASCAL|     2|\n",
      "| Olga_Hurtado66|     rcabrero75|     2|\n",
      "| Amparo86276348|sanchezcastejon|     2|\n",
      "|FernandoRicoRo1|Front_Republica|     2|\n",
      "|    JJalonsof99|         vox_es|     2|\n",
      "|mixailvoronov21|      JuntsXCat|     2|\n",
      "|      ppoleiros|        2011pau|     2|\n",
      "|     marte_para|          _ju1_|     2|\n",
      "|  Cs_Compostela|   CiudadanosCs|     2|\n",
      "| Mjvillanuevacf|      CsGranada|     2|\n",
      "|    Sofiawallas|        Panik81|     2|\n",
      "|      ppoleiros|      populares|     2|\n",
      "|  vicenteluismc|   rosadiezglez|     2|\n",
      "|Ludovic96001767|    elperiodico|     2|\n",
      "|        NNGGcat|      populares|     2|\n",
      "|nuriallibertatc|      JuntsXCat|     2|\n",
      "|TamaraLempicka4|       lolamaiz|     2|\n",
      "|    AnaEiranova|      populares|     2|\n",
      "|     ferrer_ita|   ahorapodemos|     2|\n",
      "|       pferrerm|      JuntsXCat|     2|\n",
      "|euskaltelebista|   eitbNoticias|     2|\n",
      "|   Avelazquezcs|   CiudadanosCs|     2|\n",
      "|   AmezcAlvarez|           PSOE|     2|\n",
      "|   yakomarhippy|  podemosalgaba|     2|\n",
      "|      BeaSerraR|      populares|     2|\n",
      "|Francis84981590|   pablocasado_|     2|\n",
      "|      rollorter| Sandra23955356|     2|\n",
      "| JoseRamonPando|      populares|     2|\n",
      "|   PSOEdeAlgete|           PSOE|     2|\n",
      "|       KilianCD|           PSOE|     3|\n",
      "|   CsCalahorra_|   CiudadanosCs|     2|\n",
      "|        chusvar|   ahorapodemos|     2|\n",
      "|  antoniobb1953|           PSOE|     3|\n",
      "|  ERC_LaSegarra|   Esquerra_ERC|     2|\n",
      "|catala_orgullos|Front_Republica|     3|\n",
      "|    Karmaleonic|  DINGO92697548|     2|\n",
      "|  jmcamachooros|Cristin83590981|     2|\n",
      "|     55luchando|       iescolar|     2|\n",
      "|    VOX_Badajoz|         vox_es|     2|\n",
      "|      cagontooh|           KRLS|     2|\n",
      "|      el_partal|     Tonicanto1|     2|\n",
      "| lanzarotejesus|           PSOE|     2|\n",
      "| AnaPerezMartin|       ivanedlm|     2|\n",
      "|Dolors1909gmai1|  CervantesFAQs|     2|\n",
      "|       28aOriol|   Esquerra_ERC|     3|\n",
      "|miguelgutiperez|       jasalo54|     2|\n",
      "| falleretajunio|   pablocasado_|     2|\n",
      "|    Sagradb4943|  Santi_ABASCAL|     2|\n",
      "|MercadilloStyle|       FSA_PSOE|     2|\n",
      "|   suareztelde1|           PSOE|     2|\n",
      "|         GinzuD| jusapolcordoba|     2|\n",
      "|       CsCobeja|         Cs_CLM|     2|\n",
      "|Migueln53227148|  Rafa_eltorete|     2|\n",
      "|       davruros|         vox_es|     2|\n",
      "|Teresaperezcep1|           PSOE|     2|\n",
      "|         Bio_Ge|      JuntsXCat|     2|\n",
      "|     courel1966|           PSOE|     2|\n",
      "|   AnarkoRoures|Front_Republica|     2|\n",
      "|      TurySpain|  OrbitaEduardo|     2|\n",
      "|    Manudocalin|  WillyTolerdoo|     2|\n",
      "|    gatunagordi|    FrayJosepho|     2|\n",
      "|    OskarMatute|        ehbildu|     2|\n",
      "|   AdeylaAdalia| Irene_Montero_|     2|\n",
      "|        jrg0302|           PSOE|     2|\n",
      "|   vox_chamberi|         vox_es|     2|\n",
      "|   Eva_Granados|meritxell_batet|     2|\n",
      "|      Javirayf1|      populares|     2|\n",
      "|    AuroCantero|carnecrudaradio|     2|\n",
      "|   zzzz46324949|   PodemosAhora|     2|\n",
      "|Francis68027481|      populares|     2|\n",
      "|       cukianaa| hermanntertsch|     2|\n",
      "|   jaumetrullas|  AlbanoDante76|     2|\n",
      "|  VOX_Chamartin|  Santi_ABASCAL|     2|\n",
      "|LibertoPalauSer|         boye_g|     2|\n",
      "| ManoliRabadan9|     Abierto_PP|     2|\n",
      "|   Puri65088032|      XoanXoann|     2|\n",
      "|     jetsutrera|  Santi_ABASCAL|     2|\n",
      "|       vicky68_|  AlbanoDante76|     2|\n",
      "|Patrici40054313|      pilatonio|     3|\n",
      "|  pasandoeldia1|  pasandoeldia1|     6|\n",
      "|      CsLaRioja|   CiudadanosCs|     2|\n",
      "|  PabloChabolas|     BromiusBCN|     2|\n",
      "|     nachopaesa| BlaancaNiieves|     2|\n",
      "| soniapillado70|           PSOE|     2|\n",
      "|      JavierSed|    J_Zaragoza_|     2|\n",
      "|        djmlm95|         vox_es|     2|\n",
      "|Vicente_G_Palop|   VOX_Valencia|     2|\n",
      "|      OisoOiso1|        666olga|     2|\n",
      "|   Aguilera_101|jusapolsantiago|     2|\n",
      "| FrancescCondal|    albertdmcat|     2|\n",
      "|Antonio60017562|           PSOE|     2|\n",
      "|       marubimo|   Mariagtriana|     2|\n",
      "|IsabelCatolica2|         vox_es|     2|\n",
      "|       Submari7|      populares|     2|\n",
      "|  StalingradoFC|adolfo_alustiza|     2|\n",
      "|  bobglezgarcia|   psoealcorcon|     2|\n",
      "|       gabisyma|   ahorapodemos|     2|\n",
      "|       7Josean7|   ahorapodemos|     2|\n",
      "|   PaquiRivero1| julioconcepcin|     2|\n",
      "| CAT_sargantana|         boye_g|     2|\n",
      "|    martince007|    martince007|     2|\n",
      "|JaimeBustilloME|JaimeBustilloME|     2|\n",
      "|     Nacho_JISF|    Oviedocityy|     2|\n",
      "|       joanpuig| LaRepublicaCat|     2|\n",
      "|    PP_Asturias|      populares|     2|\n",
      "|  palabrademael|           PSOE|     3|\n",
      "| Espanholimetro|  realmadridEUE|     2|\n",
      "|       JUKAROLO|       KilianCD|     2|\n",
      "|joaquin78893341|sanchezcastejon|     2|\n",
      "|        Edgoan1|Front_Republica|     2|\n",
      "|  flacambra1975|   ahorapodemos|     2|\n",
      "| jusapolalcalag| jusapolalcalag|     2|\n",
      "|  PabloMaroto18|   CiudadanosCs|     2|\n",
      "| silviacanojuan|       psibpsoe|     2|\n",
      "|   vegaparrilla|           PSOE|     4|\n",
      "|      fatimar56|socialistes_cat|     2|\n",
      "|    ANC_Docents|  jordialapreso|     2|\n",
      "|   Kela90167661|      frandevox|     2|\n",
      "|    Podemos_CyL|   ahorapodemos|     2|\n",
      "|      ester_ets|Front_Republica|     3|\n",
      "|    CsCantabria|      Felisuco_|     2|\n",
      "| elviejotaurino|      populares|     2|\n",
      "|anasotogonzalez|    ionebelarra|     2|\n",
      "|   CsSBTIRAJANA|   CiudadanosCs|     2|\n",
      "|       paiboll1|jusapolsantiago|     2|\n",
      "|       cukianaa|     mabellogar|     2|\n",
      "|JulioAl18175505|  Rafa_eltorete|     2|\n",
      "|   GustavoBedia|   CiudadanosCs|     2|\n",
      "| CarlaAntonelli|           PSOE|     2|\n",
      "|       salcerva|   ahorapodemos|     2|\n",
      "|     CsCubelles|   CiudadanosCs|     2|\n",
      "|        PSOE_RM|           PSOE|     2|\n",
      "|        ehbildu|    JonInarritu|     2|\n",
      "|      fatimar56| AntonioMaestre|     2|\n",
      "|       ancorlan|Pablo_Iglesias_|     3|\n",
      "|RAFAELLEALSALAZ|           PSOE|     3|\n",
      "|   RMrosacastny|       Marsais_|     2|\n",
      "| joanmariapique|      JuntsXCat|     2|\n",
      "|  RoserRoserras|           KRLS|     2|\n",
      "|    camba_pablo|     jmdelalamo|     2|\n",
      "| ALFONSOLODEIRO| hermanntertsch|     2|\n",
      "|     SomXarello|    coquegarcia|     2|\n",
      "| JulioAbascal56|    JVSantacreu|     2|\n",
      "|   JulianLucena|      populares|     2|\n",
      "|  antoniobb1953|       jumasa85|     2|\n",
      "|  sagitario_13_|  Santi_ABASCAL|     2|\n",
      "| EvaaFernaandez|  Albert_Rivera|     2|\n",
      "|        Tersenn|        Tersenn|     4|\n",
      "|      r_maureso|    jorditurull|     2|\n",
      "|Nevergiveup1979|    mariaburrel|     2|\n",
      "|     CsBarbadas|      CsGalicia|     2|\n",
      "|       peskadiz|         vox_es|     2|\n",
      "|    manuraortiz|           PSOE|     2|\n",
      "|     psoemolina|           PSOE|     2|\n",
      "| PowerCaballero|           PSOE|     3|\n",
      "|  Cs_Redondela_|      CsGalicia|     2|\n",
      "|   amparoginerr|           PSOE|     2|\n",
      "|aesthetictaste_|           PSOE|     2|\n",
      "|       PPSenado|      populares|     2|\n",
      "|MariaJo40891027| UnTioNormal_XD|     2|\n",
      "|Sociali17641882|           PSOE|     2|\n",
      "| PSOEAguilarFra|           PSOE|     2|\n",
      "|     iupielagos|         iunida|     2|\n",
      "|     hannahbcn1|_Gafas_y_reloj_|     2|\n",
      "|       PSCSants|socialistes_cat|     2|\n",
      "|         OWanth|     _ElAguijon|     2|\n",
      "| Juanmirsanchez|  Santi_ABASCAL|     2|\n",
      "|      Velixidad|         vox_es|     2|\n",
      "| RobertoVelez72|  Santi_ABASCAL|     2|\n",
      "|      ArmGonGal|PtfLaSilenciosa|     2|\n",
      "|juanarcealvarez|   ahorapodemos|     2|\n",
      "|    javiergboza|sanchezcastejon|     2|\n",
      "|   RufacoEmilia|Front_Republica|     2|\n",
      "|         Teo_71| Miotroyo2parte|     2|\n",
      "|     soniafm888|   PartidoPACMA|     2|\n",
      "|      vickycb65|         boye_g|     3|\n",
      "|Antonia85728101|   ahorapodemos|     2|\n",
      "|   Socialista60|       jasalo54|     3|\n",
      "|GutierrezTejero|      populares|     2|\n",
      "|     carrasquem|    ionebelarra|     2|\n",
      "| Miguel06150957|jusapolsantiago|     2|\n",
      "|   RobertPastor|  AlbanoDante76|     2|\n",
      "|      RedFoxBta|  Santi_ABASCAL|     2|\n",
      "|     PortPartes|   ahorapodemos|     3|\n",
      "|   anti_merma51|       marubimo|     2|\n",
      "|JAVIERP54530597|       7Josean7|     2|\n",
      "|    Edu53641446|      Myriegypt|     2|\n",
      "|    ar_mirna208|   sninobecerra|     2|\n",
      "|     PozoJulian|   ahorapodemos|     3|\n",
      "|    Oviedocityy|           PSOE|     2|\n",
      "|       Raulxcdf|   CiudadanosCs|     2|\n",
      "|      jarigo123|   rosadiezglez|     2|\n",
      "|    reikiselbri|   ahorapodemos|     2|\n",
      "|   merchi_otero|   ahorapodemos|     2|\n",
      "|        Jasahla|   ahorapodemos|     2|\n",
      "|        Mapiol3|  AlbanoDante76|     2|\n",
      "|     Nacho_JISF|     mtgarcia82|     3|\n",
      "|   Cs_LaCanonja|   CiudadanosCs|     3|\n",
      "|        risusom|        el_pais|     2|\n",
      "|     mirovira75|  AlbanoDante76|     2|\n",
      "|   BernabeBergi|     rcabrero75|     2|\n",
      "|    voxcornella|         vox_es|     2|\n",
      "|          r0xiy|   ahorapodemos|     2|\n",
      "|   ConchaAndreu|    PSOELaRioja|     2|\n",
      "|     JaimeUNED2|           PSOE|     2|\n",
      "|        tony73_|  OrbitaEduardo|     2|\n",
      "|        julsaco|   ahorapodemos|     2|\n",
      "|     jjoaquinpr|   ahorapodemos|     2|\n",
      "|RobertoVegaRam2|   ahorapodemos|     3|\n",
      "|Migueln53227148|      XoanXoann|     2|\n",
      "| RafaelApablaza| PanelElectoral|     2|\n",
      "|       lmablanc|emiesquiviashot|     2|\n",
      "|       rosabass|         d_rusc|     2|\n",
      "|     carrasquem|   ahorapodemos|     2|\n",
      "| Ignacio_Echave|enriquedediegov|     2|\n",
      "|    mariaje1956|       jasalo54|     2|\n",
      "|   Josemi130478|     _ElAguijon|     2|\n",
      "|  joseluisillun|  joseluisillun|     2|\n",
      "|      lenilua63|   ahorapodemos|     2|\n",
      "|   MCristoDorta|           PSOE|     2|\n",
      "|      ToniRocaT|     eldiarioes|     2|\n",
      "|    mariasvilas|   CiudadanosCs|     2|\n",
      "|  DaniSerranoPP|    PPCatalunya|     2|\n",
      "|         0Seuba|    PepVendrell|     2|\n",
      "| Maria_pilar_ga|       ppmadrid|     2|\n",
      "|    VendettaNWO| AntonioMaestre|     2|\n",
      "|    either_mark|    either_mark|     2|\n",
      "|  Quimberenguer|        IvanLQF|     2|\n",
      "|    GeMmAsItGeS|  cuevillasjacs|     2|\n",
      "|  antoniobb1953|   JuanAlberti5|     2|\n",
      "| Lidia_Jordan10| Lidia_Jordan10|     2|\n",
      "|   Gata_india13|  GuillemCristo|     2|\n",
      "|  roserous_rosa| Macarena_Olona|     2|\n",
      "|joachimyana_ana|   Bernat_Doria|     2|\n",
      "|AmeliaDemariaPa|    StarTrance1|     2|\n",
      "|pilarcaballero2|           PSOE|     2|\n",
      "|Antonio25761873|emiesquiviashot|     2|\n",
      "|   Cs_SanJavier| CsRegionMurcia|     3|\n",
      "| ElisaNumerouno| hermanntertsch|     2|\n",
      "|   PepeBlanctor|FedericoHaDicho|     2|\n",
      "|    manoloruizf|   rosadiezglez|     2|\n",
      "|     Bill21Bill|     Bill21Bill|     2|\n",
      "|       Largismo|       ivanedlm|     2|\n",
      "|     carollm333|   ahorapodemos|     2|\n",
      "|        Pepa109|     rcabrero75|     2|\n",
      "|CsHortaGuinardo|   CiudadanosCs|     2|\n",
      "|        Iliche1|   ahorapodemos|     2|\n",
      "|      azul77551|Pablo_Iglesias_|     2|\n",
      "| Sergio26018562|   fjosealcaraz|     2|\n",
      "|josemoralespra1|        jmaryli|     2|\n",
      "|   Jose37112661|       amenaces|     2|\n",
      "|        totiapm|           KRLS|     2|\n",
      "|    Paz19402181|    CastigadorY|     2|\n",
      "|     MMM_Laguna|          DRZRZ|     2|\n",
      "|      D13mC4rp3|  Santi_ABASCAL|     2|\n",
      "|  gabrielamartf|revistamongolia|     2|\n",
      "|   Cristi_latin|       ivanedlm|     2|\n",
      "|Charlotte141117|    protestona1|     2|\n",
      "|         NepmuL|   ahorapodemos|     2|\n",
      "|    Unfaking_es|        el_pais|     2|\n",
      "|        NVingut|PtfLaSilenciosa|     3|\n",
      "|cc9d4e5f3cf34f8|         vox_es|     3|\n",
      "|ValkyriaBrunhil|      JuntsXCat|     2|\n",
      "| amaia_haikazti|   LCDSalcasser|     2|\n",
      "|        Llago14| Rafael21148030|     2|\n",
      "|     javalonseo|  Albert_Rivera|     2|\n",
      "|     aka_Karmaa|     aka_Karmaa|     2|\n",
      "|      Clare1959|           PSOE|     4|\n",
      "|JulioAl18175505|      XoanXoann|     2|\n",
      "|      ingenius6|      ingenius6|     2|\n",
      "|Francisco911111|    protestona1|     2|\n",
      "|  desapabullada|  Santi_ABASCAL|     2|\n",
      "|  BertaAsturies|  DINGO92697548|     2|\n",
      "|      Oskar_82_|    nereaalzola|     2|\n",
      "|    Migueloko64|       iescolar|     2|\n",
      "|  angels_pallas|      Carbazas_|     2|\n",
      "|      Ninenka67|       marubimo|     2|\n",
      "|    BLOODSTAR28|    BLOODSTAR28|     2|\n",
      "|       getaparo|      populares|     2|\n",
      "|     HuguitoDel|   CiudadanosCs|     3|\n",
      "|  yomismaconcha|Pablo_Iglesias_|     2|\n",
      "|    CurritoRojo|     manelsaa99|     2|\n",
      "|BasedSpaniard14|         vox_es|     2|\n",
      "|almudelcastillo|         vox_es|     2|\n",
      "|     docanbravo|       gmh_upsa|     2|\n",
      "|mariantoniaram2|      populares|     2|\n",
      "|        saribes|        saribes|     2|\n",
      "|       xxxsthlm| Durian61109504|     2|\n",
      "|     nusagatero|           PSOE|     2|\n",
      "|CarrascoMarimar|Capitan49094854|     2|\n",
      "|MariaJosMolina1|           PSOE|     2|\n",
      "| locuspolitikus|   ahorapodemos|     2|\n",
      "| lanzarotejesus|   carmencalvo_|     2|\n",
      "|     sararuiz_f|   pablocasado_|     2|\n",
      "|     arkhe_nike| AntonioMaestre|     2|\n",
      "|   padilla_sole| CsCordoba_Prov|     2|\n",
      "|  eajpnvbizkaia|         eajpnv|     2|\n",
      "|      937908Mcm|           PSOE|     3|\n",
      "|  franciscopolo|           PSOE|     2|\n",
      "|MRicartsantpau1|  AlbanoDante76|     2|\n",
      "|     michiki_ta|           COPE|     2|\n",
      "|          GPPOu|         PPdeOU|     2|\n",
      "|       a_heerze|    carlesenric|     2|\n",
      "|  merrrrrrrpadu|   ahorapodemos|     2|\n",
      "|      arantzagg|         iunida|     2|\n",
      "|  merenasanchez|  AlbanoDante76|     2|\n",
      "|    PODEMGirona|   ahorapodemos|     2|\n",
      "|   LoveRosieDub|RodrigoPerezDeG|     2|\n",
      "|   nnggtenerife|      populares|     2|\n",
      "|Paxarinaparlera|     Lailoken__|     2|\n",
      "|violeta11377531|    Oviedocityy|     2|\n",
      "|   carvajal1958|Pablo_Iglesias_|     2|\n",
      "|     Populeiros|      populares|     2|\n",
      "| sergicampillo_|      compromis|     2|\n",
      "|EmilioCalcedoLo|         vox_es|     3|\n",
      "|    mariasvilas|      CsGalicia|     2|\n",
      "|       VicentVG|           PSOE|     3|\n",
      "|  radio_vitoria|   eitbNoticias|     2|\n",
      "|        Noefr86|           PSOE|     2|\n",
      "| ShitFromTheCow|   Esquerra_ERC|     2|\n",
      "|  AndresMrtnz79|         vox_es|     2|\n",
      "|       galimata|   ahorapodemos|     2|\n",
      "|  Nuricatalana1|    JonInarritu|     2|\n",
      "| MiguelGaraulet|  ManuelaMarinG|     2|\n",
      "|         norejj|         vox_es|     2|\n",
      "|     michiki_ta|         vox_es|     2|\n",
      "|     JordiBalot| RaiLopezCalvet|     2|\n",
      "|     CsSanxenxo|   CiudadanosCs|     2|\n",
      "| Quijote_cuerdo|   pablocasado_|     2|\n",
      "|     ArwenPlaza|  CorsarioScout|     2|\n",
      "|         ERChg7|   Esquerra_ERC|     3|\n",
      "|   espartano533|         vox_es|     4|\n",
      "|     cleosagas1|       SiQuizas|     2|\n",
      "|JJSSMOLINADESEG|           PSOE|     3|\n",
      "|   Mostoles_Cs_|   CiudadanosCs|     2|\n",
      "|  manolomayesta| CristinaSegui_|     2|\n",
      "|  David13383353|     eldiarioes|     2|\n",
      "|   MiloSanPedro|     rcabrero75|     2|\n",
      "|        CsVicar|   CiudadanosCs|     3|\n",
      "|MariaJo40891027|     LaRetuerka|     2|\n",
      "|      29liberta|francesclopez39|     2|\n",
      "| ManuelCostoya1|   Pepa63306772|     2|\n",
      "|   TarantanoVII|     mabellogar|     2|\n",
      "|       jasalo54|  GuillemCristo|     2|\n",
      "|   Covadonga2_0|  Santi_ABASCAL|     2|\n",
      "|    gpscongreso|           PSOE|     3|\n",
      "|        Dsagunt| voxnoticias_es|     2|\n",
      "|        Maccobo|   ahorapodemos|     2|\n",
      "|      ymhfamhmy|     MonederoJC|     2|\n",
      "|DepredadorSupr1|    NeptuniaVox|     2|\n",
      "|   rosavergar23|           PSOE|     2|\n",
      "|         Berkhl|         iunida|     2|\n",
      "|      Juancarfg|  Santi_ABASCAL|     2|\n",
      "|     MarcelBL21|   ahorapodemos|     2|\n",
      "|      jacintoR7|   Ortega_Smith|     2|\n",
      "|      niblick62|      niblick62|     2|\n",
      "|         Cs_Ibi|  CsCValenciana|     2|\n",
      "|       thinkiro|      populares|     3|\n",
      "|VICTORDOMENECHH|Front_Republica|     2|\n",
      "|      Juancarfg| voxnoticias_es|     2|\n",
      "|      Nachoanon|sanchezcastejon|     3|\n",
      "|       mr_manco|          _ju1_|     2|\n",
      "|      StevenSLL| IsaiasLafuente|     2|\n",
      "|  Karlospodemos|    protestona1|     2|\n",
      "|     IcartEsher|Front_Republica|     2|\n",
      "|   mamenarsenio|        666olga|     2|\n",
      "|      TuAbandon|      TuAbandon|     2|\n",
      "|      flambo008|     leslieyyyy|     2|\n",
      "|  mariarossa004|    PSOEArganda|     2|\n",
      "|  Lluis_Gimenez|    david_miret|     2|\n",
      "|   AlexCarnota4|       dlacalle|     2|\n",
      "|       joluga68|   CiudadanosCs|     3|\n",
      "|      KeeganGar|      JuntsXCat|     2|\n",
      "|       IzAb_CyL|reaccionayactua|     2|\n",
      "|         arr_co|    CastigadorY|     2|\n",
      "|      MManyoses|  elnacionalcat|     2|\n",
      "|EncarnacionCoco|   CiudadanosCs|     2|\n",
      "|     dueso_tere|           PSOE|     2|\n",
      "|PisandoFuerte10|   Pepa63306772|     2|\n",
      "|  HispaniaSpain|       marubimo|     2|\n",
      "|Magdale27279233|         vox_es|     2|\n",
      "|BrumarioRMadrid|      populares|     3|\n",
      "|         neus45|         boye_g|     2|\n",
      "|    CsMAljarafe|   CiudadanosCs|     3|\n",
      "|  arturogaseoso|         vox_es|     2|\n",
      "|LuisLui01067455|    CastigadorY|     2|\n",
      "|  jacquesjose48|   ahorapodemos|     2|\n",
      "| Ismaelescuincs|   CiudadanosCs|     2|\n",
      "|   m_apezteguia|     eldiarioes|     2|\n",
      "|        mrlachy|  Santi_ABASCAL|     2|\n",
      "|      CsOurense|   CiudadanosCs|     3|\n",
      "|    antoniojg78|  crpandemonium|     2|\n",
      "|   EnriqueMugar|  FranciscoIgea|     2|\n",
      "|      KikoGaray|    protestona1|     2|\n",
      "|  AlfonsoCanoRa|      populares|     2|\n",
      "|      GomasDani|   fjosealcaraz|     2|\n",
      "|        pbaenap|   CiudadanosCs|     2|\n",
      "|     Ser9gio_GR|   zaragozapsoe|     2|\n",
      "|ander_the_table|        juralde|     2|\n",
      "|     Lolavegasp|  javiernegre10|     2|\n",
      "| ALFONSOLODEIRO|         vox_es|     2|\n",
      "|    miqueliceta|           PSOE|     2|\n",
      "|     JuanyGar63|        ctxt_es|     2|\n",
      "|     aa21623129|         vox_es|     3|\n",
      "|  raul_san_juan|     publico_es|     2|\n",
      "|     logomensor|     logomensor|     2|\n",
      "|       galopezu|    FrayJosepho|     2|\n",
      "|      algareona|          _ju1_|     2|\n",
      "|    RosaMar6254|    protestona1|     2|\n",
      "|    CELTICO1962| BoadellaAlbert|     2|\n",
      "|  CarlesSueiras|      JuntsXCat|     2|\n",
      "|        Sabel57|     ManuelVM69|     2|\n",
      "|    ChonRoldanP|   CiudadanosCs|     2|\n",
      "|    1963_agueda|   Esquerra_ERC|     2|\n",
      "|        paki_64|   ahorapodemos|     2|\n",
      "| Carrasco6Maria|sanchezcastejon|     2|\n",
      "|  xestadominimo|         vox_es|     2|\n",
      "|       anap1958|           PSOE|     3|\n",
      "|        riki712|           PSOE|     2|\n",
      "|       anap1958|  Pablo_Zuloaga|     2|\n",
      "|    ErTijeritas|  Santi_ABASCAL|     2|\n",
      "|      perezmant|   ahorapodemos|     2|\n",
      "| estoycontigo__|     marinaLobL|     2|\n",
      "|FRANCIS67590251|  Santi_ABASCAL|     2|\n",
      "|    NinesmNines|     maxpradera|     2|\n",
      "|  Mamen61280557|  Santi_ABASCAL|     3|\n",
      "|        cuber_9|  OrbitaEduardo|     2|\n",
      "|     MariaPopi6|   ahorapodemos|     2|\n",
      "|         jgpast|  InesArrimadas|     2|\n",
      "|     _architekt|    jordiborras|     2|\n",
      "|       ramargui|        el_pais|     2|\n",
      "|javiergarmon191|       marubimo|     2|\n",
      "|        mrh0099|     AJoseTomas|     2|\n",
      "|       zulyraze|         JcQuer|     2|\n",
      "|  BennasarJaime|    CastigadorY|     2|\n",
      "|PisandoFuerte10|Cristin83590981|     2|\n",
      "|    WillyLozano|           PSOE|     3|\n",
      "|      de_josera|Alternativa_VOX|     2|\n",
      "|        moxente|      alonso_dm|     2|\n",
      "|         N_Sler| AntonioMaestre|     2|\n",
      "|        isca681|           KRLS|     2|\n",
      "|    Enmanuel_RF|      populares|     2|\n",
      "|Valle10Mariadel|         vox_es|     2|\n",
      "|     JulioMRoma| Macarena_Olona|     2|\n",
      "|margaretmercada|      populares|     2|\n",
      "|Josegom94236110|         vox_es|     2|\n",
      "|   merchi_otero|    EnComun_Gal|     2|\n",
      "|enriquelopez_es|       ivanedlm|     2|\n",
      "|        payuviu|      JuntsXCat|     2|\n",
      "|      PalotadaG|  PSOECantabria|     2|\n",
      "|    Karmaleonic|        666olga|     2|\n",
      "|   PepilloGrito|         Arezno|     2|\n",
      "|      nuriabgav| luisgonzaloseg|     2|\n",
      "|      mirandy40|        vmm7773|     2|\n",
      "|    pacomarina6|   rambocabreao|     2|\n",
      "|   EduardoG_Vlc|     Tonicanto1|     2|\n",
      "|     MG74257828|        VilaWeb|     2|\n",
      "|     ArwenPlaza|     Abierto_PP|     2|\n",
      "|  hugorespal_99|     jmdelalamo|     2|\n",
      "|  diana_alforja|socialistes_cat|     4|\n",
      "|     PPdeHuevar|      populares|     2|\n",
      "|       AntParra|sanchezcastejon|     3|\n",
      "|  mariarossa004|           PSOE|     2|\n",
      "|   Telegrafia01|       okdiario|     2|\n",
      "|  LordAnthony48|        pvallin|     2|\n",
      "| Maria_pilar_ga|      populares|     3|\n",
      "|     aa21623129|   Ortega_Smith|     2|\n",
      "|     manuvarsss|   ahorapodemos|     2|\n",
      "+---------------+---------------+------+\n",
      "\n"
     ]
    }
   ],
   "source": [
    "edgelist=sample.rdd.filter(lambda x:x[4]!=None).map(lambda x:(x[6][4],x[4][1][4])).map(lambda x:(x,1)).reduceByKey(lambda a,b:a+b).filter(lambda x:x[1]>1).map(lambda x:(x[0][0],x[0][1],x[1]))\n",
    "L = edgelist.count()\n",
    "\n",
    "print(\"There are {0} edges on the network.\".format(L))\n",
    "edgelist.toDF().withColumnRenamed(\"_1\",\"src\")\\\n",
    "                         .withColumnRenamed(\"_2\",\"dst\")\\\n",
    "                         .withColumnRenamed(\"_3\",\"weight\").show(517)\n"
   ]
  },
  {
   "cell_type": "code",
   "execution_count": 67,
   "metadata": {
    "deletable": false,
    "editable": false,
    "nbgrader": {
     "cell_type": "code",
     "checksum": "bc8609a94970c0e3cf0c2bd06bac2d1a",
     "grade": true,
     "grade_id": "cell-5382ba44e19655fc",
     "locked": true,
     "points": 0.65,
     "schema_version": 3,
     "solution": false,
     "task": false
    }
   },
   "outputs": [],
   "source": [
    "assert L == 517, \"Incorrect ouput\""
   ]
  },
  {
   "cell_type": "markdown",
   "metadata": {
    "deletable": false,
    "editable": false,
    "nbgrader": {
     "cell_type": "markdown",
     "checksum": "1d74b63c8eed7ef3c59c73554075e8c1",
     "grade": false,
     "grade_id": "cell-5e8643828cf2869d",
     "locked": true,
     "schema_version": 3,
     "solution": false,
     "task": false
    }
   },
   "source": [
    "#### **Parte 4.1.2:** Centralidad de grado"
   ]
  },
  {
   "cell_type": "markdown",
   "metadata": {
    "deletable": false,
    "editable": false,
    "nbgrader": {
     "cell_type": "markdown",
     "checksum": "7a04b2acd6a3183cb9ac2f419ff0ee64",
     "grade": false,
     "grade_id": "cell-9ba26ef00ea8587b",
     "locked": true,
     "schema_version": 3,
     "solution": false,
     "task": false
    }
   },
   "source": [
    "Uno de los descriptores más comunes en el análisis de redes es el grado. El grado cuantifica cuántas aristas están conectadas a cada vértice~s~. En el caso de redes dirigidas como la que acabamos de crear este descriptor está descompuesto en el:\n",
    "- **in degree**: cuantas aristas apuntan al nodo\n",
    "- **out degree**: cuantas aristas salen del nodo\n",
    "\n",
    "Si haces un ranquing de estos valores vais a obtener una medida de centralidad, la [centralidad de grado](https://en.wikipedia.org/wiki/Centrality#Degree_centrality), de cada uno de los nodos.\n",
    "\n",
    "Se os pide que generéis una tabla `outDegree` con la información:\n",
    "- ***screen_name:*** nombre del usuario.\n",
    "- ***outDegree:*** out degree del nodo.\n",
    "\n",
    "Ordenado la tabla por out degree en orden descendente."
   ]
  },
  {
   "cell_type": "code",
   "execution_count": 68,
   "metadata": {
    "deletable": false,
    "nbgrader": {
     "cell_type": "code",
     "checksum": "03650fc79254b488da052ab3cbb96ac4",
     "grade": false,
     "grade_id": "cell-ee617d0c697a3c28",
     "locked": false,
     "schema_version": 3,
     "solution": true,
     "task": false
    }
   },
   "outputs": [
    {
     "name": "stdout",
     "output_type": "stream",
     "text": [
      "+---------------+---------+\n",
      "|    screen_name|outDegree|\n",
      "+---------------+---------+\n",
      "|  antoniobb1953|        3|\n",
      "|    Manudocalin|        3|\n",
      "|     Nacho_JISF|        2|\n",
      "|      Juancarfg|        2|\n",
      "| ALFONSOLODEIRO|        2|\n",
      "|     ArwenPlaza|        2|\n",
      "|     aa21623129|        2|\n",
      "|    RosaMar6254|        2|\n",
      "|       cukianaa|        2|\n",
      "|      ppoleiros|        2|\n",
      "|Migueln53227148|        2|\n",
      "|   merchi_otero|        2|\n",
      "|    Karmaleonic|        2|\n",
      "|      ArmGonGal|        2|\n",
      "|     michiki_ta|        2|\n",
      "|PisandoFuerte10|        2|\n",
      "|      el_partal|        2|\n",
      "|    mariasvilas|        2|\n",
      "|  mariarossa004|        2|\n",
      "|     carrasquem|        2|\n",
      "+---------------+---------+\n",
      "\n"
     ]
    }
   ],
   "source": [
    "sample = tweets.sample(withReplacement=None,fraction=0.01,seed=42)\n",
    "#sample.take(5)\n",
    "#sample.rdd.filter(lambda x:x[4]!=None).map(lambda x:x[6][4]).map(lambda x:(x,1)).reduceByKey(lambda a,b:a+b).takeOrdered(500, key = lambda x: -x[1])\n",
    "#outDegree.limit(20).show()\n",
    "#outDegree_aux=edgelist.map(lambda x:((x[0],x[2]),1)).reduceByKey(lambda a,b:a+b).map(lambda x:(x[0][0],x[1])).sortBy(lambda x:-x[1])\n",
    "#outDegree=outDegree_aux.toDF().withColumnRenamed(\"_1\",\"screen_name\")\\\n",
    "#                        .withColumnRenamed(\"_2\",\"outDegree\")\n",
    "outDegree_aux=edgelist.map(lambda x:(x[0],1)).reduceByKey(lambda a,b:a+b).sortBy(lambda x:-x[1])\n",
    "outDegree=outDegree_aux.toDF().withColumnRenamed(\"_1\",\"screen_name\")\\\n",
    "                        .withColumnRenamed(\"_2\",\"outDegree\")\n",
    "outDegree.limit(20).show()"
   ]
  },
  {
   "cell_type": "code",
   "execution_count": 69,
   "metadata": {
    "deletable": false,
    "editable": false,
    "nbgrader": {
     "cell_type": "code",
     "checksum": "ae6e88f896338c3b6aaf37647411812c",
     "grade": true,
     "grade_id": "cell-c035c05881920745",
     "locked": true,
     "points": 0.375,
     "schema_version": 3,
     "solution": false,
     "task": false
    }
   },
   "outputs": [
    {
     "ename": "AssertionError",
     "evalue": "Incorrect output",
     "output_type": "error",
     "traceback": [
      "\u001b[0;31m---------------------------------------------------------------------------\u001b[0m",
      "\u001b[0;31mAssertionError\u001b[0m                            Traceback (most recent call last)",
      "\u001b[0;32m<ipython-input-69-d7b9c597609a>\u001b[0m in \u001b[0;36m<module>\u001b[0;34m\u001b[0m\n\u001b[1;32m      1\u001b[0m \u001b[0moutput\u001b[0m \u001b[0;34m=\u001b[0m \u001b[0moutDegree\u001b[0m\u001b[0;34m.\u001b[0m\u001b[0mfirst\u001b[0m\u001b[0;34m(\u001b[0m\u001b[0;34m)\u001b[0m\u001b[0;34m\u001b[0m\u001b[0m\n\u001b[0;32m----> 2\u001b[0;31m \u001b[0;32massert\u001b[0m \u001b[0moutput\u001b[0m\u001b[0;34m.\u001b[0m\u001b[0mscreen_name\u001b[0m \u001b[0;34m==\u001b[0m \u001b[0;34m\"Manudocalin\"\u001b[0m \u001b[0;32mand\u001b[0m \u001b[0moutput\u001b[0m\u001b[0;34m.\u001b[0m\u001b[0moutDegree\u001b[0m \u001b[0;34m==\u001b[0m \u001b[0;36m3\u001b[0m\u001b[0;34m,\u001b[0m \u001b[0;34m\"Incorrect output\"\u001b[0m\u001b[0;34m\u001b[0m\u001b[0m\n\u001b[0m",
      "\u001b[0;31mAssertionError\u001b[0m: Incorrect output"
     ]
    }
   ],
   "source": [
    "output = outDegree.first()\n",
    "assert output.screen_name == \"Manudocalin\" and output.outDegree == 3, \"Incorrect output\""
   ]
  },
  {
   "cell_type": "markdown",
   "metadata": {
    "deletable": false,
    "editable": false,
    "nbgrader": {
     "cell_type": "markdown",
     "checksum": "ba07c50047bec31507a5b996879bf08d",
     "grade": false,
     "grade_id": "cell-e346c8c66921c20d",
     "locked": true,
     "schema_version": 3,
     "solution": false,
     "task": false
    }
   },
   "source": [
    "Se os pide ahora que generéis una tabla `inDegree` con la información:\n",
    "- ***screen_name:*** nombre del usuario.\n",
    "- ***inDegree:*** in degree del nodo.\n",
    "\n",
    "Ordenad la tabla por in degree en orden descendente."
   ]
  },
  {
   "cell_type": "code",
   "execution_count": 70,
   "metadata": {
    "deletable": false,
    "nbgrader": {
     "cell_type": "code",
     "checksum": "15ab33812b6984766ed4183e765562c7",
     "grade": false,
     "grade_id": "cell-563978b25aed78d8",
     "locked": false,
     "schema_version": 3,
     "solution": true,
     "task": false
    }
   },
   "outputs": [
    {
     "name": "stdout",
     "output_type": "stream",
     "text": [
      "+---------------+--------+\n",
      "|    screen_name|inDegree|\n",
      "+---------------+--------+\n",
      "|           PSOE|      45|\n",
      "|   ahorapodemos|      37|\n",
      "|         vox_es|      26|\n",
      "|   CiudadanosCs|      26|\n",
      "|      populares|      25|\n",
      "|  Santi_ABASCAL|      18|\n",
      "|Front_Republica|       9|\n",
      "|      JuntsXCat|       9|\n",
      "|  AlbanoDante76|       7|\n",
      "|           KRLS|       6|\n",
      "|sanchezcastejon|       6|\n",
      "|   Esquerra_ERC|       5|\n",
      "|    CastigadorY|       5|\n",
      "|    protestona1|       5|\n",
      "|      XoanXoann|       4|\n",
      "| hermanntertsch|       4|\n",
      "|     rcabrero75|       4|\n",
      "|Pablo_Iglesias_|       4|\n",
      "|       ivanedlm|       4|\n",
      "|   pablocasado_|       4|\n",
      "+---------------+--------+\n",
      "\n"
     ]
    }
   ],
   "source": [
    "sample = tweets.sample(withReplacement=None,fraction=0.01,seed=42)\n",
    "#sample.rdd.filter(lambda x:x[4]!=None).map(lambda x:x[6][4]).map(lambda x:(x,1)).reduceByKey(lambda a,b:a+b).takeOrdered(500, key = lambda x: -x[1])\n",
    "#sample.rdd.filter(lambda x:x[4]!=None).map(lambda x:(x[4][1][4],x[6][4])).map(lambda x:(x,1)).groupByKey().keys().map(lambda x:(x[0],1)).reduceByKey(lambda a,b:a+b).takeOrdered(10, key = lambda x: -x[1])\n",
    "#sample.rdd.filter(lambda x:x[4]!=None).map(lambda x:(x[4][1][4],x[6][4])).map(lambda x:(x,1)).groupByKey().keys().map(lambda x:(x[0],1)).reduceByKey(lambda a,b:a+b).takeOrdered(10, key = lambda x: -x[1])\n",
    "\n",
    "#inDegree.limit(20).show()\n",
    "\n",
    "#outDegree_aux=edgelist.map(lambda x:((x[0],x[2]),1)).reduceByKey(lambda a,b:a+b).map(lambda x:(x[0][0],x[1])).sortBy(lambda x:-x[1])\n",
    "#outDegree=outDegree_aux.toDF().withColumnRenamed(\"_1\",\"screen_name\")\\\n",
    "#                         .withColumnRenamed(\"_2\",\"outDegree\")\n",
    "#outDegree.limit(20).show()\n",
    "\n",
    "inDegree_aux=edgelist.map(lambda x:(x[1],1)).reduceByKey(lambda a,b:a+b).sortBy(lambda x:-x[1])\n",
    "inDegree=inDegree_aux.toDF().withColumnRenamed(\"_1\",\"screen_name\")\\\n",
    "                         .withColumnRenamed(\"_2\",\"inDegree\")\n",
    "inDegree.limit(20).show()"
   ]
  },
  {
   "cell_type": "code",
   "execution_count": 71,
   "metadata": {
    "deletable": false,
    "editable": false,
    "nbgrader": {
     "cell_type": "code",
     "checksum": "607161120c1cafa9617db39a0cc0f09b",
     "grade": true,
     "grade_id": "cell-2e51da2e33a38b88",
     "locked": true,
     "points": 0.375,
     "schema_version": 3,
     "solution": false,
     "task": false
    }
   },
   "outputs": [],
   "source": [
    "output = inDegree.first()\n",
    "assert output.screen_name == \"PSOE\" and output.inDegree == 45, \"Incorrect output\""
   ]
  },
  {
   "cell_type": "markdown",
   "metadata": {
    "deletable": false,
    "editable": false,
    "nbgrader": {
     "cell_type": "markdown",
     "checksum": "54f54cbd33304095254f5a23e3b0771a",
     "grade": false,
     "grade_id": "cell-3090f93808799ac8",
     "locked": true,
     "schema_version": 3,
     "solution": false,
     "task": false
    },
    "toc-hr-collapsed": false
   },
   "source": [
    "### **Part 4.2:** Graphframes"
   ]
  },
  {
   "cell_type": "markdown",
   "metadata": {
    "deletable": false,
    "editable": false,
    "nbgrader": {
     "cell_type": "markdown",
     "checksum": "e1de34563f8c0615a7acf964a310b85c",
     "grade": false,
     "grade_id": "cell-573d4e35edb016e1",
     "locked": true,
     "schema_version": 3,
     "solution": false,
     "task": false
    }
   },
   "source": [
    "Este tipo de estructuras es muy común en muchos datasets y su análisis cada vez se ha vuelto más habitual. Para simplificar las operaciones y el análisis vamos a utilizar una librería específicamente diseñada para trabajar en redes en sistemas distribuidos: [**Graphframes**](https://graphframes.github.io/graphframes/docs/_site/index.html)."
   ]
  },
  {
   "cell_type": "code",
   "execution_count": 72,
   "metadata": {
    "deletable": false,
    "editable": false,
    "nbgrader": {
     "cell_type": "code",
     "checksum": "63565c68dadd69d622904df5c2386da3",
     "grade": false,
     "grade_id": "cell-d7ed2b30adbb608b",
     "locked": true,
     "schema_version": 3,
     "solution": false,
     "task": false
    }
   },
   "outputs": [],
   "source": [
    "import sys\n",
    "pyfiles = str(sc.getConf().get(u'spark.submit.pyFiles')).split(',')\n",
    "sys.path.extend(pyfiles)\n",
    "from graphframes import *"
   ]
  },
  {
   "cell_type": "markdown",
   "metadata": {
    "deletable": false,
    "editable": false,
    "nbgrader": {
     "cell_type": "markdown",
     "checksum": "ad160635d7e0a56d7ff103dc3fd886db",
     "grade": false,
     "grade_id": "cell-4eb5d1ee55df827d",
     "locked": true,
     "schema_version": 3,
     "solution": false,
     "task": false
    }
   },
   "source": [
    "Lo primero que vamos ha hacer es crear un objeto ```GraphFrame``` que contendrà toda la información de la red.\n",
    "\n",
    "En un paso previo ya hemos creado la *edge list* ahora vamos a crear una lista con los vértices. Crear una tabla ```vertices``` que contenga una única columna ```id``` con los nombre de usuario de todos los vértices. Recordad que hay vértices que puede que solo tengan aristas incidentes y otros que puede que no tengan (tenéis que utilizar la información de ambas columnas de la ```edgelist```). Recordad que la lista de vértices es un conjunto donde no puede haber repetición de identificadores."
   ]
  },
  {
   "cell_type": "code",
   "execution_count": 73,
   "metadata": {
    "deletable": false,
    "nbgrader": {
     "cell_type": "code",
     "checksum": "c769e75f0205604516ee772620012060",
     "grade": false,
     "grade_id": "cell-5223320eddb5e2df",
     "locked": false,
     "schema_version": 3,
     "solution": true,
     "task": false
    }
   },
   "outputs": [
    {
     "name": "stdout",
     "output_type": "stream",
     "text": [
      "There are 682 nodes on the network.\n"
     ]
    }
   ],
   "source": [
    "col1=edgelist.map(lambda x:(x[0],1)).reduceByKey(lambda a,b:a+b)\n",
    "col2=edgelist.map(lambda x:(x[1],1)).reduceByKey(lambda a,b:a+b)\n",
    "col3=col1.map(lambda x:x[0])+col2.map(lambda x:x[0])\n",
    "col4=col3.map(lambda x:(x,1)).reduceByKey(lambda a,b:a+b)\n",
    "vertices=col4.toDF().drop(\"_2\").withColumnRenamed(\"_1\",\"id\")\n",
    "#sqlContext.sql(\"DROP TABLE IF EXISTS vertices\")\n",
    "#sqlContext.registerDataFrameAsTable(col4,\"vertices\")\n",
    "#sqlContext.sql(\"SELECT * from vertices\").show()\n",
    "\n",
    "N = vertices.count()\n",
    "print(\"There are {0} nodes on the network.\".format(N))"
   ]
  },
  {
   "cell_type": "code",
   "execution_count": 74,
   "metadata": {
    "deletable": false,
    "editable": false,
    "nbgrader": {
     "cell_type": "code",
     "checksum": "4a05e368d18200e0a1c614536278e525",
     "grade": true,
     "grade_id": "cell-174493e69b3b15ae",
     "locked": true,
     "points": 0.25,
     "schema_version": 3,
     "solution": false,
     "task": false
    }
   },
   "outputs": [],
   "source": [
    "assert N == 682, 'Incorrect output'"
   ]
  },
  {
   "cell_type": "markdown",
   "metadata": {
    "deletable": false,
    "editable": false,
    "nbgrader": {
     "cell_type": "markdown",
     "checksum": "a79c954a9a33e405d9ec9f1e632741e9",
     "grade": false,
     "grade_id": "cell-1bf3c068c7f4d9c6",
     "locked": true,
     "schema_version": 3,
     "solution": false,
     "task": false
    }
   },
   "source": [
    "Al igual que con las aristas, podéis asignar atributos a los vértices. Generad tabla `vertices_extended` combinando la tabla ```vertices``` haciendo un *inner join* por ```id``` con la tabla ```user_info``` guardada en el contexto ```hiveContext```. Ordenad la tabla resultante por followers en orden descendente"
   ]
  },
  {
   "cell_type": "code",
   "execution_count": 76,
   "metadata": {
    "deletable": false,
    "nbgrader": {
     "cell_type": "code",
     "checksum": "ee29a87d4bdf678c73a94b6f1543b82c",
     "grade": false,
     "grade_id": "cell-f9e24aabf014646e",
     "locked": false,
     "schema_version": 3,
     "solution": true,
     "task": false
    }
   },
   "outputs": [
    {
     "name": "stdout",
     "output_type": "stream",
     "text": [
      "+---------------+----+------+------------+---------+---------+\n",
      "|             id|lang|tweets|total_tweets|following|followers|\n",
      "+---------------+----+------+------------+---------+---------+\n",
      "|        el_pais|  es|   880|      478720|      756|  6904062|\n",
      "|Pablo_Iglesias_|  es|   160|       20949|     2831|  2297175|\n",
      "|   ahorapodemos|  es|   858|      100336|     1571|  1381944|\n",
      "|  Albert_Rivera|  es|   122|       54980|     2581|  1127429|\n",
      "|        agarzon|  es|   134|       58265|     1204|  1049193|\n",
      "|sanchezcastejon|  es|   146|       25232|     6126|  1025272|\n",
      "|     eldiarioes|  es|  1082|      196012|      467|   978114|\n",
      "|       iescolar|  es|   266|       75294|     5574|   939790|\n",
      "|     publico_es|  es|   742|      349214|     1471|   934593|\n",
      "|           KRLS|  ca|   129|       18732|     4270|   754475|\n",
      "|      populares|  es|   748|       82229|     4469|   708893|\n",
      "|           PSOE|  es|  1085|       96635|    13644|   680626|\n",
      "|    elperiodico|  es|   521|      399635|    18446|   613042|\n",
      "|         iunida|  es|   586|       96033|    10255|   564099|\n",
      "|   CiudadanosCs|  es|  1359|      130740|    92934|   524129|\n",
      "|     MonederoJC|  es|    78|       13905|      998|   514714|\n",
      "|  InesArrimadas|  es|   107|        3737|     1260|   502455|\n",
      "|revistamongolia|  es|   240|      128199|     3381|   435101|\n",
      "|           COPE|  es|   656|      169877|      161|   367094|\n",
      "|   Esquerra_ERC|  ca|  1256|      111477|    99387|   363474|\n",
      "+---------------+----+------+------------+---------+---------+\n",
      "only showing top 20 rows\n",
      "\n"
     ]
    }
   ],
   "source": [
    "hiveContext = HiveContext(sc)\n",
    "#hiveContext.tables().show()\n",
    "user_info = hiveContext.table(\"default.user_info\")\n",
    "#retweeted=users_agg_new.join(user_retweets, users_agg_new.screen_name==user_retweets.screen_name)\\\n",
    " #           .select(users_agg_new.screen_name, users_agg_new.friends_count, users_agg_new.followers_count, users_agg_new.tweets, user_retweets.retweeted)\\\n",
    "  #          .orderBy(\"retweeted\",ascending=False)\n",
    "vertices_extended=vertices.join(user_info, vertices.id==user_info.id)\\\n",
    "                    .select(vertices.id,user_info.lang,user_info.tweets,\\\n",
    "                    user_info.total_tweets,user_info.following,user_info.followers).orderBy(\"followers\",ascending=False)\n",
    "vertices_extended.show()\n",
    "\n",
    "\n",
    "#.orderBy(\"retweeted\",ascending=False)\n",
    "#.select(users_agg_new.screen_name, users_agg_new.friends_count, users_agg_new.followers_count, users_agg_new.tweets, user_retweets.retweeted)\\\n",
    "#vertices_extended.limit(20).show()"
   ]
  },
  {
   "cell_type": "code",
   "execution_count": 77,
   "metadata": {
    "deletable": false,
    "editable": false,
    "nbgrader": {
     "cell_type": "code",
     "checksum": "477a9a61ef3b1e9998a6d148dbaeb7ad",
     "grade": true,
     "grade_id": "cell-b3fa48a27337ee8b",
     "locked": true,
     "points": 0.075,
     "schema_version": 3,
     "solution": false,
     "task": false
    }
   },
   "outputs": [],
   "source": [
    "output = vertices_extended.first()\n",
    "assert output.id == \"el_pais\" and output.lang == \"es\" and output.followers == 6904062"
   ]
  },
  {
   "cell_type": "markdown",
   "metadata": {
    "deletable": false,
    "editable": false,
    "nbgrader": {
     "cell_type": "markdown",
     "checksum": "974ae43639bef11debc1e8b567f185f8",
     "grade": false,
     "grade_id": "cell-3b15d252aa31f8d5",
     "locked": true,
     "schema_version": 3,
     "solution": false,
     "task": false
    }
   },
   "source": [
    "Una vez tenemos la edgelist y la lista de vértices estamos en disposición de instanciar [un objecto ```GraphFrame```](https://graphframes.github.io/graphframes/docs/_site/api/python/graphframes.html). Instanciad este objeto en la variable ```network```."
   ]
  },
  {
   "cell_type": "code",
   "execution_count": 82,
   "metadata": {
    "deletable": false,
    "nbgrader": {
     "cell_type": "code",
     "checksum": "5ed9389b626938c912b46613a110b2f4",
     "grade": false,
     "grade_id": "cell-e3a653e229dddcb4",
     "locked": false,
     "schema_version": 3,
     "solution": true,
     "task": false
    }
   },
   "outputs": [],
   "source": [
    "#localVertices = [(1,\"A\"), (2,\"B\"), (3, \"C\")]\n",
    "#localEdges = [(1,2,\"love\"), (2,1,\"hate\"), (2,3,\"follow\")]\n",
    "#v = sqlContext.createDataFrame(vertices, \"id\")\n",
    "#e = sqlContext.createDataFrame(edgelist, [\"src\", \"dst\", \"weight\"])\n",
    "#g = GraphFrame(v, e)\n",
    "#v=vertices\n",
    "#e=edgelist.toDF()\n",
    "#g = GraphFrame(v, e)\n",
    "\n",
    "v = vertices\n",
    "e = sqlContext.createDataFrame(edgelist, ['src', 'dst', 'weight'])\n",
    "network = GraphFrame(v, e)"
   ]
  },
  {
   "cell_type": "code",
   "execution_count": 83,
   "metadata": {
    "deletable": false,
    "editable": false,
    "nbgrader": {
     "cell_type": "code",
     "checksum": "a7a4ecc4fd7c58c79e5f0a7e28f82349",
     "grade": true,
     "grade_id": "cell-dc9f7c83382037ae",
     "locked": true,
     "points": 0.075,
     "schema_version": 3,
     "solution": false,
     "task": false
    }
   },
   "outputs": [],
   "source": [
    "assert type(network) == GraphFrame, \"Incorrect answer\""
   ]
  },
  {
   "cell_type": "markdown",
   "metadata": {
    "deletable": false,
    "editable": false,
    "nbgrader": {
     "cell_type": "markdown",
     "checksum": "9ef6632495572d4f23b4aa24c3943e4f",
     "grade": false,
     "grade_id": "cell-7b74e86f41949456",
     "locked": true,
     "schema_version": 3,
     "solution": false,
     "task": false
    }
   },
   "source": [
    "El objeto que acabais de crear tiene muchas atributos y métodos para el analisis de redes [(comprobad el API)](https://graphframes.github.io/graphframes/docs/_site/api/python/graphframes.html). Se os pide que utilizéis el atributo ```inDegrees``` del objeto que acabáis de crear para, conjuntamente con la transformación ```orderBy```, generar una tabla `inDegreeGraph` ordenada descendentemente por grado."
   ]
  },
  {
   "cell_type": "code",
   "execution_count": 92,
   "metadata": {
    "deletable": false,
    "nbgrader": {
     "cell_type": "code",
     "checksum": "3a2edb6f9e9ec058b6aa5c8215050b3f",
     "grade": false,
     "grade_id": "cell-e2800f766932fb2b",
     "locked": false,
     "schema_version": 3,
     "solution": true,
     "task": false
    }
   },
   "outputs": [
    {
     "name": "stdout",
     "output_type": "stream",
     "text": [
      "+---------------+--------+\n",
      "|             id|inDegree|\n",
      "+---------------+--------+\n",
      "|           PSOE|      45|\n",
      "|   ahorapodemos|      37|\n",
      "|   CiudadanosCs|      26|\n",
      "|         vox_es|      26|\n",
      "|      populares|      25|\n",
      "|  Santi_ABASCAL|      18|\n",
      "|Front_Republica|       9|\n",
      "|      JuntsXCat|       9|\n",
      "|  AlbanoDante76|       7|\n",
      "|sanchezcastejon|       6|\n",
      "|           KRLS|       6|\n",
      "|    CastigadorY|       5|\n",
      "|   Esquerra_ERC|       5|\n",
      "|    protestona1|       5|\n",
      "|     rcabrero75|       4|\n",
      "|Pablo_Iglesias_|       4|\n",
      "| AntonioMaestre|       4|\n",
      "|socialistes_cat|       4|\n",
      "|       marubimo|       4|\n",
      "|       ivanedlm|       4|\n",
      "+---------------+--------+\n",
      "\n"
     ]
    }
   ],
   "source": [
    "inDegreeGraph=network.inDegrees.orderBy(\"inDegree\",ascending=False)\n",
    "inDegreeGraph.limit(20).show()"
   ]
  },
  {
   "cell_type": "code",
   "execution_count": 93,
   "metadata": {
    "deletable": false,
    "editable": false,
    "nbgrader": {
     "cell_type": "code",
     "checksum": "d17f1747eb0b3a17e4abbbd5c7687521",
     "grade": true,
     "grade_id": "cell-2de83c2ac5675360",
     "locked": true,
     "points": 0.05,
     "schema_version": 3,
     "solution": false,
     "task": false
    }
   },
   "outputs": [],
   "source": [
    "output = inDegreeGraph.first()\n",
    "assert output.id == \"PSOE\" and output.inDegree == 45, \"Incorrect answer\""
   ]
  },
  {
   "cell_type": "markdown",
   "metadata": {
    "deletable": false,
    "editable": false,
    "nbgrader": {
     "cell_type": "markdown",
     "checksum": "d24598d129ba07cc4443f5b362de140d",
     "grade": false,
     "grade_id": "cell-ca772769d5a97313",
     "locked": true,
     "schema_version": 3,
     "solution": false,
     "task": false
    }
   },
   "source": [
    "Haced lo mismo con el atributo ```outDegrees``` para, conjuntamente con la transformación ```orderBy```, generar una tabla `outDegreeGraph` que contenga la informació del out degree en orden descendente."
   ]
  },
  {
   "cell_type": "code",
   "execution_count": 95,
   "metadata": {
    "deletable": false,
    "nbgrader": {
     "cell_type": "code",
     "checksum": "77e9dcf86ad78877e509a67ae4640866",
     "grade": false,
     "grade_id": "cell-e4623aa725e82ecc",
     "locked": false,
     "schema_version": 3,
     "solution": true,
     "task": false
    }
   },
   "outputs": [
    {
     "name": "stdout",
     "output_type": "stream",
     "text": [
      "+---------------+---------+\n",
      "|             id|outDegree|\n",
      "+---------------+---------+\n",
      "|    Manudocalin|        3|\n",
      "|  antoniobb1953|        3|\n",
      "|     carrasquem|        2|\n",
      "|     Nacho_JISF|        2|\n",
      "|       cukianaa|        2|\n",
      "|    Karmaleonic|        2|\n",
      "|     aa21623129|        2|\n",
      "| lanzarotejesus|        2|\n",
      "| Maria_pilar_ga|        2|\n",
      "|      Juancarfg|        2|\n",
      "|      fatimar56|        2|\n",
      "|     ArwenPlaza|        2|\n",
      "|    RosaMar6254|        2|\n",
      "| ALFONSOLODEIRO|        2|\n",
      "|     mirovira75|        2|\n",
      "|      ppoleiros|        2|\n",
      "|Migueln53227148|        2|\n",
      "|    mariaje1956|        2|\n",
      "|  mariarossa004|        2|\n",
      "|    mariasvilas|        2|\n",
      "+---------------+---------+\n",
      "\n"
     ]
    }
   ],
   "source": [
    "outDegreeGraph=network.outDegrees.orderBy(\"outDegree\",ascending=False)\n",
    "outDegreeGraph.limit(20).show()"
   ]
  },
  {
   "cell_type": "code",
   "execution_count": 96,
   "metadata": {
    "deletable": false,
    "editable": false,
    "nbgrader": {
     "cell_type": "code",
     "checksum": "0805f4f98ce009866b4286ac98107995",
     "grade": true,
     "grade_id": "cell-106c397eb883e5cd",
     "locked": true,
     "points": 0.05,
     "schema_version": 3,
     "solution": false,
     "task": false
    }
   },
   "outputs": [],
   "source": [
    "output = outDegreeGraph.first()\n",
    "assert output.id == \"Manudocalin\" and output.outDegree == 3, \"Incorrect answer\""
   ]
  },
  {
   "cell_type": "markdown",
   "metadata": {
    "deletable": false,
    "editable": false,
    "nbgrader": {
     "cell_type": "markdown",
     "checksum": "f2943b558536f18d0e150226028ee770",
     "grade": false,
     "grade_id": "cell-a7055035515a3473",
     "locked": true,
     "schema_version": 3,
     "solution": false,
     "task": false
    }
   },
   "source": [
    "### **Parte 5:** Preguntas teoricas y conceptuales (1 punto)"
   ]
  },
  {
   "cell_type": "markdown",
   "metadata": {
    "deletable": false,
    "editable": false,
    "nbgrader": {
     "cell_type": "markdown",
     "checksum": "fd074e44cb81cd4c170281bb0b7bf457",
     "grade": false,
     "grade_id": "cell-ddf9ed14b992fcb5",
     "locked": true,
     "schema_version": 3,
     "solution": false,
     "task": false
    }
   },
   "source": [
    "1. Explica las diferencias entre un SGBDR y Apache Hive. (0.3 puntos)"
   ]
  },
  {
   "cell_type": "code",
   "execution_count": 98,
   "metadata": {
    "deletable": false,
    "nbgrader": {
     "cell_type": "code",
     "checksum": "9044783d14fd65858acafba57fb6ae6a",
     "grade": true,
     "grade_id": "cell-119a141af99a15fa",
     "locked": false,
     "points": 0.3,
     "schema_version": 3,
     "solution": true,
     "task": false
    }
   },
   "outputs": [],
   "source": [
    "#¿Qué son?\n",
    "\n",
    "#Un Sistema Gestor de Bases de Datos Relacionales es aquel sistema de bases de datos encargado de guardar y gestionar\n",
    "#datos de forma estructurada usando filas y columnas, siendo el resultado una tabla. Algunos ejemplos son Oracle, SQL server,\n",
    "#y MySQL.\n",
    "#Apache Hive es un sistema de almacenamiento del ecosistema hadoop que utiliza un lenguaje basado en SQL (el Hive Query\n",
    "#Language).\n",
    "\n",
    "#Diferencias:\n",
    "\n",
    "#No todos los SGBDR son distribuidos, Hive sí que lo es.\n",
    "#Mientras que los SGBDR gestionan bases de datos, Hive gestiona almacenes de datos. Por lo que podemos decir que Hive\n",
    "#no és un SGBDR. Cabe tener en cuenta que los SGBDR existían ya en la década de los 70, cuando el problema del almacenamiento\n",
    "#de grandes volúmenes de datos como los generados por las redes sociales no se planteaba. Apache Hive intenta dar una\n",
    "#respuesta a este problema, siendo más eficiente en estos escenarios.\n",
    "#Una consecuencia de este punto es que el máximo tamaño de datos permitido por los SGBDR es inferior al de Hive.\n",
    "#Hive aplica el procedimiento \"schema on read\" para guardar datos, lo que significa que permite trabajar con estos datos\n",
    "#una vez subidos sin necesidad de definir previamente su estructura.\n",
    "#Los SGBDR aplican el procedimiento \"schema on write\", lo que significa que es necesario definir el esquema de los datos\n",
    "#antes de cargarlos y trabajar con ellos.\n",
    "#El \"sechama en read\" es preferible en entornos big data en tanto en cuanto provee flexibilidad para guardar datos\n",
    "#no estructurados o semiestructurados. Además hace más eficiente la subida de grandes volúmenes de datos.\n",
    "#Hive aplica la idea \"write once read many\" lo que significa que los datos una vez guardados son inmutables, facilitando el\n",
    "#estudio de estos en profundidad.\n",
    "#Los SGBDR están diseñados para aplicar el \"read and write many times\", priorizando así la manipulación frente al análisis\n",
    "#profundo de datos.\n",
    "#Los costes necesarios para el aumento de escalabilidad son mayores en los SGBDR."
   ]
  },
  {
   "cell_type": "markdown",
   "metadata": {
    "deletable": false,
    "editable": false,
    "nbgrader": {
     "cell_type": "markdown",
     "checksum": "cb03855b1c0c028726bc3c9338d61ce8",
     "grade": false,
     "grade_id": "cell-ae5423c24c85789a",
     "locked": true,
     "schema_version": 3,
     "solution": false,
     "task": false
    }
   },
   "source": [
    "2. Explica las relaciones que existe entre Apache Hive, su Metastore y HDFS. (0.3 puntos)"
   ]
  },
  {
   "cell_type": "code",
   "execution_count": 1,
   "metadata": {
    "deletable": false,
    "nbgrader": {
     "cell_type": "code",
     "checksum": "912bb6ca7148a9d6dcec0e24935f9503",
     "grade": true,
     "grade_id": "cell-98f14620ab7799d3",
     "locked": false,
     "points": 0.3,
     "schema_version": 3,
     "solution": true,
     "task": false
    }
   },
   "outputs": [],
   "source": [
    "#El metastore de Hive es un servicio que permite almacenar metadatos de las tablas de Hive en una base de datos relacional\n",
    "#como MySQL o PostgreSQL.\n",
    "#Estos metadatos incluyen información como el esquema de las tablas y su localización.\n",
    "#Apache Hive por su parte permite consultar y analizar grandes volúmenes de datos que son almacenados en HDFS.\n",
    "#Hive guarda los metadatos en su metastore y no en HDFS para conseguir una baja latencia en las consultas. En HDFS los procesos\n",
    "#de lectura y escritura son más largos que en el metastore."
   ]
  },
  {
   "cell_type": "markdown",
   "metadata": {
    "deletable": false,
    "editable": false,
    "nbgrader": {
     "cell_type": "markdown",
     "checksum": "4e1e0cbb9231f4bab8904855abbae7fc",
     "grade": false,
     "grade_id": "cell-ba84388421c071b1",
     "locked": true,
     "schema_version": 3,
     "solution": false,
     "task": false
    }
   },
   "source": [
    "3. Realiza una comparativa detallada (entre 5 y 10 lineas) entre Apache Hive e Impala. (0.4 puntos)"
   ]
  },
  {
   "cell_type": "code",
   "execution_count": null,
   "metadata": {
    "deletable": false,
    "nbgrader": {
     "cell_type": "code",
     "checksum": "f4d415e7a1e843a9cee305e82c41da90",
     "grade": true,
     "grade_id": "cell-d386682aee39f2e7",
     "locked": false,
     "points": 0.4,
     "schema_version": 3,
     "solution": true,
     "task": false
    }
   },
   "outputs": [],
   "source": [
    "#Los dos proporcionan motores de consultas basadas en SQL que pueden ser integrados en el ecosistema Hadoop.\n",
    "#Hive sufre el llamado \"cold start\", lo que significa que las consultas son más lentas puesto que en cada una se ejecuta\n",
    "#una tarea MapReduce que requiere un tiempo por parte de los nodos del cluster para ser llevada a cabo. En Imapala esto\n",
    "#no sucede porque no se invoca ninguna tarea MapReduce sino que utiliza procesos que se ejecutan en los nodos\n",
    "#y que consultan directamente sobre HDFS. Las consultas son más rápidas en Impala.\n",
    "#Hive es tolerante a fallos, si una consulta falla se encargará de que la parte de la consulta que queda por procesar sea\n",
    "#reasignada y procesada de nuevo. En Impala, si la ejecución de una consulta falla, se deberá procesar de nuevo.\n",
    "#Impala será por tanto más recomendable en escenarios donde prime la velocidad sobre la fiabilidad. Hive será más útil en\n",
    "#trabajos donde prime la robustez de ejecución frente a la velocidad."
   ]
  }
 ],
 "metadata": {
  "kernelspec": {
   "display_name": "Python 3",
   "language": "python",
   "name": "python3"
  },
  "language_info": {
   "codemirror_mode": {
    "name": "ipython",
    "version": 3
   },
   "file_extension": ".py",
   "mimetype": "text/x-python",
   "name": "python",
   "nbconvert_exporter": "python",
   "pygments_lexer": "ipython3",
   "version": "3.5.2"
  },
  "toc-autonumbering": false,
  "toc-showcode": false,
  "toc-showmarkdowntxt": false,
  "toc-showtags": false
 },
 "nbformat": 4,
 "nbformat_minor": 4
}
